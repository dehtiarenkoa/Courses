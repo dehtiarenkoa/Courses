{
  "nbformat": 4,
  "nbformat_minor": 0,
  "metadata": {
    "colab": {
      "name": "Copy of NeuralNetworks_ComputerVision",
      "provenance": [],
      "collapsed_sections": []
    },
    "kernelspec": {
      "name": "python3",
      "display_name": "Python 3"
    },
    "accelerator": "GPU"
  },
  "cells": [
    {
      "cell_type": "code",
      "metadata": {
        "id": "_kcp_z_c7sFh",
        "colab_type": "code",
        "outputId": "8f74f9cf-a482-4d10-ffe9-0285e739a932",
        "colab": {
          "base_uri": "https://localhost:8080/",
          "height": 54
        }
      },
      "source": [
        "!pip install torch"
      ],
      "execution_count": 0,
      "outputs": [
        {
          "output_type": "stream",
          "text": [
            "Requirement already satisfied: torch in /usr/local/lib/python3.6/dist-packages (1.3.1)\n",
            "Requirement already satisfied: numpy in /usr/local/lib/python3.6/dist-packages (from torch) (1.17.5)\n"
          ],
          "name": "stdout"
        }
      ]
    },
    {
      "cell_type": "code",
      "metadata": {
        "id": "tPB9H4lt8BRn",
        "colab_type": "code",
        "colab": {}
      },
      "source": [
        "import torch"
      ],
      "execution_count": 0,
      "outputs": []
    },
    {
      "cell_type": "code",
      "metadata": {
        "id": "s5fnqQi19vwI",
        "colab_type": "code",
        "outputId": "492d1445-b119-429d-ff90-df9c4b978b7e",
        "colab": {
          "base_uri": "https://localhost:8080/",
          "height": 73
        }
      },
      "source": [
        "torch.zeros([3,4])"
      ],
      "execution_count": 0,
      "outputs": [
        {
          "output_type": "execute_result",
          "data": {
            "text/plain": [
              "tensor([[0., 0., 0., 0.],\n",
              "        [0., 0., 0., 0.],\n",
              "        [0., 0., 0., 0.]])"
            ]
          },
          "metadata": {
            "tags": []
          },
          "execution_count": 2
        }
      ]
    },
    {
      "cell_type": "code",
      "metadata": {
        "id": "QN3R_zMc-Tcl",
        "colab_type": "code",
        "colab": {}
      },
      "source": [
        "a = torch.ones([5,4])\n",
        "b = torch.Tensor([[1,2,3,4],\n",
        "                  [5,6,7,8],\n",
        "                  [9,10,11,12],\n",
        "                  [13,14,15,16],\n",
        "                  [17,18,19,20]])"
      ],
      "execution_count": 0,
      "outputs": []
    },
    {
      "cell_type": "code",
      "metadata": {
        "id": "P1RyXGMSAAaF",
        "colab_type": "code",
        "outputId": "e88f18f3-b4d6-46db-d868-ba1e04290ed4",
        "colab": {
          "base_uri": "https://localhost:8080/",
          "height": 111
        }
      },
      "source": [
        " a % b"
      ],
      "execution_count": 0,
      "outputs": [
        {
          "output_type": "execute_result",
          "data": {
            "text/plain": [
              "tensor([[0., 1., 1., 1.],\n",
              "        [1., 1., 1., 1.],\n",
              "        [1., 1., 1., 1.],\n",
              "        [1., 1., 1., 1.],\n",
              "        [1., 1., 1., 1.]])"
            ]
          },
          "metadata": {
            "tags": []
          },
          "execution_count": 4
        }
      ]
    },
    {
      "cell_type": "code",
      "metadata": {
        "id": "XvKspvonAEH8",
        "colab_type": "code",
        "outputId": "fb95dfc2-8d71-4b6f-c9a6-d692a19641d1",
        "colab": {
          "base_uri": "https://localhost:8080/",
          "height": 36
        }
      },
      "source": [
        "b[0] + a[2]"
      ],
      "execution_count": 0,
      "outputs": [
        {
          "output_type": "execute_result",
          "data": {
            "text/plain": [
              "tensor([2., 3., 4., 5.])"
            ]
          },
          "metadata": {
            "tags": []
          },
          "execution_count": 5
        }
      ]
    },
    {
      "cell_type": "code",
      "metadata": {
        "id": "dt-sKxw7AIM0",
        "colab_type": "code",
        "outputId": "c042364a-edce-4518-d1df-48d771f370be",
        "colab": {
          "base_uri": "https://localhost:8080/",
          "height": 36
        }
      },
      "source": [
        "b[0]"
      ],
      "execution_count": 0,
      "outputs": [
        {
          "output_type": "execute_result",
          "data": {
            "text/plain": [
              "tensor([1., 2., 3., 4.])"
            ]
          },
          "metadata": {
            "tags": []
          },
          "execution_count": 6
        }
      ]
    },
    {
      "cell_type": "code",
      "metadata": {
        "id": "NjAgaYAYAT78",
        "colab_type": "code",
        "outputId": "ed842567-0dd8-4643-dce4-e6bc04374ecd",
        "colab": {
          "base_uri": "https://localhost:8080/",
          "height": 36
        }
      },
      "source": [
        "a[2]"
      ],
      "execution_count": 0,
      "outputs": [
        {
          "output_type": "execute_result",
          "data": {
            "text/plain": [
              "tensor([1., 1., 1., 1.])"
            ]
          },
          "metadata": {
            "tags": []
          },
          "execution_count": 7
        }
      ]
    },
    {
      "cell_type": "code",
      "metadata": {
        "id": "Au6yBH6TAWtk",
        "colab_type": "code",
        "outputId": "c295f592-5cc3-4587-8925-91a170e818f1",
        "colab": {
          "base_uri": "https://localhost:8080/",
          "height": 111
        }
      },
      "source": [
        " a + b\n"
      ],
      "execution_count": 0,
      "outputs": [
        {
          "output_type": "execute_result",
          "data": {
            "text/plain": [
              "tensor([[ 2.,  3.,  4.,  5.],\n",
              "        [ 6.,  7.,  8.,  9.],\n",
              "        [10., 11., 12., 13.],\n",
              "        [14., 15., 16., 17.],\n",
              "        [18., 19., 20., 21.]])"
            ]
          },
          "metadata": {
            "tags": []
          },
          "execution_count": 8
        }
      ]
    },
    {
      "cell_type": "code",
      "metadata": {
        "id": "LZbiDxr1An3M",
        "colab_type": "code",
        "outputId": "4a5883db-e675-43b4-c403-2d111449bd40",
        "colab": {
          "base_uri": "https://localhost:8080/",
          "height": 36
        }
      },
      "source": [
        "a.shape"
      ],
      "execution_count": 0,
      "outputs": [
        {
          "output_type": "execute_result",
          "data": {
            "text/plain": [
              "torch.Size([5, 4])"
            ]
          },
          "metadata": {
            "tags": []
          },
          "execution_count": 9
        }
      ]
    },
    {
      "cell_type": "markdown",
      "metadata": {
        "id": "CCQCOPcUBJx2",
        "colab_type": "text"
      },
      "source": [
        "\n",
        "\n",
        "Реализуйте при помощи pyTorch функцию, которая возвращает сумму (x.sum()) элементов тензора X, строго превышающих значение limit, которое является входным значением алгоритма.\n",
        "\n",
        "Входная матрица: X = torch.tensor([[1, 2, 3], [4, 5, 6], [7, 8, 9]])\n",
        "\n",
        "Sample Input:\n",
        "\n",
        "1\n",
        "\n",
        "Sample Output:\n",
        "\n",
        "tensor(44)\n",
        "\n"
      ]
    },
    {
      "cell_type": "code",
      "metadata": {
        "id": "o59Ri5f1ArEz",
        "colab_type": "code",
        "outputId": "09e3852a-e282-417e-b40f-af80377bef82",
        "colab": {
          "base_uri": "https://localhost:8080/",
          "height": 54
        }
      },
      "source": [
        "\n",
        "x = torch.tensor([[1, 2, 3], [4, 5, 6], [7, 8, 9]])\n",
        "limit = int(input())\n",
        "\n",
        "larger_than_limit_sum = x[x>1].sum()\n",
        "\n",
        "print(larger_than_limit_sum)"
      ],
      "execution_count": 0,
      "outputs": [
        {
          "output_type": "stream",
          "text": [
            "1\n",
            "tensor(44)\n"
          ],
          "name": "stdout"
        }
      ]
    },
    {
      "cell_type": "code",
      "metadata": {
        "id": "IRVjSK3fGsqJ",
        "colab_type": "code",
        "outputId": "ceeab6eb-54b1-4d93-b955-c77cdde4ecbc",
        "colab": {
          "base_uri": "https://localhost:8080/",
          "height": 36
        }
      },
      "source": [
        "torch.cuda.is_available()"
      ],
      "execution_count": 0,
      "outputs": [
        {
          "output_type": "execute_result",
          "data": {
            "text/plain": [
              "True"
            ]
          },
          "metadata": {
            "tags": []
          },
          "execution_count": 3
        }
      ]
    },
    {
      "cell_type": "code",
      "metadata": {
        "id": "yKA1QB2AH8K4",
        "colab_type": "code",
        "outputId": "f1bbefa3-eb63-45f3-8054-2a1d734d7e59",
        "colab": {
          "base_uri": "https://localhost:8080/",
          "height": 36
        }
      },
      "source": [
        "device = torch.device(\"cuda:0\" if torch.cuda.is_available() else \"cpu\" )\n",
        "device"
      ],
      "execution_count": 0,
      "outputs": [
        {
          "output_type": "execute_result",
          "data": {
            "text/plain": [
              "device(type='cuda', index=0)"
            ]
          },
          "metadata": {
            "tags": []
          },
          "execution_count": 4
        }
      ]
    },
    {
      "cell_type": "code",
      "metadata": {
        "id": "0GlrPZeoJDVg",
        "colab_type": "code",
        "outputId": "da8d1ef5-d5ab-4651-86a0-f458d1691904",
        "colab": {
          "base_uri": "https://localhost:8080/",
          "height": 54
        }
      },
      "source": [
        "x = torch.rand([2000,3000])\n",
        "x_cuda = x.to(device)\n",
        "x_cuda\n",
        "%time y = (x-x+x*10)**2"
      ],
      "execution_count": 0,
      "outputs": [
        {
          "output_type": "stream",
          "text": [
            "CPU times: user 12.7 ms, sys: 35.1 ms, total: 47.8 ms\n",
            "Wall time: 48.1 ms\n"
          ],
          "name": "stdout"
        }
      ]
    },
    {
      "cell_type": "code",
      "metadata": {
        "id": "RPdGYTKkKgjO",
        "colab_type": "code",
        "outputId": "117152b1-b020-437a-e039-684a649b7e07",
        "colab": {
          "base_uri": "https://localhost:8080/",
          "height": 54
        }
      },
      "source": [
        "%time y = (x_cuda-x_cuda+x_cuda*10)**2"
      ],
      "execution_count": 0,
      "outputs": [
        {
          "output_type": "stream",
          "text": [
            "CPU times: user 1.9 ms, sys: 321 µs, total: 2.22 ms\n",
            "Wall time: 1.6 ms\n"
          ],
          "name": "stdout"
        }
      ]
    },
    {
      "cell_type": "code",
      "metadata": {
        "id": "ZOInp4gmKokH",
        "colab_type": "code",
        "colab": {}
      },
      "source": [
        "import numpy as np\n",
        "import matplotlib.pyplot as plt"
      ],
      "execution_count": 0,
      "outputs": []
    },
    {
      "cell_type": "code",
      "metadata": {
        "id": "3rEjBQQnBIIZ",
        "colab_type": "code",
        "outputId": "e852fe26-0717-479b-e1ec-921de6173908",
        "colab": {
          "base_uri": "https://localhost:8080/",
          "height": 595
        }
      },
      "source": [
        "x = np.array([0.0, 1.0, 2.0, 3.0,  4.0,  5.0])\n",
        "y = np.array([0.0, 0.8, 0.9, 0.1, -0.8, -1.0])\n",
        "t = np.linspace(x[0] - 1e-3, x[-1] + 1e-3, 300)\n",
        "\n",
        "plt.figure(figsize=(10, 8))\n",
        "plt.scatter(x, y, s=30, c=\"k\")\n",
        "for degree in [0, 1, 2, 6, 25, 45]:\n",
        "    z = np.polyfit(x, y, deg=degree)\n",
        "    p = np.poly1d(z)\n",
        "    plt.plot(t, p(t), alpha=0.5, linewidth=2, label=u\"степень: {}\".format(degree))\n",
        "plt.legend()\n",
        "plt.savefig(\"./interpolate.png\", dpi=300)\n",
        "plt.show()"
      ],
      "execution_count": 0,
      "outputs": [
        {
          "output_type": "stream",
          "text": [
            "/usr/local/lib/python3.6/dist-packages/IPython/core/interactiveshell.py:2882: RankWarning: Polyfit may be poorly conditioned\n",
            "  exec(code_obj, self.user_global_ns, self.user_ns)\n",
            "/usr/local/lib/python3.6/dist-packages/IPython/core/interactiveshell.py:2882: RankWarning: Polyfit may be poorly conditioned\n",
            "  exec(code_obj, self.user_global_ns, self.user_ns)\n",
            "/usr/local/lib/python3.6/dist-packages/IPython/core/interactiveshell.py:2882: RankWarning: Polyfit may be poorly conditioned\n",
            "  exec(code_obj, self.user_global_ns, self.user_ns)\n"
          ],
          "name": "stderr"
        },
        {
          "output_type": "display_data",
          "data": {
            "image/png": "[encoded data removed]",
            "text/plain": [
              "<Figure size 720x576 with 1 Axes>"
            ]
          },
          "metadata": {
            "tags": []
          }
        }
      ]
    },
    {
      "cell_type": "markdown",
      "metadata": {
        "id": "IHGm2Mo2uhVa",
        "colab_type": "text"
      },
      "source": [
        "\n",
        "\n",
        "Реализуйте расчет градиента для функции f(w)=∏i,jloge(loge(wi,j +7))f(w) = \\prod\\limits_{i,j}{log_{e}(log_{e}({w_{i,j} + 7}}))f(w)=i,j∏​loge​(loge​(wi,j​ +7)) в точке w =[[5,10],[1,2]]w = [[5, 10], [1, 2]]w =[[5,10],[1,2]]\n",
        "\n",
        "Подсказка: перемножить все значения функции можно с помощью метода prod\n",
        "\n",
        "Sample Input:\n",
        "\n",
        "anything\n",
        "\n",
        "Sample Output:\n",
        "\n",
        "tensor([[0.0201, 0.0109],\n",
        "        [0.0449, 0.0351]])\n",
        "\n"
      ]
    },
    {
      "cell_type": "code",
      "metadata": {
        "id": "F8bXKrHsBgFm",
        "colab_type": "code",
        "outputId": "c0e34b3a-cadd-4522-9c76-0090893803ad",
        "colab": {
          "base_uri": "https://localhost:8080/",
          "height": 111
        }
      },
      "source": [
        "import torch\n",
        "import math\n",
        "print(math.log(4))\n",
        "\n",
        "device = torch.device(\"cuda:0\" if torch.cuda.is_available() else \"cpu\" )\n",
        "inp = [[5,10],[1,2]]\n",
        "w =  torch.tensor(inp ,dtype=torch.float, requires_grad=True)# put our code here\n",
        "w = w.to(device)\n",
        "w.retain_grad() # or  device=deviceToUse before requires_grad=True\n",
        "print(w)\n",
        "function =  torch.log(torch.log(w+7)).prod()\n",
        "function.backward()\n",
        "\n",
        "print(w.grad)\n"
      ],
      "execution_count": 0,
      "outputs": [
        {
          "output_type": "stream",
          "text": [
            "1.3862943611198906\n",
            "tensor([[ 5., 10.],\n",
            "        [ 1.,  2.]], device='cuda:0', grad_fn=<CopyBackwards>)\n",
            "tensor([[0.0201, 0.0109],\n",
            "        [0.0449, 0.0351]], device='cuda:0')\n"
          ],
          "name": "stdout"
        }
      ]
    },
    {
      "cell_type": "code",
      "metadata": {
        "id": "K9NWn8UOBtlG",
        "colab_type": "code",
        "colab": {}
      },
      "source": [
        "? torch.log"
      ],
      "execution_count": 0,
      "outputs": []
    },
    {
      "cell_type": "markdown",
      "metadata": {
        "id": "hkGRyMFtuquO",
        "colab_type": "text"
      },
      "source": [
        "\n",
        "\n",
        "Реализуйте градиентный спуск для той же функции f(w)=∏i,jloge(loge(wij+7))f(w) = \\prod\\limits_{i,j}{log_{e}(log_{e}({w_{ij} + 7}}))f(w)=i,j∏​loge​(loge​(wij​+7))\n",
        "\n",
        "Пусть начальным приближением будет wt=0 =[[5,10],[1,2]]w^{t=0} = [[5, 10], [1, 2]]wt=0 =[[5,10],[1,2]] , шаг градиентного спуска alpha=0.001alpha=0.001alpha=0.001.\n",
        "\n",
        "Чему будет равен wt=500w^{t=500}wt=500?\n",
        "\n",
        "Sample Input:\n",
        "\n",
        "anything\n",
        "\n",
        "Sample Output:\n",
        "\n",
        "tensor([[4.9900, 9.9948],\n",
        "        [0.9775, 1.9825]], requires_grad=True)\n",
        "\n"
      ]
    },
    {
      "cell_type": "code",
      "metadata": {
        "id": "g8QrAcHCTTCt",
        "colab_type": "code",
        "outputId": "67b88d33-45b1-4e42-f1bc-1377f58afe48",
        "colab": {
          "base_uri": "https://localhost:8080/",
          "height": 54
        }
      },
      "source": [
        "w = torch.tensor([[5., 10.], [1., 2.]], requires_grad=True)\n",
        "alpha = 0.001\n",
        "\n",
        "for _ in range(500):\n",
        "    # it's critical to calculate function inside the loop:\n",
        "    function = (w + 7).log().log().prod()\n",
        "    function.backward()\n",
        "    w.data -= alpha*w.grad # put our code here\n",
        "    # something is missing here!\n",
        "    w.grad.zero_()\n",
        "\n",
        "print(w)"
      ],
      "execution_count": 0,
      "outputs": [
        {
          "output_type": "stream",
          "text": [
            "tensor([[4.9900, 9.9948],\n",
            "        [0.9775, 1.9825]], requires_grad=True)\n"
          ],
          "name": "stdout"
        }
      ]
    },
    {
      "cell_type": "code",
      "metadata": {
        "id": "tTveRe5jvq-W",
        "colab_type": "code",
        "colab": {}
      },
      "source": [
        "#print(function.grad_fn)\n",
        "#print(function.grad_fn.next_functions[0][0]) #and so on- add \".next_functions[0][0] ...\"\"b"
      ],
      "execution_count": 0,
      "outputs": []
    },
    {
      "cell_type": "markdown",
      "metadata": {
        "id": "Lo8q5aj7GMML",
        "colab_type": "text"
      },
      "source": [
        "https://stepik.org/lesson/236466/step/9?unit=208889\n",
        "\n",
        "\n",
        "Перепишите пример, используя torch.optim.SGD\n",
        "\n",
        "Изменился ли ответ?\n",
        "\n",
        "Sample Input:\n",
        "\n",
        "anything\n",
        "\n",
        "Sample Output:\n",
        "\n",
        "tensor([[4.9900, 9.9948],\n",
        "        [0.9775, 1.9825]], requires_grad=True)\n",
        "\n"
      ]
    },
    {
      "cell_type": "code",
      "metadata": {
        "id": "UHGAqkr518BW",
        "colab_type": "code",
        "outputId": "7f9f145e-949a-4cfe-9656-9d04e03928d8",
        "colab": {
          "base_uri": "https://localhost:8080/",
          "height": 54
        }
      },
      "source": [
        "import torch\n",
        "w = torch.tensor([[5., 10.], [1., 2.]], requires_grad=True)\n",
        "alpha = 0.001\n",
        "\n",
        "optimizer = torch.optim.SGD([w], lr = 0.001)\n",
        "\n",
        "def logariphm(variable):\n",
        "  return (w + 7).log().log().prod()\n",
        "\n",
        "def make_gradient_step (function, variable):  \n",
        "    # it's critical to calculate function inside the loop:\n",
        "    function = logariphm(variable)\n",
        "    function.backward()\n",
        "    optimizer.step()\n",
        "    optimizer.zero_grad()\n",
        "for _ in range(500):\n",
        "  make_gradient_step(logariphm,w)\n",
        "\n",
        "\n",
        "print(w)"
      ],
      "execution_count": 0,
      "outputs": [
        {
          "output_type": "stream",
          "text": [
            "tensor([[4.9900, 9.9948],\n",
            "        [0.9775, 1.9825]], requires_grad=True)\n"
          ],
          "name": "stdout"
        }
      ]
    },
    {
      "cell_type": "code",
      "metadata": {
        "id": "5xf4zvpf19KS",
        "colab_type": "code",
        "outputId": "1d148d55-74e7-4afc-c2cd-4e9d3ef7bb05",
        "colab": {
          "base_uri": "https://localhost:8080/",
          "height": 283
        }
      },
      "source": [
        "import matplotlib.pyplot as plt\n",
        "import torch \n",
        "x_train = torch.rand(100)\n",
        "x_train = x_train*20.0 - 10.0\n",
        "y_train = torch.sin(x_train)\n",
        "plt.plot(x_train.numpy(), y_train.numpy(), 'o')\n",
        "plt.title(\"$y=sin(x)$\", loc='right')\n",
        "? plt.title"
      ],
      "execution_count": 0,
      "outputs": [
        {
          "output_type": "display_data",
          "data": {
            "image/png": "[encoded data removed]",
            "text/plain": [
              "<Figure size 432x288 with 1 Axes>"
            ]
          },
          "metadata": {
            "tags": []
          }
        }
      ]
    },
    {
      "cell_type": "code",
      "metadata": {
        "id": "4dj4mRsW72GY",
        "colab_type": "code",
        "outputId": "88750b01-448e-49d2-eced-b22a947cad01",
        "colab": {
          "base_uri": "https://localhost:8080/",
          "height": 281
        }
      },
      "source": [
        "noise = torch.randn(y_train.shape)/5.\n",
        "plt.plot(x_train.numpy(), noise.numpy(),\"o\")\n",
        "plt.axis([-10,10,-1,1])\n",
        "plt.title(\"Gaussian noise\")\n",
        "?torch.randn\n",
        "#print(y_train.shape)"
      ],
      "execution_count": 0,
      "outputs": [
        {
          "output_type": "display_data",
          "data": {
            "image/png": "[encoded data removed]",
            "text/plain": [
              "<Figure size 432x288 with 1 Axes>"
            ]
          },
          "metadata": {
            "tags": []
          }
        }
      ]
    },
    {
      "cell_type": "code",
      "metadata": {
        "id": "dGOQfGbl72va",
        "colab_type": "code",
        "outputId": "1c69f663-e498-41fb-9212-f3cbcc6f23a9",
        "colab": {
          "base_uri": "https://localhost:8080/",
          "height": 315
        }
      },
      "source": [
        "y_train = y_train+ noise\n",
        "plt.plot(x_train.numpy(), y_train.numpy(), 'o')\n",
        "plt.title(\"noisy sin(x)\")\n",
        "plt.xlabel(\"x_train\")\n",
        "plt.ylabel(\"y_train\")"
      ],
      "execution_count": 0,
      "outputs": [
        {
          "output_type": "execute_result",
          "data": {
            "text/plain": [
              "Text(0, 0.5, 'y_train')"
            ]
          },
          "metadata": {
            "tags": []
          },
          "execution_count": 46
        },
        {
          "output_type": "display_data",
          "data": {
            "image/png": "[encoded data removed]",
            "text/plain": [
              "<Figure size 432x288 with 1 Axes>"
            ]
          },
          "metadata": {
            "tags": []
          }
        }
      ]
    },
    {
      "cell_type": "code",
      "metadata": {
        "id": "h5ERARXs73dS",
        "colab_type": "code",
        "outputId": "e43e26e6-5f14-43c6-b9b7-64cc09ffcd16",
        "colab": {
          "base_uri": "https://localhost:8080/",
          "height": 1000
        }
      },
      "source": [
        "x_train.unsqueeze_(1)\n",
        "y_train.unsqueeze_(1)"
      ],
      "execution_count": 0,
      "outputs": [
        {
          "output_type": "execute_result",
          "data": {
            "text/plain": [
              "tensor([[-1.0519],\n",
              "        [-0.6680],\n",
              "        [ 0.2590],\n",
              "        [-0.7844],\n",
              "        [-1.0491],\n",
              "        [-0.4918],\n",
              "        [-0.5970],\n",
              "        [-0.2731],\n",
              "        [ 0.4051],\n",
              "        [ 1.3422],\n",
              "        [ 0.4817],\n",
              "        [ 1.0446],\n",
              "        [ 0.4617],\n",
              "        [-1.3205],\n",
              "        [-0.1028],\n",
              "        [-0.7221],\n",
              "        [ 0.0214],\n",
              "        [ 0.2136],\n",
              "        [ 0.3708],\n",
              "        [-0.8092],\n",
              "        [-0.4388],\n",
              "        [ 0.2258],\n",
              "        [-0.6761],\n",
              "        [ 0.8894],\n",
              "        [-0.3154],\n",
              "        [ 0.5811],\n",
              "        [ 0.0466],\n",
              "        [ 0.1057],\n",
              "        [-0.1957],\n",
              "        [ 0.0495],\n",
              "        [-0.1056],\n",
              "        [-0.9327],\n",
              "        [ 0.8883],\n",
              "        [-0.8282],\n",
              "        [ 0.8937],\n",
              "        [-0.2115],\n",
              "        [-0.2908],\n",
              "        [ 0.8476],\n",
              "        [ 0.6133],\n",
              "        [-0.6388],\n",
              "        [ 0.9373],\n",
              "        [-0.9395],\n",
              "        [ 0.7290],\n",
              "        [ 0.5387],\n",
              "        [-1.0219],\n",
              "        [-0.4435],\n",
              "        [-1.0171],\n",
              "        [-1.0289],\n",
              "        [ 0.7998],\n",
              "        [-0.6125],\n",
              "        [ 0.3633],\n",
              "        [ 0.8584],\n",
              "        [-0.9946],\n",
              "        [ 0.1770],\n",
              "        [-1.1529],\n",
              "        [-0.6198],\n",
              "        [ 1.0934],\n",
              "        [ 0.1547],\n",
              "        [-0.0301],\n",
              "        [ 0.8288],\n",
              "        [-0.9251],\n",
              "        [ 0.1079],\n",
              "        [ 0.7750],\n",
              "        [ 0.7369],\n",
              "        [-0.3787],\n",
              "        [ 0.1136],\n",
              "        [-0.2864],\n",
              "        [ 0.4219],\n",
              "        [ 0.5906],\n",
              "        [-0.7194],\n",
              "        [ 1.1748],\n",
              "        [ 0.6959],\n",
              "        [ 0.8737],\n",
              "        [-1.2560],\n",
              "        [-0.2647],\n",
              "        [-0.8057],\n",
              "        [ 0.3109],\n",
              "        [-0.9771],\n",
              "        [-0.3748],\n",
              "        [-0.1566],\n",
              "        [-0.4678],\n",
              "        [-0.6825],\n",
              "        [-0.5032],\n",
              "        [ 0.8768],\n",
              "        [-0.9803],\n",
              "        [ 0.7370],\n",
              "        [-0.4705],\n",
              "        [-0.7822],\n",
              "        [ 0.5140],\n",
              "        [ 0.5632],\n",
              "        [ 0.6951],\n",
              "        [ 0.3529],\n",
              "        [ 0.2921],\n",
              "        [-0.6916],\n",
              "        [-0.3137],\n",
              "        [ 1.0100],\n",
              "        [-0.5452],\n",
              "        [-0.8234],\n",
              "        [-0.0970],\n",
              "        [ 0.8659]])"
            ]
          },
          "metadata": {
            "tags": []
          },
          "execution_count": 47
        }
      ]
    },
    {
      "cell_type": "code",
      "metadata": {
        "id": "EK0jCK9Z74D5",
        "colab_type": "code",
        "colab": {}
      },
      "source": [
        "?torch.unsqueeze"
      ],
      "execution_count": 0,
      "outputs": []
    },
    {
      "cell_type": "code",
      "metadata": {
        "id": "b50-QVeTBzU7",
        "colab_type": "code",
        "outputId": "ef98683c-54c0-4f2c-9fca-e3e4ba2729e8",
        "colab": {
          "base_uri": "https://localhost:8080/",
          "height": 315
        }
      },
      "source": [
        "x_validation = torch.linspace(-10,10,100)\n",
        "y_validation = torch.sin(x_validation.data)\n",
        "plt.plot(x_validation.numpy(), y_validation.numpy(), 'o')\n",
        "plt.title(\"validation sin(x)\")\n",
        "plt.xlabel(\"x_validation\")\n",
        "plt.ylabel(\"y_validation\")"
      ],
      "execution_count": 0,
      "outputs": [
        {
          "output_type": "execute_result",
          "data": {
            "text/plain": [
              "Text(0, 0.5, 'y_validation')"
            ]
          },
          "metadata": {
            "tags": []
          },
          "execution_count": 49
        },
        {
          "output_type": "display_data",
          "data": {
            "image/png": "[encoded data removed]",
            "text/plain": [
              "<Figure size 432x288 with 1 Axes>"
            ]
          },
          "metadata": {
            "tags": []
          }
        }
      ]
    },
    {
      "cell_type": "code",
      "metadata": {
        "id": "OLFQ3W9yEONr",
        "colab_type": "code",
        "outputId": "4631ea55-28d0-49cb-cd3a-80f12dacae8d",
        "colab": {
          "base_uri": "https://localhost:8080/",
          "height": 1000
        }
      },
      "source": [
        "x_validation.unsqueeze_(1)\n",
        "y_validation.unsqueeze_(1)"
      ],
      "execution_count": 0,
      "outputs": [
        {
          "output_type": "execute_result",
          "data": {
            "text/plain": [
              "tensor([[ 0.5440],\n",
              "        [ 0.3646],\n",
              "        [ 0.1703],\n",
              "        [-0.0308],\n",
              "        [-0.2308],\n",
              "        [-0.4213],\n",
              "        [-0.5947],\n",
              "        [-0.7439],\n",
              "        [-0.8629],\n",
              "        [-0.9467],\n",
              "        [-0.9921],\n",
              "        [-0.9971],\n",
              "        [-0.9615],\n",
              "        [-0.8869],\n",
              "        [-0.7761],\n",
              "        [-0.6338],\n",
              "        [-0.4658],\n",
              "        [-0.2787],\n",
              "        [-0.0804],\n",
              "        [ 0.1213],\n",
              "        [ 0.3180],\n",
              "        [ 0.5017],\n",
              "        [ 0.6651],\n",
              "        [ 0.8014],\n",
              "        [ 0.9051],\n",
              "        [ 0.9720],\n",
              "        [ 0.9994],\n",
              "        [ 0.9861],\n",
              "        [ 0.9327],\n",
              "        [ 0.8414],\n",
              "        [ 0.7158],\n",
              "        [ 0.5612],\n",
              "        [ 0.3837],\n",
              "        [ 0.1906],\n",
              "        [-0.0103],\n",
              "        [-0.2107],\n",
              "        [-0.4026],\n",
              "        [-0.5781],\n",
              "        [-0.7300],\n",
              "        [-0.8523],\n",
              "        [-0.9399],\n",
              "        [-0.9893],\n",
              "        [-0.9985],\n",
              "        [-0.9670],\n",
              "        [-0.8962],\n",
              "        [-0.7889],\n",
              "        [-0.6496],\n",
              "        [-0.4839],\n",
              "        [-0.2984],\n",
              "        [-0.1008],\n",
              "        [ 0.1008],\n",
              "        [ 0.2984],\n",
              "        [ 0.4839],\n",
              "        [ 0.6496],\n",
              "        [ 0.7889],\n",
              "        [ 0.8962],\n",
              "        [ 0.9670],\n",
              "        [ 0.9985],\n",
              "        [ 0.9893],\n",
              "        [ 0.9399],\n",
              "        [ 0.8523],\n",
              "        [ 0.7300],\n",
              "        [ 0.5781],\n",
              "        [ 0.4026],\n",
              "        [ 0.2107],\n",
              "        [ 0.0103],\n",
              "        [-0.1906],\n",
              "        [-0.3837],\n",
              "        [-0.5612],\n",
              "        [-0.7158],\n",
              "        [-0.8414],\n",
              "        [-0.9327],\n",
              "        [-0.9861],\n",
              "        [-0.9994],\n",
              "        [-0.9720],\n",
              "        [-0.9051],\n",
              "        [-0.8014],\n",
              "        [-0.6651],\n",
              "        [-0.5017],\n",
              "        [-0.3180],\n",
              "        [-0.1213],\n",
              "        [ 0.0804],\n",
              "        [ 0.2787],\n",
              "        [ 0.4658],\n",
              "        [ 0.6338],\n",
              "        [ 0.7761],\n",
              "        [ 0.8869],\n",
              "        [ 0.9615],\n",
              "        [ 0.9971],\n",
              "        [ 0.9921],\n",
              "        [ 0.9467],\n",
              "        [ 0.8629],\n",
              "        [ 0.7439],\n",
              "        [ 0.5947],\n",
              "        [ 0.4213],\n",
              "        [ 0.2308],\n",
              "        [ 0.0308],\n",
              "        [-0.1703],\n",
              "        [-0.3646],\n",
              "        [-0.5440]])"
            ]
          },
          "metadata": {
            "tags": []
          },
          "execution_count": 50
        }
      ]
    },
    {
      "cell_type": "code",
      "metadata": {
        "id": "Rt7ubUILEelE",
        "colab_type": "code",
        "colab": {}
      },
      "source": [
        "class SineNet(torch.nn.Module):\n",
        "  def __init__(self, n_hidden_neurons):\n",
        "    super(SineNet, self).__init__()\n",
        "    self.fc1 = torch.nn.Linear(1, n_hidden_neurons)\n",
        "    self.act1 = torch.nn.Sigmoid()\n",
        "    self.fc2 = torch.nn.Linear(n_hidden_neurons, 1)\n",
        "  def forward(self, x):\n",
        "    x = self.fc1(x)\n",
        "    x = self.act1(x)\n",
        "    x = self.fc2(x)\n",
        "    return x\n",
        "sine_net = SineNet(50)"
      ],
      "execution_count": 0,
      "outputs": []
    },
    {
      "cell_type": "code",
      "metadata": {
        "id": "gPJL7fxcKcGU",
        "colab_type": "code",
        "outputId": "6bdb9e1d-d855-4a05-b1aa-f44e60c4d9b0",
        "colab": {
          "base_uri": "https://localhost:8080/",
          "height": 279
        }
      },
      "source": [
        "def predict(net, x, y):\n",
        "  y_pred = net.forward(x)\n",
        "  plt.plot(x.numpy(),y.numpy(),\"o\", label = \"Ground truth\")\n",
        "  plt.plot(x.numpy(),y_pred.data.numpy(),\"o\", c = \"r\", label = \"Prediction\")\n",
        "  plt.legend(loc = \"upper left\")\n",
        "  plt.xlabel(\"$x$\")\n",
        "  plt.ylabel(\"$y$\")\n",
        "predict(sine_net, x_validation, y_validation)"
      ],
      "execution_count": 0,
      "outputs": [
        {
          "output_type": "display_data",
          "data": {
            "image/png": "[encoded data removed]",
            "text/plain": [
              "<Figure size 432x288 with 1 Axes>"
            ]
          },
          "metadata": {
            "tags": []
          }
        }
      ]
    },
    {
      "cell_type": "markdown",
      "metadata": {
        "id": "vJXae9L3NsDO",
        "colab_type": "text"
      },
      "source": [
        "\n",
        "\n",
        "Давайте попрактикуемся с SineNet:\n",
        "\n",
        "1) Добавим еще один fc-слой\n",
        "\n",
        "2) Заменим активацию между слоями на гиперболический тангенс\n",
        "\n",
        "Sample Input:\n",
        "\n",
        "20\n",
        "\n",
        "Sample Output:\n",
        "\n",
        "SineNet(\n",
        "  (fc1): Linear(in_features=1, out_features=20, bias=True)\n",
        "  (act1): Tanh()\n",
        "  (fc2): Linear(in_features=20, out_features=20, bias=True)\n",
        "  (act2): Tanh()\n",
        "  (fc3): Linear(in_features=20, out_features=1, bias=True)\n",
        ")\n",
        "\n"
      ]
    },
    {
      "cell_type": "code",
      "metadata": {
        "id": "FfdkmBAfNqvM",
        "colab_type": "code",
        "outputId": "d80f33fb-2aee-4e47-9206-be31685dced3",
        "colab": {
          "base_uri": "https://localhost:8080/",
          "height": 167
        }
      },
      "source": [
        "import torch\n",
        "\n",
        "\n",
        "class SineNet(torch.nn.Module):\n",
        "    def __init__(self, n_hidden_neurons=20):\n",
        "        super(SineNet, self).__init__()\n",
        "        # put our code here\n",
        "        self.fc1 = torch.nn.Linear(1, n_hidden_neurons, bias=True)\n",
        "        self.act1 = torch.nn.Tanh()\n",
        "        self.fc2 = torch.nn.Linear(n_hidden_neurons, n_hidden_neurons, bias=True)\n",
        "        self.act2 = torch.nn.Tanh()\n",
        "        self.fc3 = torch.nn.Linear(n_hidden_neurons, 1, bias=True)\n",
        "\n",
        "    def forward(self, x):\n",
        "        # put our code here\n",
        "        x = self.fc1(x)\n",
        "        x = self.act1(x)\n",
        "        x = self.fc2(x)\n",
        "        x = self.act2(x)\n",
        "        x = self.fc3(x)    \n",
        "        return x\n",
        "\n",
        "sine_net = SineNet(int(input()))\n",
        "sine_net.forward(torch.Tensor([1.]))\n",
        "\n",
        "print(sine_net)"
      ],
      "execution_count": 0,
      "outputs": [
        {
          "output_type": "stream",
          "text": [
            "30\n",
            "SineNet(\n",
            "  (fc1): Linear(in_features=1, out_features=30, bias=True)\n",
            "  (act1): Tanh()\n",
            "  (fc2): Linear(in_features=30, out_features=30, bias=True)\n",
            "  (act2): Tanh()\n",
            "  (fc3): Linear(in_features=30, out_features=1, bias=True)\n",
            ")\n"
          ],
          "name": "stdout"
        }
      ]
    },
    {
      "cell_type": "code",
      "metadata": {
        "id": "OvurCV8sNtjR",
        "colab_type": "code",
        "colab": {}
      },
      "source": [
        "optimizer = torch.optim.Adam(sine_net.parameters(),lr = 0.01)"
      ],
      "execution_count": 0,
      "outputs": []
    },
    {
      "cell_type": "code",
      "metadata": {
        "id": "ZEkkuK0yNqDM",
        "colab_type": "code",
        "colab": {}
      },
      "source": [
        "def loss(pred, target):\n",
        "  squares = (pred-target)**2\n",
        "  return squares.mean()"
      ],
      "execution_count": 0,
      "outputs": []
    },
    {
      "cell_type": "code",
      "metadata": {
        "id": "Osi8Ce3gMAZo",
        "colab_type": "code",
        "outputId": "1c084a7b-c294-4835-8e7e-db8c138a9ad3",
        "colab": {
          "base_uri": "https://localhost:8080/",
          "height": 279
        }
      },
      "source": [
        "for epoch_index in range(2000):\n",
        "  optimizer.zero_grad()\n",
        "  y_predict = sine_net.forward(x_train)\n",
        "  loss_val = loss(y_predict, y_train)\n",
        "  loss_val.backward()\n",
        "  optimizer.step()\n",
        "\n",
        "predict(sine_net, x_validation, y_validation)"
      ],
      "execution_count": 0,
      "outputs": [
        {
          "output_type": "display_data",
          "data": {
            "image/png": "[encoded data removed]",
            "text/plain": [
              "<Figure size 432x288 with 1 Axes>"
            ]
          },
          "metadata": {
            "tags": []
          }
        }
      ]
    },
    {
      "cell_type": "markdown",
      "metadata": {
        "id": "e0SXTsYuVpOu",
        "colab_type": "text"
      },
      "source": [
        "\n",
        "\n",
        "Обучим нейронную сеть для задачи регрессии:\n",
        "\n",
        "Возьмем более сложную функцию в качестве таргета: y=2xsin(2−x)y=2^x sin(2^{-x})y=2xsin(2−x).\n",
        "\n",
        "Кроме того, мы хотим получить хорошую метрику MAE на валидации: MAE=1l∑i=1l∣y_predi−y_targeti∣{MAE} = {\\frac {1}{l}}\\sum _{i=1}^{l}{|y\\_pred_{i}-{y\\_target_{i}}|}MAE=l1​∑i=1l​∣y_predi​−y_targeti​∣, тогда как знакомая нам MSE выглядит как MSE=1l∑i=1l(y_predi−y_targeti)2{MSE} = {\\frac {1}{l}}\\sum _{i=1}^{l}(y\\_pred_{i}-{y\\_target_{i}})^{2} MSE=l1​∑i=1l​(y_predi​−y_targeti​)2\n",
        "\n",
        "Вот пример того, как нейросеть может отрабатывать на данной функции:![alt text](https://ucarecdn.com/9adeea4b-ed9a-468f-a6d1-2191c1c21e4b/)\n",
        "\n",
        "Данный пример показывает MAE на валидации ~0.021 . Получите метрику не хуже 0.03\n",
        "\n",
        "Что можно варьировать: \n",
        "\n",
        "1) Архитектуру сети\n",
        "\n",
        "2) loss-функцию\n",
        "\n",
        "3) lr оптимизатора\n",
        "\n",
        "4) Количество эпох в обучении\n",
        "\n",
        "Удачи!\n",
        "\n",
        "Sample Input:\n",
        "\n",
        "anything\n",
        "\n",
        "Sample Output:\n",
        "\n",
        "0.03\n",
        "\n"
      ]
    },
    {
      "cell_type": "code",
      "metadata": {
        "id": "ATp7kG_zTSvL",
        "colab_type": "code",
        "outputId": "c9d9eb4c-69f0-43b8-c2eb-c7b4b26de7a3",
        "colab": {
          "base_uri": "https://localhost:8080/",
          "height": 296
        }
      },
      "source": [
        "import matplotlib.pyplot as plt\n",
        "import torch \n",
        "\n",
        "#x_train = torch.rand(100)\n",
        "x_train =  torch.linspace(-10, 5, 100)\n",
        "#x_train = x_train*20.0 - 10.0\n",
        "y_train = 2**(x_train)*torch.sin(2**(-x_train))\n",
        "x_train.unsqueeze_(1)\n",
        "\n",
        "\n",
        "#plt.title(\"$y=sin(x)$\", loc='right')\n",
        "\n",
        "noise = torch.randn(y_train.shape)/20.\n",
        "plt.plot(x_train.numpy(), noise.numpy(),\"o\", c = \"m\", marker=\"o\", label = \"Noise\")\n",
        "plt.axis([-10,5,-0.5,1])\n",
        "plt.title(\"Gaussian noise\")\n",
        "\n",
        "y_train = y_train+ noise\n",
        "plt.plot(x_train.numpy(), y_train.numpy(), 'o', c = \"y\", label = \"Train\", marker=\"v\")\n",
        "y_train.unsqueeze_(1)\n",
        "\n",
        "x_validation = torch.linspace(-10,5,100)\n",
        "y_validation = 2**(x_validation.data)*torch.sin(2**(-x_validation.data))\n",
        "plt.plot(x_validation.numpy(), y_validation.numpy(), 'o', marker=\"s\",ls = \"solid\", c = \"b\", label = \"Validation\")\n",
        "#plt.title(\"validation sin(x)\")\n",
        "plt.xlabel(\"x_validation\")\n",
        "plt.ylabel(\"y_validation\")\n",
        "plt.legend(loc = \"upper left\")\n",
        "\n",
        "x_validation.unsqueeze_(1)\n",
        "y_validation.unsqueeze_(1)\n",
        "\n",
        "class SineNet(torch.nn.Module):\n",
        "    def foo(self):\n",
        "      pass\n",
        "      #return res\n",
        "    def __init__(self, n_hidden_neurons=10):\n",
        "        super(SineNet, self).__init__()\n",
        "        # put our code here\n",
        "        self.fc1 = torch.nn.Linear(1, n_hidden_neurons, bias=True)\n",
        "        self.act1 = torch.nn.Tanh()\n",
        "        self.fc2 = torch.nn.Linear(n_hidden_neurons, n_hidden_neurons, bias=True)\n",
        "        self.act2 = torch.nn.Tanh()\n",
        "        self.fc3 = torch.nn.Linear(n_hidden_neurons, 1, bias=True)\n",
        "\n",
        "    def forward(self, x):\n",
        "        # put our code here\n",
        "        x = self.fc1(x)\n",
        "        x = self.act1(x)\n",
        "        x = self.fc2(x)\n",
        "        x = self.act2(x)\n",
        "        x = self.fc3(x)    \n",
        "        return x\n",
        "\n",
        "sine_net = SineNet()\n",
        "#x_train.unsqueeze_(1)\n",
        "#y_train.unsqueeze_(1)\n",
        "#sine_net.forward(x_train)\n",
        "\n",
        "#print(sine_net)\n",
        "\n",
        "optimizer = torch.optim.Adam(sine_net.parameters(),lr = 0.020)\n",
        "def loss(pred, target):\n",
        "  res = torch.abs(pred-target)  \n",
        "  return res.mean()"
      ],
      "execution_count": 0,
      "outputs": [
        {
          "output_type": "display_data",
          "data": {
            "image/png": "[encoded data removed]",
            "text/plain": [
              "<Figure size 432x288 with 1 Axes>"
            ]
          },
          "metadata": {
            "tags": []
          }
        }
      ]
    },
    {
      "cell_type": "code",
      "metadata": {
        "id": "0p-noyMecCaX",
        "colab_type": "code",
        "outputId": "37149436-7edc-42f2-9527-f4f596bb92cc",
        "colab": {
          "base_uri": "https://localhost:8080/",
          "height": 36
        }
      },
      "source": [
        "for epoch_index in range(257):\n",
        "  optimizer.zero_grad()\n",
        "  y_predict = sine_net.forward(x_train)  \n",
        "  loss_val = loss(y_predict, y_train)\n",
        "  loss_val.backward()\n",
        "  optimizer.step()\n",
        "\n",
        "#plt.plot(x_train.data.numpy(), y_predict.data.numpy(), '^', c = \"r\", label = \"Prediction\")\n",
        "#plt.title(\"$y=sin(x)$\", loc='right')\n",
        "\"\"\"\n",
        "def predict(net, x, y):\n",
        "  y_pred = net.forward(x)\n",
        "  plt.plot(x.numpy(),y.numpy(),\"o\", label = \"Ground truth\")\n",
        "  plt.plot(x.numpy(),y_pred.data.numpy(),\"^\", c = \"r\", label = \"Prediction\")\n",
        "  plt.legend(loc = \"upper left\")\n",
        "  plt.xlabel(\"$x$\")\n",
        "  plt.ylabel(\"$y$\")\n",
        "predict(sine_net, x_validation, y_validation)\n",
        "\"\"\"\n",
        "def metric(pred, target):\n",
        "    return (pred - target).abs().mean()\n",
        "\n",
        "print(metric(sine_net.forward(x_validation), y_validation).item())\n",
        "#metric=0.02794426679611206\n",
        "#n_hidden_neurons=14\n",
        "#epoch_index in range(77)\n",
        "#lr = 0.07"
      ],
      "execution_count": 0,
      "outputs": [
        {
          "output_type": "stream",
          "text": [
            "0.029435208067297935\n"
          ],
          "name": "stdout"
        }
      ]
    },
    {
      "cell_type": "code",
      "metadata": {
        "id": "P-plYtvEUdeI",
        "colab_type": "code",
        "outputId": "e0158a1e-2ac2-4e8f-a9d8-8337c633e313",
        "colab": {
          "base_uri": "https://localhost:8080/",
          "height": 136
        }
      },
      "source": [
        "#was in the task\n",
        "import torch\n",
        "\n",
        "class RegressionNet(torch.nn.Module):\n",
        "    # your code here\n",
        "\n",
        "net = RegressionNet()\n",
        "\n",
        "def target_function(x):\n",
        "    return 2**x * torch.sin(2**-x)\n",
        "\n",
        "# ------Dataset preparation start--------:\n",
        "x_train =  torch.linspace(-10, 5, 100)\n",
        "y_train = target_function(x_train)\n",
        "noise = torch.randn(y_train.shape) / 20.\n",
        "y_train = y_train + noise\n",
        "x_train.unsqueeze_(1)\n",
        "y_train.unsqueeze_(1)\n",
        "\n",
        "x_validation = torch.linspace(-10, 5, 100)\n",
        "y_validation = target_function(x_validation)\n",
        "x_validation.unsqueeze_(1)\n",
        "y_validation.unsqueeze_(1)\n",
        "# ------Dataset preparation end--------:\n",
        "\n",
        "def metric(pred, target):\n",
        "    return (pred - target).abs().mean()\n",
        "\n",
        "optimizer = torch.optim.Adam(net.parameters(), lr=#choose your step#)\n",
        "\n",
        "def loss(pred, target):\n",
        "    # your code here\n",
        "\n",
        "for epoch_index in range(#choose epoches number#):\n",
        "    optimizer.zero_grad()\n",
        "\n",
        "    y_pred = # make forward\n",
        "    loss_value = loss(y_pred, y_train)\n",
        "    # make backward\n",
        "    # make step\n",
        "\n",
        "print(metric(net.forward(x_validation), y_validation).item())"
      ],
      "execution_count": 0,
      "outputs": [
        {
          "output_type": "error",
          "ename": "IndentationError",
          "evalue": "ignored",
          "traceback": [
            "\u001b[0;36m  File \u001b[0;32m\"<ipython-input-19-8970af1b48c0>\"\u001b[0;36m, line \u001b[0;32m6\u001b[0m\n\u001b[0;31m    net = RegressionNet()\u001b[0m\n\u001b[0m      ^\u001b[0m\n\u001b[0;31mIndentationError\u001b[0m\u001b[0;31m:\u001b[0m expected an indented block\n"
          ]
        }
      ]
    },
    {
      "cell_type": "code",
      "metadata": {
        "id": "biGzhQJEcCXB",
        "colab_type": "code",
        "outputId": "0684c708-c8f4-4a75-b1c6-e36be4635c8f",
        "colab": {
          "base_uri": "https://localhost:8080/",
          "height": 36
        }
      },
      "source": [
        "#my variant\n",
        "\n",
        "import torch\n",
        "\n",
        "class RegressionNet(torch.nn.Module):\n",
        "    # your code here\n",
        "    def __init__(self, n_hidden_neurons=10):\n",
        "        super(RegressionNet, self).__init__()\n",
        "        # put our code here\n",
        "        self.fc1 = torch.nn.Linear(1, n_hidden_neurons, bias=True)\n",
        "        self.act1 = torch.nn.Tanh()\n",
        "        self.fc2 = torch.nn.Linear(n_hidden_neurons, n_hidden_neurons, bias=True)\n",
        "        self.act2 = torch.nn.Tanh()\n",
        "        self.fc3 = torch.nn.Linear(n_hidden_neurons, 1, bias=True)\n",
        "\n",
        "    def forward(self, x):\n",
        "        # put our code here\n",
        "        x = self.fc1(x)\n",
        "        x = self.act1(x)\n",
        "        x = self.fc2(x)\n",
        "        x = self.act2(x)\n",
        "        x = self.fc3(x)    \n",
        "        return x\n",
        "\n",
        "net = RegressionNet()\n",
        "\n",
        "def target_function(x):\n",
        "    return 2**x * torch.sin(2**-x)\n",
        "\n",
        "# ------Dataset preparation start--------:\n",
        "x_train =  torch.linspace(-10, 5, 100)\n",
        "y_train = target_function(x_train)\n",
        "noise = torch.randn(y_train.shape) / 20.\n",
        "y_train = y_train + noise\n",
        "x_train.unsqueeze_(1)\n",
        "y_train.unsqueeze_(1)\n",
        "\n",
        "x_validation = torch.linspace(-10, 5, 100)\n",
        "y_validation = target_function(x_validation)\n",
        "x_validation.unsqueeze_(1)\n",
        "y_validation.unsqueeze_(1)\n",
        "# ------Dataset preparation end--------:\n",
        "\n",
        "def metric(pred, target):\n",
        "    return (pred - target).abs().mean()\n",
        "\n",
        "optimizer = torch.optim.Adam(net.parameters(), lr=0.02)#choose your step#)\n",
        "\n",
        "def loss(pred, target):\n",
        "    # your code here\n",
        "    res = torch.abs(pred-target) \n",
        "    return res.mean()\n",
        "\n",
        "for epoch_index in range(257):#choose epoches number#):\n",
        "    optimizer.zero_grad()\n",
        "    y_pred = net.forward(x_train)# make forward\n",
        "    loss_value = loss(y_pred, y_train)\n",
        "    loss_value.backward()# make backward\n",
        "    optimizer.step()# make step\n",
        "\n",
        "print(metric(net.forward(x_validation), y_validation).item())"
      ],
      "execution_count": 0,
      "outputs": [
        {
          "output_type": "stream",
          "text": [
            "0.02521003782749176\n"
          ],
          "name": "stdout"
        }
      ]
    },
    {
      "cell_type": "markdown",
      "metadata": {
        "id": "0ouxOrD_XSIY",
        "colab_type": "text"
      },
      "source": [
        "\n",
        "\n",
        "Фиксирование seed не гарантирует, что код будет одинаково выполняться на разных компьютерах. Но на одной и той же машине вы будете получать одинаковые результаты, перезапуская один и тот же скрипт.\n",
        "\n",
        "Например, функция random.randint(start, end) отдает случайное целое число в диапазоне от start, end (включительно). Запуская скрипт, состоящий из вызова этой функции, вы будете получать разные ответы. \n",
        "\n",
        "В этом задании вам нужно подобрать seed, чтобы функция random.randint(0, 10) выдала число 5\n",
        "\n",
        "PS: надо понимать, что фиксирование random seed не приведет к тому, что повторный вызов random.randint(0, 10) внутри того же скрипта снова даст 5. \n",
        "\n",
        "Sample Input:\n",
        "\n",
        "anything\n",
        "\n",
        "Sample Output:\n",
        "\n",
        "5\n",
        "\n"
      ]
    },
    {
      "cell_type": "code",
      "metadata": {
        "id": "wZmUg5agcCNK",
        "colab_type": "code",
        "outputId": "81c7d9d5-e36d-401f-aa1d-9709a5b5b8c3",
        "colab": {
          "base_uri": "https://localhost:8080/",
          "height": 36
        }
      },
      "source": [
        "import random\n",
        "def search_r(seed):\n",
        "  random.seed(seed)\n",
        "  return random.randint(0, 10)\n",
        "\n",
        "for i in range (100):\n",
        "  res = search_r(i)\n",
        "  if res == 5:\n",
        "    print(i)\n",
        "    break\n",
        "\n"
      ],
      "execution_count": 0,
      "outputs": [
        {
          "output_type": "stream",
          "text": [
            "7\n"
          ],
          "name": "stdout"
        }
      ]
    },
    {
      "cell_type": "code",
      "metadata": {
        "id": "tULIHLhrcCKW",
        "colab_type": "code",
        "colab": {}
      },
      "source": [
        "import torch\n",
        "#?torch.linspace\n",
        "#? torch.randn\n",
        "#?torch.argmax\n",
        "?torch.mul\n",
        "#?torch.mv\n",
        "#?torch.transpose"
      ],
      "execution_count": 0,
      "outputs": []
    },
    {
      "cell_type": "markdown",
      "metadata": {
        "id": "rQCMJzrF_DsU",
        "colab_type": "text"
      },
      "source": [
        "\n",
        "3.6 Семинар: Классификация в PyTorch\n",
        "\n",
        "\n",
        "Код для этого задания находится в репозитории курса(https://github.com/SlinkoIgor/Neural_Networks_and_CV/blob/master/module03_wine_task.ipynb).\n",
        "\n",
        "Давайте попрактикуемся с WineNet. Измените архитектуру так, чтобы на вход принимались все 13 признаков и проведите следующие эксперименты:\n",
        "\n",
        "1. Поэкспериментируйте с количеством нейронов в скрытых слоях. Попробуйте поставить очень маленькое число. Существует ли пороговое значение количества скрытых нейронов, при котором обучение становится невозможным?\n",
        "\n",
        "2. Попробуйте передавать различные значения test_size в функцию train_test_split. При каком значении test_size сеть предсказывает хуже чем Base Rate*? И какой Base Rate у датасета вин?\n",
        "\n",
        "3. Зависит ли время обучения на одной эпохе от размера батча? Исследуйте эту зависимость.\n",
        "\n",
        "Поделитесь своими выводами в комментариях :)\n",
        "\n",
        " \n",
        "\n",
        "*Base Rate - значение accuracy для случая, когда модель для всех объектов предсказывает самый частотный класс в датасете\n",
        "\n",
        "[ Самый многочисленный класс 1, соответсвенно len(wine.target[wine.target == 1]) / len(wine.target),  Base Rate = 0.3988]\n"
      ]
    },
    {
      "cell_type": "code",
      "metadata": {
        "id": "-HpWmFjZcCGq",
        "colab_type": "code",
        "outputId": "c970118a-6d3e-4044-b7d5-f58c4593205b",
        "colab": {
          "base_uri": "https://localhost:8080/",
          "height": 335
        }
      },
      "source": [
        "!nvidia-smi"
      ],
      "execution_count": 0,
      "outputs": [
        {
          "output_type": "stream",
          "text": [
            "Fri Jan 31 21:34:58 2020       \n",
            "+-----------------------------------------------------------------------------+\n",
            "| NVIDIA-SMI 440.44       Driver Version: 418.67       CUDA Version: 10.1     |\n",
            "|-------------------------------+----------------------+----------------------+\n",
            "| GPU  Name        Persistence-M| Bus-Id        Disp.A | Volatile Uncorr. ECC |\n",
            "| Fan  Temp  Perf  Pwr:Usage/Cap|         Memory-Usage | GPU-Util  Compute M. |\n",
            "|===============================+======================+======================|\n",
            "|   0  Tesla T4            Off  | 00000000:00:04.0 Off |                    0 |\n",
            "| N/A   37C    P8     9W /  70W |      0MiB / 15079MiB |      0%      Default |\n",
            "+-------------------------------+----------------------+----------------------+\n",
            "                                                                               \n",
            "+-----------------------------------------------------------------------------+\n",
            "| Processes:                                                       GPU Memory |\n",
            "|  GPU       PID   Type   Process name                             Usage      |\n",
            "|=============================================================================|\n",
            "|  No running processes found                                                 |\n",
            "+-----------------------------------------------------------------------------+\n"
          ],
          "name": "stdout"
        }
      ]
    },
    {
      "cell_type": "markdown",
      "metadata": {
        "id": "-pMiXtaVNWry",
        "colab_type": "text"
      },
      "source": [
        "\n",
        "\n",
        "Как было сказано в предыдущем уроке https://stepik.org/lesson/205548/step/7?unit=179277, полносвязный слой может быть представлен как матричное умножение матрицы входов (X) и матрицы весов нейронов слоя (W), плюс вектор bias'ов слоя (b). \n",
        "\n",
        "В документации https://pytorch.org/docs/stable/nn.html#linear к классу torch.nn.Linear (полносвязному слою) написано следующее: Applies a linear transformation to the incoming data: y=xAT+by = xA^T + by=xAT+b . А здесь – это то, как PyTorch хранит веса слоя. Но чтобы эта матрица совпала с W из предыдущего урока, нужно её сперва транспонировать.\n",
        "\n",
        "Давайте реализуем функциональность torch.nn.Linear и сверим с оригиналом!\n",
        "\n",
        "Пусть у нас будет 1 объект x на входе с двумя компонентами. Его мы передадим в полносвязный слой с 3-мя нейронами и получим, соотсветственно, 3 выхода. После напишем эту же функциональность с помощью матричного умножения. \n",
        "\n",
        "Sample Input:\n",
        "\n",
        "anything\n",
        "\n",
        "Sample Output:\n",
        "\n",
        "tensor([[1, 1, 1]], dtype=torch.uint8)\n",
        "\n"
      ]
    },
    {
      "cell_type": "code",
      "metadata": {
        "id": "8wzKtYJRlud6",
        "colab_type": "code",
        "outputId": "bee2d229-3d83-49a8-a91b-49851fb45a62",
        "colab": {
          "base_uri": "https://localhost:8080/",
          "height": 92
        }
      },
      "source": [
        "import torch\n",
        "\n",
        "# Сперва создадим тензор x:\n",
        "x = torch.tensor([[10., 20.]])\n",
        "\n",
        "# Оригинальный полносвязный слой с 2-мя входами и 3-мя нейронами (выходами):\n",
        "fc = torch.nn.Linear(2, 3)\n",
        "\n",
        "# Веса fc-слоя хранятся в fc.weight, а bias'ы соответственно в fc.bias\n",
        "# fc.weight и fc.bias по умолчанию инициализируются случайными числами\n",
        "\n",
        "# Давайте проставим свои значения в веса и bias'ы:\n",
        "w = torch.tensor([[11., 12.], [21., 22.], [31., 32]])\n",
        "fc.weight.data = w\n",
        "\n",
        "b = torch.tensor([[31., 32., 33.]])\n",
        "fc.bias.data = b\n",
        "\n",
        "# Получим выход fc-слоя:\n",
        "fc_out = fc(x)\n",
        "\n",
        "x2=torch.transpose(x,0,1)\n",
        "w2 = torch.transpose(w,0,1)\n",
        "print(x2.shape)\n",
        "print(w2.shape)\n",
        "# Попробуем теперь получить аналогичные выходы с помощью матричного перемножения:\n",
        "# x * w^T + b\n",
        "## works! fc_out_alternative = torch.mm(x, w2)+b \n",
        "fc_out_alternative = x@torch.t(w)+b\n",
        "print(fc_out_alternative)\n",
        "print(fc_out == fc_out_alternative)"
      ],
      "execution_count": 0,
      "outputs": [
        {
          "output_type": "stream",
          "text": [
            "torch.Size([2, 1])\n",
            "torch.Size([2, 3])\n",
            "tensor([[381., 682., 983.]])\n",
            "tensor([[True, True, True]])\n"
          ],
          "name": "stdout"
        }
      ]
    },
    {
      "cell_type": "markdown",
      "metadata": {
        "id": "n04MMNUpa1Mh",
        "colab_type": "text"
      },
      "source": [
        "\n",
        "\n",
        "В предыдущем шаге мы написали функцию, эмулирующую fc-слой. Проверим, что по ней правильно считается градиент. \n",
        "\n",
        "Функцию backward() в PyTorch можно посчитать только от скалярной функции (выход из такой функции – одно число). Это логично, так как loss-функция выдает всегда одно число. Но fc-слой, который мы проэмулировали, имел 3 выхода. Предлагаем их просуммировать, чтобы получить в итоге скалярную функцию. Заметим, впрочем, что можно было бы выбрать любую агрегирующую операцию, например умножение.\n",
        "\n",
        "Дополните код так, чтобы градиент по весам и смещениям (bias) совпадал с аналогичным градиентом в вашей фунции.\n",
        "\n",
        "Чем обусловлен полученный градиент? Изменится ли он, если мы подадим другие входы или другую инициализацию весов?\n",
        "\n",
        "Sample Input:\n",
        "\n",
        "anything\n",
        "\n",
        "Sample Output:\n",
        "\n",
        "fc_weight_grad: tensor([[10., 20.],\n",
        "        [10., 20.],\n",
        "        [10., 20.]])\n",
        "our_weight_grad: tensor([[10., 20.],\n",
        "        [10., 20.],\n",
        "        [10., 20.]])\n",
        "fc_bias_grad: tensor([[1., 1., 1.]])\n",
        "out_bias_grad: tensor([[1., 1., 1.]])\n",
        "\n"
      ]
    },
    {
      "cell_type": "code",
      "metadata": {
        "id": "qCceeHce_M1Z",
        "colab_type": "code",
        "outputId": "ba584f92-d55d-457f-881c-f3edbc530878",
        "colab": {
          "base_uri": "https://localhost:8080/",
          "height": 167
        }
      },
      "source": [
        "import torch\n",
        "\n",
        "# Сперва создадим тензор x:\n",
        "x = torch.tensor([[10., 20.]])\n",
        "\n",
        "# Оригинальный полносвязный слой с 2-мя входами и 3-мя нейронами (выходами):\n",
        "fc = torch.nn.Linear(2, 3)\n",
        "\n",
        "# Веса fc-слоя хранятся в fc.weight, а bias'ы соответственно в fc.bias\n",
        "# fc.weight и fc.bias по умолчанию инициализируются случайными числами\n",
        "\n",
        "# Давайте проставим свои значения в веса и bias'ы:\n",
        "w = torch.tensor([[11., 12.], [21., 22.], [31., 32]])\n",
        "fc.weight.data = w\n",
        "\n",
        "b = torch.tensor([[31., 32., 33.]])\n",
        "fc.bias.data = b\n",
        "\n",
        "# Получим выход fc-слоя:\n",
        "fc_out = fc(x)\n",
        "# Просуммируем выход fc-слоя, чтобы получить скаляр:\n",
        "fc_out_summed = fc_out.sum()\n",
        "\n",
        "# Посчитаем градиенты формулы fc_out_summed:\n",
        "fc_out_summed.backward()\n",
        "weight_grad = fc.weight.grad\n",
        "bias_grad = fc.bias.grad\n",
        "\n",
        "# Ok, теперь воспроизведем вычисления выше но без fc-слоя:\n",
        "# Проставим, что у \"w\" и \"b\" нужно вычислять градиенты (для fc-слоя это произошло автоматически):\n",
        "w.requires_grad_(True)\n",
        "b.requires_grad_(True)\n",
        "fc_out_alternative = x@torch.t(w)+b\n",
        "# Получим выход нашей формулы:\n",
        "our_formula = fc_out_alternative.sum()#...  SUM{x * w^T + b}\n",
        "\n",
        "# Сделайте backward для нашей формулы:\n",
        "our_formula.backward()\n",
        "\n",
        "print('fc_weight_grad:', weight_grad)\n",
        "print('our_weight_grad:', w.grad)\n",
        "print('fc_bias_grad:', bias_grad)\n",
        "print('our_bias_grad:', b.grad)"
      ],
      "execution_count": 0,
      "outputs": [
        {
          "output_type": "stream",
          "text": [
            "fc_weight_grad: tensor([[10., 20.],\n",
            "        [10., 20.],\n",
            "        [10., 20.]])\n",
            "our_weight_grad: tensor([[10., 20.],\n",
            "        [10., 20.],\n",
            "        [10., 20.]])\n",
            "fc_bias_grad: tensor([[1., 1., 1.]])\n",
            "our_bias_grad: tensor([[1., 1., 1.]])\n"
          ],
          "name": "stdout"
        }
      ]
    },
    {
      "cell_type": "code",
      "metadata": {
        "id": "KvXAPRhdcCAD",
        "colab_type": "code",
        "outputId": "e8107e1a-93a2-49f6-86f1-96efb1127379",
        "colab": {
          "base_uri": "https://localhost:8080/",
          "height": 111
        }
      },
      "source": [
        "fc = torch.nn.Linear(2, 3)\n",
        "print(fc.weight, fc.bias)"
      ],
      "execution_count": 0,
      "outputs": [
        {
          "output_type": "stream",
          "text": [
            "Parameter containing:\n",
            "tensor([[ 0.5517,  0.6174],\n",
            "        [-0.2010, -0.1892],\n",
            "        [ 0.4972,  0.5035]], requires_grad=True) Parameter containing:\n",
            "tensor([-0.1923, -0.4982,  0.3525], requires_grad=True)\n"
          ],
          "name": "stdout"
        }
      ]
    },
    {
      "cell_type": "code",
      "metadata": {
        "id": "LEu93Ma-cB0P",
        "colab_type": "code",
        "colab": {}
      },
      "source": [
        ""
      ],
      "execution_count": 0,
      "outputs": []
    },
    {
      "cell_type": "markdown",
      "metadata": {
        "id": "S7cPkj8oJg3x",
        "colab_type": "text"
      },
      "source": [
        "\n",
        "\n",
        "Подберите размеры паддингов:\n",
        "\n",
        "Sample Input:\n",
        "\n",
        "anything\n",
        "\n",
        "Sample Output:\n",
        "\n",
        "torch.Size([4, 10, 8, 16])\n",
        "torch.Size([4, 10, 8, 16])\n",
        "torch.Size([4, 10, 8, 16])\n",
        "torch.Size([4, 10, 8, 16])\n",
        "torch.Size([4, 10, 8, 16])\n",
        "torch.Size([4, 10, 22, 30])\n",
        "torch.Size([4, 10, 7, 15])\n",
        "torch.Size([4, 10, 9, 17])\n",
        "\n"
      ]
    },
    {
      "cell_type": "code",
      "metadata": {
        "id": "d7ikfWg-Jh6a",
        "colab_type": "code",
        "colab": {}
      },
      "source": [
        "import torch\n",
        "\n",
        "N = 4\n",
        "C = 3\n",
        "C_out = 10\n",
        "H = 8\n",
        "W = 16\n",
        "\n",
        "x = torch.ones((N, C, H, W))\n",
        "out = torch.nn.Conv2d(C, C_out, kernel_size=(3, 3), padding=(1, 1))(x)\n",
        "print(out.shape)  # torch.Size([4, 10, 8, 16])\n",
        "\n",
        "out = torch.nn.Conv2d(C, C_out, kernel_size=(5, 5), padding=(2, 2))(x)\n",
        "print(out.shape)  # torch.Size([4, 10, 8, 16])\n",
        "\n",
        "out = torch.nn.Conv2d(C, C_out, kernel_size=(7, 7), padding=(3, 3))(x)\n",
        "print(out.shape)  # torch.Size([4, 10, 8, 16])\n",
        "\n",
        "out = torch.nn.Conv2d(C, C_out, kernel_size=(9, 9), padding=(4, 4))(x)\n",
        "print(out.shape)  # torch.Size([4, 10, 8, 16])\n",
        "\n",
        "out = torch.nn.Conv2d(C, C_out, kernel_size=(3, 5), padding=(1, 2))(x)\n",
        "print(out.shape)  # torch.Size([4, 10, 8, 16])\n",
        "\n",
        "out = torch.nn.Conv2d(C, C_out, kernel_size=(3, 3), padding=(8, 8))(x)\n",
        "print(out.shape)  # torch.Size([4, 10, 22, 30])\n",
        "#padding=(0, 0))(x) --> torch.Size([4, 10, 6, 14])\n",
        "#padding=(1, 1))(x) --> torch.Size([4, 10, 8, 16])\n",
        "#padding=(4, 4))(x) --> torch.Size([4, 10, 14, 22])\n",
        "#padding=(6, 6))(x) --> torch.Size([4, 10, 18, 26])\n",
        "#padding=(7, 7))(x) --> torch.Size([4, 10, 20, 28])\n",
        "\n",
        "out = torch.nn.Conv2d(C, C_out, kernel_size=(4, 4), padding=(1, 1))(x)\n",
        "print(out.shape)  # torch.Size([4, 10, 7, 15])\n",
        "#padding=(4, 0))(x) --> torch.Size([4, 10, 13, 13])\n",
        "#padding=(0, 1))(x) --> torch.Size([4, 10, 5, 15])\n",
        "#padding=(2, 2))(x) --> torch.Size([4, 10, 9, 17])\n",
        "\n",
        "\n",
        "out = torch.nn.Conv2d(C, C_out, kernel_size=(2, 2), padding=(1, 1))(x)\n",
        "print(out.shape)  # torch.Size([4, 10, 9, 17])\n",
        "#padding=(0, 0))(x) --> torch.Size([4, 10, 7, 15])\n",
        "#padding=(2, 2))(x) --> torch.Size([4, 10, 11, 19])"
      ],
      "execution_count": 0,
      "outputs": []
    },
    {
      "cell_type": "markdown",
      "metadata": {
        "id": "RbK1s-kGIaGH",
        "colab_type": "text"
      },
      "source": [
        "https://stepik.org/lesson/209091/step/15?unit=182640\n",
        "\n",
        "\n",
        "Наверняка, посмотрев лекции, у вас появились идеи о том, как улучшить нашу реализацию LeNet. Мы посвятим этому следующий семинар, но сейчас у вас есть возможность наработать собственную интуицию.\n",
        "\n",
        "Попробуйте добиться качества 0.992  на данном датасете (в максимуме на валидации). Обратите внимание на следующие моменты:\n",
        "\n",
        "    Появляется ли у вас переобучение при увеличении количества эпох?\n",
        "    Как добавление различных слоев влияет на скорость обучения (какие слои быстрее: сверточные или полносвязные)?\n",
        "\n",
        "Помните, что результат обучения может меняться в от запуска к запуску. Проанализируйте дисперсию целевой метрики от запуска к запуску. Сколько запусков достаточно произвести, перед тем как утверждать, что одна архитектура лучше другой?\n",
        "\n",
        "Поделитесь своими выводами в комментариях. Их всегда интересно читать ;)\n"
      ]
    },
    {
      "cell_type": "markdown",
      "metadata": {
        "id": "kUBzULdVvlHL",
        "colab_type": "text"
      },
      "source": [
        "\n",
        "\n",
        "Проверим утверждение про затухание градиента на практике. В документации pytorch можно найти следующие функции активации (самые популярные мы подсветили жирным шрифтом.): \n",
        "\n",
        "ELU, Hardtanh, LeakyReLU, LogSigmoid, PReLU, ReLU, ReLU6, RReLU, SELU, CELU, Sigmoid, Softplus, Softshrink, Softsign, Tanh, Tanhshrink, Hardshrink.\n",
        "\n",
        "Вам предстоит найти активацию, которая приводит к наименьшему затуханию градиента. \n",
        "\n",
        "Для проверки мы сконструируем SimpleNet, которая будет иметь внутри 3 fc-слоя, по 1 нейрону в каждом без bias'ов. Веса этих нейронов мы проинициализируем единицами. На вход в эту сеть будем подавать числа из нормального распределения. Сделаем 200 запусков (NUMBER_OF_EXPERIMENTS) для честного сравнения и посчитаем среднее значение градиента в первом слое. Найдите такую функцию, которая будет давать максимальные значения градиента в первом слое. Все функции активации нужно инициализировать с аргументами по умолчанию (пустыми скобками).\n",
        "\n",
        "Sample Input:\n",
        "\n",
        "11\n",
        "\n",
        "Sample Output:\n",
        "\n",
        "0.737217696905136\n",
        "\n"
      ]
    },
    {
      "cell_type": "code",
      "metadata": {
        "id": "mD5Q7_ZXIfUu",
        "colab_type": "code",
        "outputId": "484ab29d-6a38-4b02-f440-5a1f8616ce74",
        "colab": {
          "base_uri": "https://localhost:8080/",
          "height": 54
        }
      },
      "source": [
        "import torch\n",
        "import numpy as np\n",
        "\n",
        "seed = int(input())\n",
        "np.random.seed(seed)\n",
        "torch.manual_seed(seed)\n",
        "\n",
        "NUMBER_OF_EXPERIMENTS = 200\n",
        "\n",
        "class SimpleNet(torch.nn.Module):\n",
        "    def __init__(self, activation):\n",
        "        super().__init__()\n",
        "\n",
        "        self.activation = activation\n",
        "        self.fc1 = torch.nn.Linear(1, 1, bias=False)  # one neuron without bias\n",
        "        self.fc1.weight.data.fill_(1.)  # init weight with 1\n",
        "        self.fc2 = torch.nn.Linear(1, 1, bias=False)\n",
        "        self.fc2.weight.data.fill_(1.)\n",
        "        self.fc3 = torch.nn.Linear(1, 1, bias=False)\n",
        "        self.fc3.weight.data.fill_(1.)\n",
        "\n",
        "    def forward(self, x):\n",
        "        x = self.activation(self.fc1(x))\n",
        "        x = self.activation(self.fc2(x))\n",
        "        x = self.activation(self.fc3(x))\n",
        "        return x\n",
        "\n",
        "    def get_fc1_grad_abs_value(self):\n",
        "        return torch.abs(self.fc1.weight.grad)\n",
        "\n",
        "def get_fc1_grad_abs_value(net, x):\n",
        "    output = net.forward(x)\n",
        "    output.backward()  # no loss function. Pretending that we want to minimize output\n",
        "                       # In our case output is scalar, so we can calculate backward\n",
        "    fc1_grad = net.get_fc1_grad_abs_value().item()\n",
        "    net.zero_grad()\n",
        "    return fc1_grad\n",
        "\n",
        "activation =  torch.nn.ELU()\n",
        "# Try different activations to get biggest gradient\n",
        "# ex.: torch.nn.Tanh()\n",
        "#Sample Input:11, Sample Output:0.737217696905136\n",
        "#torch.nn.Tanh()=0.16263356336392462\n",
        "#torch.nn.Tanhshrink()=0.03928434865494591\n",
        "#torch.nn.Hardshrink()=0.7372176972031593\n",
        "#torch.nn.Softsign()= 0.06373753062682226\n",
        "#torch.nn.Softshrink()=0.27582467496395113\n",
        "#torch.nn.Softplus()= 0.25866603665519505\n",
        "#torch.nn.Sigmoid()=0.007287326318619307\n",
        "#torch.nn.CELU()=0.46825177246239036\n",
        "#torch.nn.SELU()=0.5993178552016616\n",
        "#torch.nn.RReLU()= 0.420447408013315\n",
        "#torch.nn.ReLU6()= 0.41550331259146334\n",
        "#torch.nn.ReLU()=0.41550331259146334\n",
        "#torch.nn.PReLU()=0.42194642222595574\n",
        "#torch.nn.LogSigmoid()=0.27288243963732384\n",
        "#torch.nn.LeakyReLU()=0.41550372495047694\n",
        "#torch.nn.Hardtanh()=0.30435852320399137\n",
        "#torch.nn.ELU()=0.46825177246239036\n",
        "\n",
        "net = SimpleNet(activation=activation)\n",
        "\n",
        "fc1_grads = []\n",
        "for x in torch.randn((NUMBER_OF_EXPERIMENTS, 1)):\n",
        "    fc1_grads.append(get_fc1_grad_abs_value(net, x))\n",
        "print(np.mean(fc1_grads))"
      ],
      "execution_count": 0,
      "outputs": [
        {
          "output_type": "stream",
          "text": [
            "11\n",
            "0.46825177246239036\n"
          ],
          "name": "stdout"
        }
      ]
    },
    {
      "cell_type": "code",
      "metadata": {
        "id": "U9GtRjDewiBl",
        "colab_type": "code",
        "colab": {}
      },
      "source": [
        ""
      ],
      "execution_count": 0,
      "outputs": []
    }
  ]
}