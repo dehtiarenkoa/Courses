{
 "cells": [
  {
   "cell_type": "markdown",
   "metadata": {},
   "source": [
    "2.2.6\n",
    "небольшое число Фибоначчи\n",
    "--\n",
    "\n",
    "Дано целое число 1≤n≤40 , необходимо вычислить n-е число Фибоначчи \n",
    "(напомним, что F_0=0, F_1=1 и F_n=F_{n-1}+F_{n-2} при n≥2).\n",
    "\n",
    "Sample Input:\n",
    "3\n",
    "Sample Output:\n",
    "2"
   ]
  },
  {
   "cell_type": "code",
   "execution_count": 2,
   "metadata": {},
   "outputs": [
    {
     "name": "stdout",
     "output_type": "stream",
     "text": [
      "3\n",
      "2\n"
     ]
    }
   ],
   "source": [
    "#works\n",
    "def fib(n):\n",
    "    \n",
    "    if n==1:\n",
    "        return 1\n",
    "    elif n==0:\n",
    "        return 0\n",
    "    else: \n",
    "        f = 0            \n",
    "        prelast = 0\n",
    "        last = 1\n",
    "        for i in range(2,n+1):\n",
    "            f =prelast+last \n",
    "            prelast = last\n",
    "            last = f\n",
    "        res = f#fib(n-1)+fib(n-2)\n",
    "        return res\n",
    "\n",
    "    # put your code here\n",
    "\n",
    "def main():\n",
    "    n = int(input())\n",
    "    print(fib(n))\n",
    "\n",
    "\n",
    "if __name__ == \"__main__\":\n",
    "    main()"
   ]
  },
  {
   "cell_type": "markdown",
   "metadata": {},
   "source": [
    "2.2.7\n",
    "последняя цифра большого числа Фибоначчи\n",
    "--\n",
    "\n",
    "Дано число 1≤n≤107, необходимо найти последнюю цифру n-го числа Фибоначчи.\n",
    "\n",
    "Как мы помним, числа Фибоначчи растут очень быстро, поэтому при их вычислении нужно быть аккуратным с переполнением. В данной задаче, впрочем, этой проблемы можно избежать, поскольку нас интересует только последняя цифра числа Фибоначчи: если 0≤a,b≤9  — последние цифры чисел F_i и F_{i+1}соответственно, то (a+b) mod 10  — последняя цифра числа F_{i+2} .\n",
    "\n",
    "\n"
   ]
  },
  {
   "cell_type": "code",
   "execution_count": null,
   "metadata": {},
   "outputs": [],
   "source": [
    "#works\n",
    "def fib_digit(n):\n",
    "    if n==1:\n",
    "        return 1\n",
    "    elif n==0:\n",
    "        return 0\n",
    "    else: \n",
    "        f = 0            \n",
    "        prelast = 0\n",
    "        last = 1\n",
    "        for i in range(2,n+1):\n",
    "            f =(prelast+last)%10 \n",
    "            prelast = last\n",
    "            last = f\n",
    "        res = f#fib(n-1)+fib(n-2)\n",
    "        return res\n",
    "    \n",
    "\n",
    "def main():\n",
    "    n = int(input())\n",
    "    print(fib_digit(n))\n",
    "\n",
    "\n",
    "if __name__ == \"__main__\":\n",
    "    main()"
   ]
  },
  {
   "cell_type": "markdown",
   "metadata": {},
   "source": [
    "2.2.8\n",
    "огромное число Фибоначчи по модулю\n",
    "---\n",
    "\n",
    "Даны целые числа 1≤n≤1018 и 2≤m≤105 , необходимо найти остаток от деления n-го числа Фибоначчи на m."
   ]
  },
  {
   "cell_type": "code",
   "execution_count": null,
   "metadata": {},
   "outputs": [],
   "source": []
  },
  {
   "cell_type": "markdown",
   "metadata": {},
   "source": [
    "2.3.5\n",
    "наибольший общий делитель\n",
    "--\n",
    "\n",
    "По данным двум числам 1≤a,b≤2⋅10^9 1≤a,b≤2⋅10^9 найдите их наибольший общий делитель."
   ]
  },
  {
   "cell_type": "code",
   "execution_count": null,
   "metadata": {},
   "outputs": [],
   "source": [
    "#works\n",
    "def gcd(a, b):\n",
    "    if a==0:\n",
    "        return b\n",
    "    if b==0:\n",
    "        return a\n",
    "    if a==b:\n",
    "        return a\n",
    "    if a>b:\n",
    "        return gcd(a%b,b)\n",
    "    if b>a:\n",
    "        return gcd(b%a,a)\n",
    "    \n",
    "\n",
    "\n",
    "def main():\n",
    "    a, b = map(int, input().split())\n",
    "    print(gcd(a, b))\n",
    "\n",
    "\n",
    "if __name__ == \"__main__\":\n",
    "    main()"
   ]
  },
  {
   "cell_type": "code",
   "execution_count": 3,
   "metadata": {},
   "outputs": [
    {
     "name": "stdout",
     "output_type": "stream",
     "text": [
      "2.8099832782637204\n",
      "2.8818085011357724\n",
      "10.479516371446921\n",
      "275.88015669004955\n",
      "316.22776601683796\n",
      "13979.400086720374\n",
      "1516704.173924289\n",
      "84103196.75493282\n",
      "10000000000\n",
      "108836510811282.69\n",
      "1.8609928418609558e+20\n",
      "1.1173838040692942e+83\n"
     ]
    },
    {
     "ename": "OverflowError",
     "evalue": "(34, 'Result too large')",
     "output_type": "error",
     "traceback": [
      "\u001b[1;31m---------------------------------------------------------------------------\u001b[0m",
      "\u001b[1;31mOverflowError\u001b[0m                             Traceback (most recent call last)",
      "\u001b[1;32m<ipython-input-3-372233e2cbfb>\u001b[0m in \u001b[0;36m<module>\u001b[1;34m\u001b[0m\n\u001b[0;32m     15\u001b[0m \u001b[0mprint\u001b[0m\u001b[1;33m(\u001b[0m\u001b[0mmath\u001b[0m\u001b[1;33m.\u001b[0m\u001b[0mlog\u001b[0m\u001b[1;33m(\u001b[0m\u001b[0mn\u001b[0m\u001b[1;33m,\u001b[0m \u001b[1;36m2\u001b[0m\u001b[1;33m)\u001b[0m \u001b[1;33m**\u001b[0m \u001b[1;33m(\u001b[0m\u001b[0mmath\u001b[0m\u001b[1;33m.\u001b[0m\u001b[0mlog\u001b[0m\u001b[1;33m(\u001b[0m\u001b[0mn\u001b[0m\u001b[1;33m,\u001b[0m \u001b[1;36m2\u001b[0m\u001b[1;33m)\u001b[0m\u001b[1;33m)\u001b[0m\u001b[1;33m)\u001b[0m\u001b[1;33m\u001b[0m\u001b[1;33m\u001b[0m\u001b[0m\n\u001b[0;32m     16\u001b[0m \u001b[0mprint\u001b[0m\u001b[1;33m(\u001b[0m\u001b[0mn\u001b[0m \u001b[1;33m**\u001b[0m \u001b[1;33m(\u001b[0m\u001b[0mmath\u001b[0m\u001b[1;33m.\u001b[0m\u001b[0mlog\u001b[0m\u001b[1;33m(\u001b[0m\u001b[0mn\u001b[0m\u001b[1;33m,\u001b[0m \u001b[1;36m2\u001b[0m\u001b[1;33m)\u001b[0m\u001b[1;33m)\u001b[0m\u001b[1;33m)\u001b[0m\u001b[1;33m\u001b[0m\u001b[1;33m\u001b[0m\u001b[0m\n\u001b[1;32m---> 17\u001b[1;33m \u001b[0mprint\u001b[0m\u001b[1;33m(\u001b[0m\u001b[0mn\u001b[0m \u001b[1;33m**\u001b[0m \u001b[1;33m(\u001b[0m\u001b[0mmath\u001b[0m\u001b[1;33m.\u001b[0m\u001b[0msqrt\u001b[0m\u001b[1;33m(\u001b[0m\u001b[0mn\u001b[0m\u001b[1;33m)\u001b[0m\u001b[1;33m)\u001b[0m\u001b[1;33m)\u001b[0m\u001b[1;33m\u001b[0m\u001b[1;33m\u001b[0m\u001b[0m\n\u001b[0m\u001b[0;32m     18\u001b[0m \u001b[0mprint\u001b[0m\u001b[1;33m(\u001b[0m\u001b[1;36m2\u001b[0m \u001b[1;33m**\u001b[0m \u001b[0mn\u001b[0m\u001b[1;33m)\u001b[0m\u001b[1;33m\u001b[0m\u001b[1;33m\u001b[0m\u001b[0m\n\u001b[0;32m     19\u001b[0m \u001b[0mprint\u001b[0m\u001b[1;33m(\u001b[0m\u001b[1;36m4\u001b[0m \u001b[1;33m**\u001b[0m \u001b[0mn\u001b[0m\u001b[1;33m)\u001b[0m\u001b[1;33m\u001b[0m\u001b[1;33m\u001b[0m\u001b[0m\n",
      "\u001b[1;31mOverflowError\u001b[0m: (34, 'Result too large')"
     ]
    }
   ],
   "source": [
    "#2.4.10\n",
    "import math\n",
    "n=100000\n",
    "\n",
    "print(math.log(math.log(n, 2)))\n",
    "print(math.sqrt(math.log(n, 4)))\n",
    "print(math.log(n, 3))\n",
    "print(math.log(n, 2) ** 2)\n",
    "print(math.sqrt(n))\n",
    "print(n / math.log(n, 5))\n",
    "print(math.log(math.factorial(n),2))\n",
    "print(3 ** math.log(n, 2))\n",
    "print(n ** 2)\n",
    "print(7 ** (math.log(n, 2)))\n",
    "print(math.log(n, 2) ** (math.log(n, 2)))\n",
    "print(n ** (math.log(n, 2)))\n",
    "print(n ** (math.sqrt(n)))\n",
    "print(2 ** n)\n",
    "print(4 ** n)\n",
    "print(2 ** (3 * n))\n",
    "#print(math.factorial(n))"
   ]
  },
  {
   "cell_type": "code",
   "execution_count": null,
   "metadata": {},
   "outputs": [],
   "source": [
    "from functools import lru_cache\n",
    "\n",
    "@lru_cache(maxsize=None)\n",
    "def fib(n):\n",
    "    if n < 2:\n",
    "        return n\n",
    "    return fib(n-1) + fib(n-2)"
   ]
  },
  {
   "cell_type": "code",
   "execution_count": null,
   "metadata": {},
   "outputs": [],
   "source": [
    "#https://stepik.org/lesson/13236/step/4?discussion=480298&unit=3422\n",
    "from functools import lru_cache\n",
    "\n",
    "def memo(f):\n",
    "    cache = {}\n",
    "    def inner(n):\n",
    "        if n not in cache:\n",
    "            cache[n] = f(n)\n",
    "        return cache[n]\n",
    "    return inner\n",
    "\n",
    "@memo # ИЛИ также можно заменить эту строчку на @lru_cache(maxsize=None) \n",
    "def fib1(n):\n",
    "    assert n >= 0\n",
    "    return n if n <= 1 else fib1(n - 1) + fib1(n - 2)"
   ]
  },
  {
   "cell_type": "code",
   "execution_count": null,
   "metadata": {},
   "outputs": [],
   "source": [
    "def fib3(n):\n",
    "    assert n>=0\n",
    "    f0, f1 = 0, 1\n",
    "    for i in range(n-1):\n",
    "        f0, f1 = f1, f0+f1\n",
    "    return f1"
   ]
  },
  {
   "cell_type": "markdown",
   "metadata": {},
   "source": [
    "покрыть отрезки точками\n",
    "--\n",
    "\n",
    "По данным n отрезкам необходимо найти множество точек минимального размера, для которого каждый из отрезков содержит хотя бы одну из точек.\n",
    "\n",
    "В первой строке дано число 1≤n≤100 отрезков. Каждая из последующих n  строк содержит по два числа 0≤l≤r≤109 , задающих начало и конец отрезка. Выведите оптимальное число m точек и сами m точек. Если таких множеств точек несколько, выведите любое из них.\n",
    "\n",
    "Sample Input 1:\n",
    "3\n",
    "1 3\n",
    "2 5\n",
    "3 6\n",
    "Sample Output 1:\n",
    "1\n",
    "3 \n",
    "\n",
    "Sample Input 2:\n",
    "4\n",
    "4 7\n",
    "1 3\n",
    "2 5\n",
    "5 6\n",
    "Sample Output 2:\n",
    "2\n",
    "3 6 "
   ]
  },
  {
   "cell_type": "code",
   "execution_count": 3,
   "metadata": {},
   "outputs": [
    {
     "name": "stdout",
     "output_type": "stream",
     "text": [
      "3\n",
      "1 3\n",
      "2 5\n",
      "3 6\n",
      "3\n"
     ]
    }
   ],
   "source": [
    "#wrong  understanding\n",
    "from collections import deque\n",
    "n = int(input())\n",
    "li = []\n",
    "segments = []\n",
    "d = deque([],n)\n",
    "        \n",
    "for i in range(n):\n",
    "    s = input().split()        \n",
    "    left = int(s[0])\n",
    "    right = int(s[1])\n",
    "    li.append((left,right))\n",
    "    segments.append([left,right])\n",
    "\n",
    "for left,right in li:    \n",
    "    i = 0\n",
    "    flag = 0\n",
    "    while i<len(segments):\n",
    "        if (segments[i][0]>=left and segments[i][0]<=right):\n",
    "            segments[i][0] = left\n",
    "            flag = 1\n",
    "        elif segments[i][1]<=right and segments[i][1]>=left:\n",
    "            segments[i][1] = right\n",
    "            flag = 1\n",
    "        i+=1\n",
    "    if not flag:\n",
    "        segments.append([left,right]) \n",
    "print(len(segments))\n",
    "print(len(segments))"
   ]
  },
  {
   "cell_type": "code",
   "execution_count": 8,
   "metadata": {
    "scrolled": false
   },
   "outputs": [
    {
     "name": "stdout",
     "output_type": "stream",
     "text": [
      "4\n",
      "4 7\n",
      "1 3\n",
      "2 5\n",
      "5 6\n",
      "1\n",
      "5 "
     ]
    }
   ],
   "source": [
    "#wrong understanding\n",
    "from collections import deque\n",
    "n = int(input())\n",
    "li = []\n",
    "segments = []\n",
    "d = deque([],n)\n",
    "a = -1#left\n",
    "b = -1#right\n",
    "res = -1\n",
    "        \n",
    "for i in range(n):\n",
    "    s = input().split()        \n",
    "    left = int(s[0])\n",
    "    right = int(s[1])\n",
    "    li.append((left,right))\n",
    "    \n",
    "for left, right in li:    \n",
    "    if a == -1:\n",
    "        a = left\n",
    "        b = right\n",
    "    else:\n",
    "#         if (left<a and right<a) or (left>b and right>b):\n",
    "#             res = 0\n",
    "#             break        \n",
    "        if left<a and right>=a:\n",
    "            #a = left\n",
    "            b = right if right<b else b\n",
    "        if right>b and left<=b:\n",
    "            #b = right\n",
    "            a = left if left>a else a\n",
    "if res!=0:\n",
    "    res = b-a+1\n",
    "    print(res)\n",
    "    [print(i, end = \" \") for i in range (a, b+1)]\n",
    "else:\n",
    "    print(res)"
   ]
  },
  {
   "cell_type": "code",
   "execution_count": null,
   "metadata": {},
   "outputs": [],
   "source": [
    "#Failed test #3 of 15. got: 63 expected: 43\n",
    "from collections import deque\n",
    "n = int(input())\n",
    "li = []\n",
    "segments = []\n",
    "d = deque([],n)\n",
    "#a = -1#left\n",
    "#b = -1#right\n",
    "res = -1\n",
    "ab = []\n",
    "#b = []\n",
    "        \n",
    "for i in range(n):\n",
    "    s = input().split()        \n",
    "    left = int(s[0])\n",
    "    right = int(s[1])\n",
    "    li.append((left,right))\n",
    "    ab.append([left,right])    \n",
    "        \n",
    "for left, right in li:    \n",
    "    modified = 0\n",
    "    for j in range(len(ab)):\n",
    "        if left<ab[j][0] and right>=ab[j][0]:            \n",
    "            ab[j][1] = right if right<ab[j][1] else ab[j][1]\n",
    "            modified = 1\n",
    "        if right>ab[j][1] and left<=ab[j][1]:            \n",
    "            ab[j][0] = left if left>ab[j][0] else ab[j][0]\n",
    "            modified = 1\n",
    "    if modified == 0:\n",
    "        ab.append([left,right])\n",
    "\n",
    "ab = [(i[0],i[1]) for i in ab]\n",
    "g = set(ab)\n",
    "ab = list(g)        \n",
    "if ab:\n",
    "    res = len(ab)\n",
    "    print(res)\n",
    "    [print(i[0], end = \" \") for i in ab]\n",
    "        \n",
    "else:\n",
    "    print(\"0\")"
   ]
  },
  {
   "cell_type": "code",
   "execution_count": 1,
   "metadata": {
    "scrolled": true
   },
   "outputs": [
    {
     "name": "stdout",
     "output_type": "stream",
     "text": [
      "3\n",
      "1 2\n",
      "3 4\n",
      "0 5\n",
      "0 [1, 2] 1 2\n",
      "0 [1, 2] 3 4\n",
      "0 [3, 4] 3 4\n",
      "0 [1, 2] 0 5\n",
      "3\n",
      "1 3 0 "
     ]
    }
   ],
   "source": [
    "#Failed test #3 of 15. got: 63 expected: 43\n",
    "from collections import deque\n",
    "n = int(input())\n",
    "li = []\n",
    "segments = []\n",
    "d = deque([],n)\n",
    "#a = -1#left\n",
    "#b = -1#right\n",
    "res = -1\n",
    "ab = []\n",
    "#b = []\n",
    "        \n",
    "for i in range(n):\n",
    "    s = input().split()        \n",
    "    left = int(s[0])\n",
    "    right = int(s[1])\n",
    "    li.append((left,right))\n",
    "    ab.append([left,right,0])    \n",
    "        \n",
    "for left, right in li:    \n",
    "    modified = 0\n",
    "    for j in range(len(ab)):\n",
    "        print(modified, ab[j], left, right)\n",
    "        #modified = 0\n",
    "        if left<ab[j][0] and right>=ab[j][0]:            \n",
    "            ab[j][1] = right if right<ab[j][1] else ab[j][1]\n",
    "            if right>ab[j][1] and left<=ab[j][1]:\n",
    "                ab[j][0] = left if left>ab[j][0] else ab[j][0]\n",
    "            modified = 1\n",
    "            break\n",
    "        if right>ab[j][1] and left<=ab[j][1]:            \n",
    "            ab[j][0] = left if left>ab[j][0] else ab[j][0]            \n",
    "            if left<ab[j][0] and right>=ab[j][0]:   \n",
    "                ab[j][1] = right if right<ab[j][1] else ab[j][1]\n",
    "            modified = 1\n",
    "            break\n",
    "        if left>=ab[j][0] and right<=ab[j][1]:  \n",
    "            modified = 1\n",
    "            break\n",
    "    if modified == 0:\n",
    "        print(left,right,ab)\n",
    "        ab.append([left,right])\n",
    "        break\n",
    "\n",
    "ab = [(i[0],i[1]) for i in ab]\n",
    "g = set(ab)\n",
    "ab = list(g)        \n",
    "if ab:\n",
    "    res = len(ab)\n",
    "    print(res)\n",
    "    [print(i[0], end = \" \") for i in ab]\n",
    "        \n",
    "else:\n",
    "    print(\"0\")\n",
    "#[print(i, end = \" \") for i in range (a, b+1)]\n"
   ]
  },
  {
   "cell_type": "code",
   "execution_count": null,
   "metadata": {},
   "outputs": [],
   "source": [
    "#\n",
    "from collections import deque\n",
    "n = int(input())\n",
    "li = []\n",
    "segments = []\n",
    "d = deque([],n)\n",
    "#a = -1#left\n",
    "#b = -1#right\n",
    "res = -1\n",
    "ab = []\n",
    "#b = []\n",
    "        \n",
    "for i in range(n):\n",
    "    s = input().split()        \n",
    "    left = int(s[0])\n",
    "    right = int(s[1])\n",
    "    li.append((left,right))\n",
    "    ab.append([left,right])    \n",
    "        \n",
    "for left, right in li:    \n",
    "    modified = 0\n",
    "    for j in range(len(ab)):\n",
    "        if left<ab[j][0] and right>=ab[j][0]:            \n",
    "            ab[j][1] = right if right<ab[j][1] else ab[j][1]\n",
    "            modified = 1\n",
    "        if right>ab[j][1] and left<=ab[j][1]:            \n",
    "            ab[j][0] = left if left>ab[j][0] else ab[j][0]\n",
    "            modified = 1\n",
    "    if modified == 0:\n",
    "        ab.append([left,right])\n",
    "\n",
    "ab = [(i[0],i[1]) for i in ab]\n",
    "g = set(ab)\n",
    "ab = list(g)        \n",
    "if ab:\n",
    "    res = len(ab)\n",
    "    print(res)\n",
    "    [print(i[0], end = \" \") for i in ab]\n",
    "        \n",
    "else:\n",
    "    print(\"0\")"
   ]
  },
  {
   "cell_type": "code",
   "execution_count": null,
   "metadata": {},
   "outputs": [],
   "source": [
    "# Failed test #3 of 15. segment #10 is not covered\n",
    "\n",
    "#not finished\n",
    "from collections import deque\n",
    "n = int(input())\n",
    "li = []\n",
    "segments = []\n",
    "d = deque([],n)\n",
    "#a = -1#left\n",
    "#b = -1#right\n",
    "res = -1\n",
    "ab = []\n",
    "#b = []\n",
    "        \n",
    "for i in range(n):\n",
    "    s = input().split()        \n",
    "    left = int(s[0])\n",
    "    right = int(s[1])\n",
    "    li.append((left,right))\n",
    "ab.append([left,right])    \n",
    "        \n",
    "for left, right in li:    \n",
    "    modified = 0\n",
    "    flag = 0\n",
    "    for j in range(len(ab)):        \n",
    "        if left<ab[j][0] and right>=ab[j][0]:            \n",
    "            ab[j][1] = right if right<ab[j][1] else ab[j][1]\n",
    "            modified = 1\n",
    "        if right>ab[j][1] and left<=ab[j][1]:            \n",
    "            ab[j][0] = left if left>ab[j][0] else ab[j][0]\n",
    "            modified = 1\n",
    "        if left>=ab[j][0] and right<=ab[j][1]: \n",
    "            flag = 1\n",
    "    if modified == 0 and not flag:\n",
    "        ab.append([left,right])\n",
    "\n",
    "ab = [(i[0],i[1]) for i in ab]\n",
    "g = set(ab)\n",
    "ab = list(g)        \n",
    "if ab:\n",
    "    res = len(ab)\n",
    "    print(res)\n",
    "    [print(i[0], end = \" \") for i in ab]\n",
    "        \n",
    "else:\n",
    "    print(\"0\")"
   ]
  },
  {
   "cell_type": "code",
   "execution_count": 48,
   "metadata": {},
   "outputs": [
    {
     "data": {
      "text/plain": [
       "[(1, 2), (3, 4), (0, 5)]"
      ]
     },
     "execution_count": 48,
     "metadata": {},
     "output_type": "execute_result"
    }
   ],
   "source": [
    "ab"
   ]
  },
  {
   "cell_type": "code",
   "execution_count": null,
   "metadata": {},
   "outputs": [],
   "source": [
    "3\n",
    "1 2\n",
    "3 4\n",
    "0 5\n",
    "--\n",
    "3\n",
    "1 3\n",
    "2 5\n",
    "3 6\n",
    "Sample Output 1:\n",
    "1\n",
    "3 \n",
    "\n",
    "Sample Input 2:\n",
    "4\n",
    "4 7\n",
    "1 3\n",
    "2 5\n",
    "5 6\n",
    "Sample Output 2:\n",
    "2\n",
    "3 6 "
   ]
  },
  {
   "cell_type": "markdown",
   "metadata": {},
   "source": [
    "непрерывный рюкзак\n",
    "--\n",
    "\n",
    "Первая строка содержит количество предметов 1≤n≤103 и вместимость рюкзака 0≤W≤2⋅106 . Каждая из следующих n строк задаёт стоимость 0≤ci≤2⋅106  и объём 0<wi≤2⋅106 предмета (n , W , c_i, w_i  — целые числа). Выведите максимальную стоимость частей предметов (от каждого предмета можно отделить любую часть, стоимость и объём при этом пропорционально уменьшатся), помещающихся в данный рюкзак, с точностью не менее трёх знаков после запятой.\n",
    "\n",
    "Sample Input:\n",
    "\n",
    "3 50\n",
    "60 20\n",
    "100 50\n",
    "120 30\n",
    "\n",
    "Sample Output:\n",
    "\n",
    "180.000\n",
    "\n"
   ]
  },
  {
   "cell_type": "code",
   "execution_count": 34,
   "metadata": {
    "scrolled": true
   },
   "outputs": [
    {
     "name": "stdout",
     "output_type": "stream",
     "text": [
      "5 9022\n",
      "3316 1601\n",
      "5375 8940\n",
      "2852 6912\n",
      "3336 9926\n",
      "1717 8427\n",
      "deque([[0.20374985166726, 1717, 8427], [0.3360870441265364, 3336, 9926], [0.41261574074074076, 2852, 6912], [0.6012304250559284, 5375, 8940], [2.071205496564647, 3316, 1601]], maxlen=5)\n",
      "[[0.20374985166726, 1717, 8427], [0.3360870441265364, 3336, 9926], [0.41261574074074076, 2852, 6912], [0.6012304250559284, 5375, 8940], [2.071205496564647, 3316, 1601]]\n",
      "[2.071205496564647, 3316, 1601]\n",
      "[0.6012304250559284, 5375, 8940]\n",
      "7777.731\n"
     ]
    }
   ],
   "source": [
    "import queue\n",
    "from collections import deque\n",
    "\n",
    "s = input().split()\n",
    "n = int(s[0])\n",
    "tv = int(s[1])# total volume\n",
    "d = deque([],n)\n",
    "r = []\n",
    "#q = queue.PriorityQueue(n)\n",
    "for i in range(n):\n",
    "    s = input().split()        \n",
    "    v = int(s[0])#value\n",
    "    w = int(s[1])#volume\n",
    "    c = v/w#cost\n",
    "    #q.put([c,v,w])\n",
    "    if i==0 or c>=d[0][0]:\n",
    "        d.append([c,v,w])\n",
    "    else:\n",
    "        d.appendleft([c,v,w])\n",
    "        \n",
    "    #q.put([c,v,w])\n",
    "#[(2.0, 100, 50), (3.0, 60, 20), (4.0, 120, 30)]\n",
    "\n",
    "v1 = 0 #backpack value\n",
    "t1 = 0 #backpack volume\n",
    "\n",
    "#print(q.queue)\n",
    "#r = list(q.queue)\n",
    "print(d)\n",
    "r = list(d)\n",
    "print(r)\n",
    "while t1<tv and len(d)>0:#not q.empty():\n",
    "#     m = r[-1]\n",
    "#     del r[-1]\n",
    "    m = d.pop()\n",
    "    print(m)    \n",
    "    if m[2]>(tv-t1):   \n",
    "        #z = m[2] - (tv-t1)\n",
    "        z = (tv-t1)/m[2]\n",
    "        v1 += m[1]*z\n",
    "        #v1 += m[1]*m[2]/(tv-t1)\n",
    "        t1 = tv\n",
    "    elif m[2]==(tv-t1):   \n",
    "       #z = m[2] - (tv-t1)\n",
    "        v1 += m[1]\n",
    "        #v1 += m[1]*m[2]/(tv-t1)\n",
    "        t1 = tv\n",
    "    else:\n",
    "        t1 += m[2]\n",
    "        v1 += m[1]\n",
    "print(f\"{v1:.3f}\")   "
   ]
  },
  {
   "cell_type": "code",
   "execution_count": 36,
   "metadata": {},
   "outputs": [
    {
     "name": "stdout",
     "output_type": "stream",
     "text": [
      "5 9022\n",
      "3316 1601\n",
      "5375 8940\n",
      "2852 6912\n",
      "3336 9926\n",
      "1717 8427\n",
      "7777.731\n"
     ]
    }
   ],
   "source": [
    "#Failed test #6 of 11. got: 3032.177 expected: 7777.731\n",
    "from decimal import *\n",
    "from collections import deque\n",
    "\n",
    "s = input().split()\n",
    "n = int(s[0])\n",
    "tv = int(s[1])# total volume\n",
    "d = deque([],n)\n",
    "r = []\n",
    "for i in range(n):\n",
    "    s = input().split()        \n",
    "    v = int(s[0])#value\n",
    "    w = int(s[1])#volume\n",
    "    c = Decimal(v)/Decimal(w)#cost\n",
    "    if i==0 or c>d[0][0]:\n",
    "        d.append([c,v,w])\n",
    "    elif i==0 or c==d[0][0]:\n",
    "        if v>=d[0][1]:\n",
    "            d.append([c,v,w])\n",
    "        else:\n",
    "            temp = d.pop()\n",
    "            d.append([c,v,w])\n",
    "            d.append(temp)\n",
    "    else:\n",
    "        d.appendleft([c,v,w])\n",
    "\n",
    "v1 = 0 #backpack value\n",
    "t1 = 0 #backpack volume\n",
    "\n",
    "r = list(d)\n",
    "while Decimal(t1)<Decimal(tv) and len(d)>0:#not q.empty():\n",
    "    m = d.pop()\n",
    "    dt = Decimal(tv-t1)\n",
    "    if m[2]>dt:   \n",
    "        z = Decimal(dt/m[2])\n",
    "        v1 += Decimal(m[1]*z)\n",
    "        t1 = tv\n",
    "    elif m[2]==dt:   \n",
    "        v1 += m[1]\n",
    "        t1 = tv\n",
    "    else:\n",
    "        t1 += m[2]\n",
    "        v1 += m[1]\n",
    "print(f\"{v1:.3f}\")  "
   ]
  },
  {
   "cell_type": "code",
   "execution_count": null,
   "metadata": {},
   "outputs": [],
   "source": [
    "---\n",
    "Failed test #6 of 11. got: 6474.026 expected: 7777.731\n",
    "Failed test #6 of 11. got: 3032.177 expected: 7777.731\n",
    "5 9022\n",
    "3316 1601\n",
    "5375 8940\n",
    "2852 6912\n",
    "3336 9926\n",
    "1717 8427\n",
    "expected: 7777.731\n",
    "--------\n",
    "3 50\n",
    "60 20\n",
    "100 50\n",
    "120 30\n",
    "\n",
    "Sample Output:\n",
    "\n",
    "180.000\n",
    "\n",
    "#[(2.0, 100, 50), (3.0, 60, 20), (4.0, 120, 30)]\n",
    "\n",
    "\n",
    "\n"
   ]
  },
  {
   "cell_type": "code",
   "execution_count": 2,
   "metadata": {},
   "outputs": [
    {
     "name": "stdout",
     "output_type": "stream",
     "text": [
      "3 50\n",
      "60 20\n",
      "100 50\n",
      "120 30\n",
      "180.000\n"
     ]
    }
   ],
   "source": [
    "#code from lecture works\n",
    "from collections import deque\n",
    "\n",
    "s = input().split()\n",
    "n = int(s[0])\n",
    "tv = int(s[1])# total volume\n",
    "d = deque([],n)\n",
    "r = []\n",
    "for i in range(n):\n",
    "    s = input().split()        \n",
    "    v = int(s[0])#value\n",
    "    w = int(s[1])#volume\n",
    "    c = v/w#cost\n",
    "    if i==0 or c>d[0][0]:\n",
    "        d.append([c,v,w])\n",
    "    elif i==0 or c==d[0][0]:\n",
    "        if v>=d[0][1]:\n",
    "            d.append([c,v,w])\n",
    "        else:\n",
    "            temp = d.pop()\n",
    "            d.append([c,v,w])\n",
    "            d.append(temp)\n",
    "    else:\n",
    "        d.appendleft([c,v,w])\n",
    "\n",
    "v1 = 0 #backpack value\n",
    "t1 = 0 #backpack volume\n",
    "\n",
    "r = list(d)\n",
    "r.sort(reverse=True)\n",
    "for c, v, w in r:\n",
    "    if w<tv:\n",
    "        v1+=c*w\n",
    "        tv -= w\n",
    "    else:\n",
    "        v1+=c*tv\n",
    "        break\n",
    "        \n",
    "\n",
    "print(f\"{v1:.3f}\")  "
   ]
  },
  {
   "cell_type": "markdown",
   "metadata": {},
   "source": [
    "различные слагаемые\n",
    "--\n",
    "По данному числу 1≤n≤109 найдите максимальное число k, для которого n можно представить как сумму k различных натуральных слагаемых. Выведите в первой строке число k , во второй — k слагаемых.\n",
    "\n",
    "Sample Input 1:\n",
    "4\n",
    "Sample Output 1:\n",
    "2\n",
    "1 3 \n",
    "\n",
    "Sample Input 2:\n",
    "6\n",
    "Sample Output 2:\n",
    "3\n",
    "1 2 3 \n",
    "\n"
   ]
  },
  {
   "cell_type": "code",
   "execution_count": 24,
   "metadata": {},
   "outputs": [
    {
     "name": "stdout",
     "output_type": "stream",
     "text": [
      "6\n",
      "3\n",
      "1 2 3 "
     ]
    },
    {
     "data": {
      "text/plain": [
       "[None, None, None]"
      ]
     },
     "execution_count": 24,
     "metadata": {},
     "output_type": "execute_result"
    }
   ],
   "source": [
    "#works!\n",
    "n = int(input())\n",
    "c = 0\n",
    "k = 0\n",
    "e = 1\n",
    "d = {}\n",
    "while c<n:    \n",
    "    c+=e    \n",
    "    d[e]=1\n",
    "    e+=1\n",
    "if c!=n:\n",
    "    delta = c-n\n",
    "    del d[delta]\n",
    "    c -=delta \n",
    "print(len(d))\n",
    "[print(i, end = \" \") for i in d.keys()]"
   ]
  },
  {
   "cell_type": "code",
   "execution_count": null,
   "metadata": {},
   "outputs": [],
   "source": []
  },
  {
   "cell_type": "code",
   "execution_count": null,
   "metadata": {},
   "outputs": [],
   "source": []
  },
  {
   "cell_type": "code",
   "execution_count": 37,
   "metadata": {},
   "outputs": [
    {
     "ename": "StopIteration",
     "evalue": "",
     "output_type": "error",
     "traceback": [
      "\u001b[1;31m---------------------------------------------------------------------------\u001b[0m",
      "\u001b[1;31mStopIteration\u001b[0m                             Traceback (most recent call last)",
      "\u001b[1;32m<ipython-input-37-4da662abeb62>\u001b[0m in \u001b[0;36m<module>\u001b[1;34m\u001b[0m\n\u001b[0;32m      1\u001b[0m \u001b[1;32mimport\u001b[0m \u001b[0msys\u001b[0m\u001b[1;33m\u001b[0m\u001b[1;33m\u001b[0m\u001b[0m\n\u001b[1;32m----> 2\u001b[1;33m \u001b[0mnext\u001b[0m\u001b[1;33m(\u001b[0m\u001b[0msys\u001b[0m\u001b[1;33m.\u001b[0m\u001b[0mstdin\u001b[0m\u001b[1;33m)\u001b[0m\u001b[1;33m\u001b[0m\u001b[1;33m\u001b[0m\u001b[0m\n\u001b[0m",
      "\u001b[1;31mStopIteration\u001b[0m: "
     ]
    }
   ],
   "source": [
    "import sys\n",
    "next(sys.stdin)"
   ]
  },
  {
   "cell_type": "markdown",
   "metadata": {},
   "source": [
    "кодирование Хаффмана\n",
    "--\n",
    "\n",
    "По данной непустой строке s длины не более 10^4, состоящей из строчных букв латинского алфавита, постройте оптимальный беспрефиксный код. В первой строке выведите количество различных букв k , встречающихся в строке, и размер получившейся закодированной строки. В следующих k  строках запишите коды букв в формате \"letter: code\". В последней строке выведите закодированную строку.\n",
    "\n",
    "Sample Input 1:\n",
    "a\n",
    "Sample Output 1:\n",
    "1 1\n",
    "a: 0\n",
    "0\n",
    "\n",
    "Sample Input 2:\n",
    "abacabad\n",
    "Sample Output 2:\n",
    "4 14\n",
    "a: 0\n",
    "b: 10\n",
    "c: 110\n",
    "d: 111\n",
    "01001100100111\n",
    "\n",
    "\n"
   ]
  },
  {
   "cell_type": "code",
   "execution_count": 12,
   "metadata": {},
   "outputs": [
    {
     "name": "stdout",
     "output_type": "stream",
     "text": [
      "cgfyhujccgyhc\n",
      "[[1, 'f'], [2, 'h'], [1, 'j'], [4, 'c'], [2, 'y'], [2, 'g'], [1, 'u']]\n",
      "7 0\n"
     ]
    }
   ],
   "source": [
    "import queue\n",
    "q = queue.PriorityQueue()\n",
    "s = input()\n",
    "d = {}\n",
    "for i in range(len(s)):\n",
    "    if not d.get(s[i]):\n",
    "        d[s[i]] = s.count(s[i])\n",
    "size = 0\n",
    "for k,v in d.items():\n",
    "    q.put([v,k])\n",
    "\n",
    "print(q.queue)\n",
    "print(len(q.queue),size)\n",
    "\n"
   ]
  },
  {
   "cell_type": "code",
   "execution_count": null,
   "metadata": {},
   "outputs": [],
   "source": [
    "# https://ru.wikipedia.org/wiki/%D0%9E%D1%87%D0%B5%D1%80%D0%B5%D0%B4%D1%8C_%D1%81_%D0%BF%D1%80%D0%B8%D0%BE%D1%80%D0%B8%D1%82%D0%B5%D1%82%D0%BE%D0%BC_(%D0%BF%D1%80%D0%BE%D0%B3%D1%80%D0%B0%D0%BC%D0%BC%D0%B8%D1%80%D0%BE%D0%B2%D0%B0%D0%BD%D0%B8%D0%B5)\n",
    "# импорт двух функций очереди под именами, принятыми в данной статье\n",
    "from heapq import heappush as insert, heappop as extract_maximum\n",
    "pq = []  # инициализация списка\n",
    "insert(pq, (4, 0, \"p\"))   # вставка в очередь элемента \"p\" с индексом 0 и приоритетом 4\n",
    "insert(pq, (2, 1, \"e\"))\n",
    "insert(pq, (3, 2, \"a\"))\n",
    "insert(pq, (1, 3, \"h\"))\n",
    "# вывод четырёх элементов в порядке возрастания приоритетов\n",
    "print(extract_maximum(pq)[-1] + extract_maximum(pq)[-1] + extract_maximum(pq)[-1] + extract_maximum(pq)[-1])"
   ]
  },
  {
   "cell_type": "code",
   "execution_count": 19,
   "metadata": {},
   "outputs": [
    {
     "name": "stdout",
     "output_type": "stream",
     "text": [
      "tyjhkhjkhjkhjkhjkhjkppkkkzzz\n",
      "[[1, 't'], [1, 'y'], [2, 'p'], [6, 'h'], [9, 'k'], [6, 'j'], [3, 'z']]\n",
      "typz\n",
      "0 0\n"
     ]
    }
   ],
   "source": [
    "import heapq\n",
    "from heapq import heappush as insert, heappop as extract_maximum\n",
    "import queue\n",
    "\n",
    "pq = []\n",
    "q = queue.PriorityQueue()\n",
    "s = input()\n",
    "d = {}\n",
    "for i in range(len(s)):\n",
    "    if not d.get(s[i]):\n",
    "        #insert(pq, (s.count(s[i]), 0, \"p\"))\n",
    "        d[s[i]] = s.count(s[i])\n",
    "size = 0\n",
    "for k,v in d.items():    \n",
    "    #q.put([v,k])\n",
    "    insert(pq, [v,k])\n",
    "print(pq)\n",
    "print(extract_maximum(pq)[-1] + extract_maximum(pq)[-1] + extract_maximum(pq)[-1] + extract_maximum(pq)[-1])\n",
    "#print(q.queue)\n",
    "print(len(q.queue),size)"
   ]
  },
  {
   "cell_type": "code",
   "execution_count": 20,
   "metadata": {},
   "outputs": [
    {
     "name": "stdout",
     "output_type": "stream",
     "text": [
      "[[6, 'h'], [9, 'k'], [6, 'j']]\n"
     ]
    }
   ],
   "source": [
    "print(pq)"
   ]
  },
  {
   "cell_type": "code",
   "execution_count": 8,
   "metadata": {},
   "outputs": [
    {
     "name": "stdout",
     "output_type": "stream",
     "text": [
      "accepted\n",
      "6 23\n",
      "a: 110\n",
      "c: 0\n",
      "e: 10\n",
      "p: 11110\n",
      "t: 11111\n",
      "d: 1110\n",
      "11000101111011111101110"
     ]
    },
    {
     "data": {
      "text/plain": [
       "[None, None, None, None, None, None, None, None]"
      ]
     },
     "execution_count": 8,
     "metadata": {},
     "output_type": "execute_result"
    }
   ],
   "source": [
    "#Failed test #9 of 42. got: 23 expected: 20\n",
    "import heapq\n",
    "from heapq import heappush as insert, heappop as extract_maximum\n",
    "import queue\n",
    "\n",
    "pq = []\n",
    "q = queue.PriorityQueue()\n",
    "s = input()\n",
    "d = {}\n",
    "for i in range(len(s)):\n",
    "    if not d.get(s[i]):\n",
    "        #insert(pq, (s.count(s[i]), 0, \"p\"))\n",
    "        d[s[i]] = s.count(s[i])\n",
    "#print(d)\n",
    "size = 0\n",
    "for k,v in d.items():    \n",
    "    #q.put([v,k])\n",
    "    insert(pq, [-v,k])\n",
    "j = 0\n",
    "z = \"0\"\n",
    "n = \"1\"\n",
    "summ = 0\n",
    "y = []\n",
    "x = []\n",
    "\n",
    "while pq:   \n",
    "    t = extract_maximum(pq)[1]\n",
    "    #x.append(extract_maximum(pq))\n",
    "    if pq or j==0:\n",
    "        d[t] = j*n+z\n",
    "        #y.append(j*n+z)\n",
    "    else:\n",
    "        d[t] = j*n\n",
    "        #y.append(j*n)\n",
    "    summ+=len(d[t])*s.count(t)\n",
    "    #print(j,summ,t,d[t])\n",
    "    j+=1\n",
    "print(len(d),summ)\n",
    "for i,j in d.items():#zip(x,y):\n",
    "    print(i,\": \",j,sep='',)\n",
    "[print(d[i], end = '') for i in s]"
   ]
  },
  {
   "cell_type": "code",
   "execution_count": null,
   "metadata": {},
   "outputs": [],
   "source": [
    "accepted\n",
    "6 23\n",
    "c: 0\n",
    "e: 10\n",
    "t: 110\n",
    "a: 1110\n",
    "p: 11110\n",
    "d: 11111\n",
    "11100010111101101011111\n",
    "-\n",
    "mine:\n",
    "11000101111011111101110\n",
    "--\n",
    "Sample Input 1:\n",
    "a\n",
    "Sample Output 1:\n",
    "1 1\n",
    "a: 0\n",
    "0\n",
    "\n",
    "Sample Input 2:\n",
    "abacabad\n",
    "Sample Output 2:\n",
    "4 14\n",
    "a: 0\n",
    "b: 10\n",
    "c: 110\n",
    "d: 111\n",
    "01001100100111\n"
   ]
  },
  {
   "cell_type": "code",
   "execution_count": null,
   "metadata": {},
   "outputs": [],
   "source": []
  },
  {
   "cell_type": "markdown",
   "metadata": {},
   "source": [
    "очередь с приоритетами\n",
    "\n",
    "\n",
    "Первая строка входа содержит число операций 1≤n≤10^5 . Каждая из последующих n строк задают операцию одного из следующих двух типов:\n",
    "\n",
    "    Insert {\\tt Insert} Insert x {\\tt x} x, где 0≤x≤10^9 — целое число;\n",
    "    ExtractMax {\\tt ExtractMax} ExtractMax.\n",
    "\n",
    "Первая операция добавляет число x  в очередь с приоритетами, вторая — извлекает максимальное число и выводит его.\n",
    "\n",
    "Sample Input:\n",
    "\n",
    "6\n",
    "Insert 200\n",
    "Insert 10\n",
    "ExtractMax\n",
    "Insert 5\n",
    "Insert 500\n",
    "ExtractMax\n",
    "\n",
    "Sample Output:\n",
    "\n",
    "200\n",
    "500\n",
    "\n"
   ]
  },
  {
   "cell_type": "code",
   "execution_count": 10,
   "metadata": {},
   "outputs": [
    {
     "name": "stdout",
     "output_type": "stream",
     "text": [
      "6\n",
      "Insert 200\n",
      "Insert 10\n",
      "ExtractMax\n",
      "Insert 5\n",
      "Insert 500\n",
      "ExtractMax\n",
      "200\n",
      "500\n"
     ]
    },
    {
     "data": {
      "text/plain": [
       "[None, None]"
      ]
     },
     "execution_count": 10,
     "metadata": {},
     "output_type": "execute_result"
    }
   ],
   "source": [
    "#Failed test #2 of 7. Expected: 543\n",
    "from heapq import heappush as insert, heappop as extract_maximum\n",
    "\n",
    "pq = []\n",
    "n = int(input())\n",
    "for i in range(n):\n",
    "    s = input().split()\n",
    "    x = s[0]\n",
    "    if x == \"Insert\":\n",
    "        insert(pq, int(s[1])) \n",
    "    elif x == \"ExtractMax\":\n",
    "        extract_maximum(pq)\n",
    "[print(i, end =\"\\n\") for i in pq]    \n",
    "    "
   ]
  },
  {
   "cell_type": "code",
   "execution_count": 11,
   "metadata": {},
   "outputs": [
    {
     "name": "stdout",
     "output_type": "stream",
     "text": [
      "6\n",
      "Insert 200\n",
      "Insert 10\n",
      "ExtractMax\n",
      "200\n",
      "Insert 5\n",
      "Insert 500\n",
      "ExtractMax\n",
      "500\n"
     ]
    }
   ],
   "source": [
    "from heapq import heappush as insert, heappop as extract_maximum\n",
    "\n",
    "pq = []\n",
    "n = int(input())\n",
    "for i in range(n):\n",
    "    s = input().split()\n",
    "    x = s[0]\n",
    "    if x == \"Insert\":\n",
    "        insert(pq, -int(s[1])) \n",
    "    elif x == \"ExtractMax\":\n",
    "        print(-extract_maximum(pq))\n",
    "#[print(i, end =\"\\n\") for i in pq]    "
   ]
  },
  {
   "cell_type": "markdown",
   "metadata": {},
   "source": [
    "двоичный поиск\n",
    "--\n",
    "\n",
    "В первой строке даны целое число 1≤n≤105 1 \\le n \\le 10^5 1≤n≤105 и массив A[1…n] A[1 \\ldots n] A[1…n] из n n n различных натуральных чисел, не превышающих 109 10^9 109, в порядке возрастания, во второй — целое число 1≤k≤105 1 \\le k \\le 10^5 1≤k≤105 и k k k натуральных чисел b1,…,bk b_1, \\ldots, b_k b1​,…,bk​, не превышающих 109 10^9 109. Для каждого i i i от 1 до k k k необходимо вывести индекс 1≤j≤n 1 \\le j \\le n 1≤j≤n, для которого A[j]=bi A[j]=b_i A[j]=bi​, или −1 -1 −1, если такого j j j нет.\n",
    "\n",
    "\n",
    "Sample Input:\n",
    "5 1 5 8 12 13\n",
    "5 8 1 23 1 11\n",
    "Sample Output:\n",
    "3 1 -1 1 -1"
   ]
  },
  {
   "cell_type": "code",
   "execution_count": 1,
   "metadata": {
    "scrolled": true
   },
   "outputs": [
    {
     "name": "stdout",
     "output_type": "stream",
     "text": [
      "5 1 5 8 12 13\n",
      "5 8 1 23 1 11\n",
      "['1', '5', '8', '12', '13']\n",
      "['8', '1', '23', '1', '11']\n",
      "5\n",
      "i,a[right],a[left] 8 13 1\n",
      "i>a[right] or i<a[left] 8 13 1 True False\n",
      "-1 5\n",
      "i,a[right],a[left] 1 13 1\n",
      "i==a[left] 1 1\n",
      "0 5\n",
      "i,a[right],a[left] 23 13 1\n",
      "i>a[right] or i<a[left] 23 13 1 True False\n",
      "-1 5\n",
      "i,a[right],a[left] 1 13 1\n",
      "i==a[left] 1 1\n",
      "0 5\n",
      "i,a[right],a[left] 11 13 1\n",
      "-1 "
     ]
    }
   ],
   "source": [
    "#??? wtf\n",
    "#i,a[right],a[left] 8 13 1\n",
    "#i>a[right] or i<a[left] 8 13 1 True False\n",
    "#hahaha forgot int() at the lines 12 and 17 :)\n",
    "\n",
    "import math\n",
    "\n",
    "s = input().split()\n",
    "n = int(s[0])\n",
    "a = []\n",
    "for i in range(n):\n",
    "    a.append(s[i+1])\n",
    "s1 = input().split()\n",
    "k = int(s[0])\n",
    "b = []\n",
    "for j in range(k):\n",
    "    b.append(s1[j+1])\n",
    "print(a)\n",
    "print(b)\n",
    "    \n",
    "def find(i):\n",
    "    result = -1\n",
    "    left = 0\n",
    "    right = n-1\n",
    "    print(n)\n",
    "    print('i,a[right],a[left]',i,a[right],a[left])\n",
    "    if (i>a[right]) or (i<a[left]):\n",
    "        print(\"i>a[right] or i<a[left]\",i,a[right],a[left],i>a[right],i<a[left])\n",
    "        return result\n",
    "    if i==a[right]:\n",
    "        print(\"i==a[right]\",i,a[right])\n",
    "        return right\n",
    "    if i==a[left]:\n",
    "        print(\"i==a[left]\",i,a[left])\n",
    "        return left\n",
    "    while left<=right:\n",
    "        m = math.floor((left + right)/2)\n",
    "        if i==a[m]:\n",
    "            return m\n",
    "        elif i<a[m]:\n",
    "            right = m-1\n",
    "        else:\n",
    "            left = m+1    \n",
    "    return result\n",
    "    \n",
    "for y in b:\n",
    "    print(find(y), end=\" \")"
   ]
  },
  {
   "cell_type": "code",
   "execution_count": 16,
   "metadata": {},
   "outputs": [
    {
     "name": "stdout",
     "output_type": "stream",
     "text": [
      "5 1 5 8 12 13\n",
      "9 8 1 23 1 11 13 15 13 1\n",
      "[1, 5, 8, 12, 13]\n",
      "[8, 1, 23, 1, 11, 13, 15, 13, 1]\n",
      "3 1 -1 1 -1 5 -1 5 1 "
     ]
    }
   ],
   "source": [
    "import math\n",
    "\n",
    "s = input().split()\n",
    "n = int(s[0])\n",
    "a = []\n",
    "for i in range(n):\n",
    "    a.append(int(s[i+1]))\n",
    "s1 = input().split()\n",
    "k = int(s1[0])\n",
    "b = []\n",
    "for j in range(k):\n",
    "    b.append(int(s1[j+1]))\n",
    "print(a)\n",
    "print(b)\n",
    "    \n",
    "def find(i):\n",
    "    result = -1\n",
    "    left = 0\n",
    "    right = n-1\n",
    "    if (i>a[right]) or (i<a[left]):        \n",
    "        return result\n",
    "    if i==a[right]:        \n",
    "        return right+1\n",
    "    if i==a[left]:\n",
    "        return left+1\n",
    "    while left<right:\n",
    "        m = math.floor((left + right)/2)\n",
    "        if i==a[m]:\n",
    "            return m+1\n",
    "        elif i<a[m]:\n",
    "            right = m-1\n",
    "        else:\n",
    "            left = m +1   \n",
    "    return result\n",
    "    \n",
    "for y in b:\n",
    "    print(find(y), end=\" \")"
   ]
  },
  {
   "cell_type": "code",
   "execution_count": 3,
   "metadata": {},
   "outputs": [
    {
     "ename": "SyntaxError",
     "evalue": "invalid syntax (<ipython-input-3-bee49fc15681>, line 1)",
     "output_type": "error",
     "traceback": [
      "\u001b[1;36m  File \u001b[1;32m\"<ipython-input-3-bee49fc15681>\"\u001b[1;36m, line \u001b[1;32m1\u001b[0m\n\u001b[1;33m    Sample Input:\u001b[0m\n\u001b[1;37m           ^\u001b[0m\n\u001b[1;31mSyntaxError\u001b[0m\u001b[1;31m:\u001b[0m invalid syntax\n"
     ]
    }
   ],
   "source": [
    "Sample Input:\n",
    "5 1 5 8 12 13\n",
    "5 8 1 23 1 11\n",
    "Sample Output:\n",
    "3 1 -1 1 -1\n",
    "\n",
    "5 1 5 8 12 13\n",
    "9 8 1 23 1 11 13 15 13 1"
   ]
  },
  {
   "cell_type": "code",
   "execution_count": 2,
   "metadata": {},
   "outputs": [
    {
     "data": {
      "text/plain": [
       "False"
      ]
     },
     "execution_count": 2,
     "metadata": {},
     "output_type": "execute_result"
    }
   ],
   "source": [
    "i = 8\n",
    "z = 12\n",
    "i>z"
   ]
  },
  {
   "cell_type": "code",
   "execution_count": null,
   "metadata": {},
   "outputs": [],
   "source": [
    "sorting\n",
    "7  2  5  3  7  13  1  6  base\n",
    "0  1  2  3  4  5   6  7  index\n",
    "13 7  7  6  5  3   2  1  sorted_max\n",
    "5 0/4 4/0 7 2  3   1  6   sorted_max_index\n",
    "1 2  3  5  6  7   7  13  sorted_max\n",
    "6 1  3  2  7  0/4 4/0 5  sorted_min_index\n",
    "\n",
    "7  2  5  3  7  13  1  6  base\n",
    " 9  7  8  10 20  14  7    +\n",
    "01 12 23 34 45 56 67    index i/j\n",
    "10 21 32 43 54 65 76    index j/i\n",
    " 5  -3  2 -4 -6  12 -5    - \n",
    "01 12 23 34 45 56 67    index i/j\n",
    " -5  3  -2 4 6 -12 5      - \n",
    "10 21 32 43 54 65 76    index j/i\n",
    "\n",
    " 4  11  6 14 26  2  12    '+'-'-'    \n",
    "14  4  10 6  14  26  2    '+'+'-' \n",
    "7  2  5  3  7  13  1  6  base\n",
    "45 -21 16 -40-120 168 -35 *\n",
    "  2  -1 -2 -10 6  7       +\n",
    "  8  -5  6  2  -18 17     -\n",
    " 16  5 -12 -20 -108 119   *\n",
    "    1  -3 -12 -4 13       +\n",
    "   11 17  8  -104 106     -\n"
   ]
  },
  {
   "cell_type": "markdown",
   "metadata": {},
   "source": [
    "число инверсий\n",
    "--\n",
    "Первая строка содержит число 1≤n≤105 1 \\le n \\le 10^5 1≤n≤105, вторая — массив A[1…n] A[1\\ldots n] A[1…n], содержащий натуральные числа, не превосходящие 109 10^9 109. Необходимо посчитать число пар индексов 1≤i<j≤n 1 \\le i \\lt j \\le n 1≤i<j≤n, для которых A[i]>A[j] A[i] \\gt A[j] A[i]>A[j]. (Такая пара элементов называется инверсией массива. Количество инверсий в массиве является в некотором смысле его мерой неупорядоченности: например, в упорядоченном по неубыванию массиве инверсий нет вообще, а в массиве, упорядоченном по убыванию, инверсию образуют каждые два элемента.)\n",
    "\n",
    "Sample Input:\n",
    "5\n",
    "2 3 9 2 9\n",
    "Sample Output:\n",
    "2"
   ]
  },
  {
   "cell_type": "code",
   "execution_count": 27,
   "metadata": {
    "scrolled": true
   },
   "outputs": [
    {
     "name": "stdout",
     "output_type": "stream",
     "text": [
      "11\n",
      "1 2 3 4 5 6 7 8 3 4 3\n",
      "15\n"
     ]
    }
   ],
   "source": [
    "#Failed test #2 of 12. Time limit exceeded\n",
    "n = int(input())\n",
    "s = input().split()\n",
    "a = []\n",
    "for i in s:\n",
    "    a.append(int(i))\n",
    "count = 0\n",
    "for i in range(n-1):\n",
    "    for j in range(i,n):\n",
    "        if a[i]>a[j]:\n",
    "            #print(i,j,a[i],a[j])\n",
    "            count+=1\n",
    "print(count)"
   ]
  },
  {
   "cell_type": "code",
   "execution_count": 24,
   "metadata": {},
   "outputs": [
    {
     "name": "stdout",
     "output_type": "stream",
     "text": [
      "6\n",
      "1 3 4 5 6 2\n",
      "4\n"
     ]
    }
   ],
   "source": [
    "n = int(input())\n",
    "s = input().split()\n",
    "a = []\n",
    "for i in s:\n",
    "    a.append(int(i))\n",
    "count = 0\n",
    "visited = {}\n",
    "for i in range(n-1):\n",
    "    temp = sorted(a[i+1:])\n",
    "    indx = temp.index(a[i+1])\n",
    "    #for j in range(i,n):\n",
    "        \n",
    "        if a[i]>a[j]:            \n",
    "            #print(i,j,a[i],a[j])\n",
    "            count+=1\n",
    "print(count)"
   ]
  },
  {
   "cell_type": "code",
   "execution_count": null,
   "metadata": {},
   "outputs": [],
   "source": [
    "5\n",
    "2 3 9 2 9\n",
    "\n",
    "7\n",
    "7 6 5 4 3 2 1\n",
    "21\n",
    "\n",
    "5\n",
    "1 2 3 5 4\n",
    "1\n",
    "\n",
    "6\n",
    "1 3 4 5 6 2\n",
    "4 \n",
    "1 2 3 4 5 6\n",
    "\n",
    "11\n",
    "1 2 3 4 5 6 7 8 3 4 3\n",
    "15 "
   ]
  },
  {
   "cell_type": "code",
   "execution_count": 26,
   "metadata": {},
   "outputs": [
    {
     "data": {
      "text/plain": [
       "[2, 3, 4]"
      ]
     },
     "execution_count": 26,
     "metadata": {},
     "output_type": "execute_result"
    }
   ],
   "source": [
    "a = sorted([4,2,3])\n",
    "a"
   ]
  },
  {
   "cell_type": "code",
   "execution_count": 33,
   "metadata": {},
   "outputs": [
    {
     "name": "stdout",
     "output_type": "stream",
     "text": [
      "[(0, 1), (1, 2), (2, 3), (3, 4), (4, 5), (5, 6), (6, 7), (7, 8), (8, 3), (9, 4), (10, 3)]\n",
      "[(0, 1), (1, 2), (2, 3), (3, 3), (4, 3), (5, 4), (6, 4), (7, 5), (8, 6), (9, 7), (10, 8)]\n"
     ]
    },
    {
     "ename": "ValueError",
     "evalue": "4 is not in list",
     "output_type": "error",
     "traceback": [
      "\u001b[1;31m---------------------------------------------------------------------------\u001b[0m",
      "\u001b[1;31mValueError\u001b[0m                                Traceback (most recent call last)",
      "\u001b[1;32m<ipython-input-33-ec2d6a487fb2>\u001b[0m in \u001b[0;36m<module>\u001b[1;34m\u001b[0m\n\u001b[0;32m      9\u001b[0m     \u001b[0mindx\u001b[0m \u001b[1;33m=\u001b[0m \u001b[1;36m0\u001b[0m\u001b[1;33m\u001b[0m\u001b[1;33m\u001b[0m\u001b[0m\n\u001b[0;32m     10\u001b[0m     \u001b[1;32mif\u001b[0m \u001b[0me\u001b[0m\u001b[1;33m[\u001b[0m\u001b[0mi\u001b[0m\u001b[1;33m]\u001b[0m\u001b[1;33m[\u001b[0m\u001b[1;36m1\u001b[0m\u001b[1;33m]\u001b[0m\u001b[1;33m!=\u001b[0m\u001b[0mc\u001b[0m\u001b[1;33m[\u001b[0m\u001b[0mi\u001b[0m\u001b[1;33m]\u001b[0m\u001b[1;33m[\u001b[0m\u001b[1;36m1\u001b[0m\u001b[1;33m]\u001b[0m\u001b[1;33m:\u001b[0m\u001b[1;33m\u001b[0m\u001b[1;33m\u001b[0m\u001b[0m\n\u001b[1;32m---> 11\u001b[1;33m         \u001b[0mindx\u001b[0m \u001b[1;33m=\u001b[0m \u001b[0mc\u001b[0m\u001b[1;33m.\u001b[0m\u001b[0mindex\u001b[0m\u001b[1;33m(\u001b[0m\u001b[0me\u001b[0m\u001b[1;33m[\u001b[0m\u001b[0mi\u001b[0m\u001b[1;33m]\u001b[0m\u001b[1;33m[\u001b[0m\u001b[1;36m1\u001b[0m\u001b[1;33m]\u001b[0m\u001b[1;33m,\u001b[0m\u001b[0mindx\u001b[0m\u001b[1;33m)\u001b[0m\u001b[1;33m\u001b[0m\u001b[1;33m\u001b[0m\u001b[0m\n\u001b[0m\u001b[0;32m     12\u001b[0m         \u001b[0mcount\u001b[0m\u001b[1;33m+=\u001b[0m \u001b[1;33m(\u001b[0m\u001b[0mindx\u001b[0m\u001b[1;33m-\u001b[0m\u001b[0mi\u001b[0m\u001b[1;33m)\u001b[0m\u001b[1;33m\u001b[0m\u001b[1;33m\u001b[0m\u001b[0m\n\u001b[0;32m     13\u001b[0m \u001b[0mprint\u001b[0m\u001b[1;33m(\u001b[0m\u001b[0mcount\u001b[0m\u001b[1;33m)\u001b[0m\u001b[1;33m\u001b[0m\u001b[1;33m\u001b[0m\u001b[0m\n",
      "\u001b[1;31mValueError\u001b[0m: 4 is not in list"
     ]
    }
   ],
   "source": [
    "a = [1,2,3,4,5,6,7,8,3,4,3]\n",
    "b = sorted(a)\n",
    "e = list(enumerate(a))\n",
    "c = list(enumerate(b))\n",
    "print(e)\n",
    "print(c)\n",
    "count = 0\n",
    "for i in range(len(e)):    \n",
    "    indx = 0\n",
    "    if e[i][1]!=c[i][1]:        \n",
    "        indx = c.index(e[i][1],indx)\n",
    "        count+= (indx-i)\n",
    "print(count)"
   ]
  },
  {
   "cell_type": "code",
   "execution_count": 34,
   "metadata": {},
   "outputs": [
    {
     "ename": "SyntaxError",
     "evalue": "invalid syntax (<ipython-input-34-1c4582ece5a2>, line 11)",
     "output_type": "error",
     "traceback": [
      "\u001b[1;36m  File \u001b[1;32m\"<ipython-input-34-1c4582ece5a2>\"\u001b[1;36m, line \u001b[1;32m11\u001b[0m\n\u001b[1;33m    indx,v = c.keys() if c.values() == i\u001b[0m\n\u001b[1;37m                                        ^\u001b[0m\n\u001b[1;31mSyntaxError\u001b[0m\u001b[1;31m:\u001b[0m invalid syntax\n"
     ]
    }
   ],
   "source": [
    "a = [1,2,3,4,5,6,7,8,3,4,3]\n",
    "b = sorted(a)\n",
    "e = dict(enumerate(a))\n",
    "c = dict(enumerate(b))\n",
    "print(e)\n",
    "print(c)\n",
    "count = 0\n",
    "for i in range(len(e)):    \n",
    "    indx = 0\n",
    "    if e[i][1]!=c[i][1]:        \n",
    "        indx,v = c.keys() if c.values() == i\n",
    "        #count+= (indx-i)\n",
    "print(count)"
   ]
  },
  {
   "cell_type": "code",
   "execution_count": 36,
   "metadata": {},
   "outputs": [
    {
     "data": {
      "text/plain": [
       "'abhcde'"
      ]
     },
     "execution_count": 36,
     "metadata": {},
     "output_type": "execute_result"
    }
   ],
   "source": [
    "from collections import OrderedDict\n",
    "d = OrderedDict.fromkeys('abhcde')\n",
    "''.join(d.keys())\n"
   ]
  },
  {
   "cell_type": "code",
   "execution_count": null,
   "metadata": {},
   "outputs": [],
   "source": []
  },
  {
   "cell_type": "code",
   "execution_count": null,
   "metadata": {},
   "outputs": [],
   "source": []
  },
  {
   "cell_type": "code",
   "execution_count": null,
   "metadata": {},
   "outputs": [],
   "source": []
  },
  {
   "cell_type": "code",
   "execution_count": null,
   "metadata": {},
   "outputs": [],
   "source": []
  },
  {
   "cell_type": "code",
   "execution_count": null,
   "metadata": {},
   "outputs": [],
   "source": []
  },
  {
   "cell_type": "code",
   "execution_count": null,
   "metadata": {},
   "outputs": [],
   "source": []
  },
  {
   "cell_type": "code",
   "execution_count": null,
   "metadata": {},
   "outputs": [],
   "source": []
  },
  {
   "cell_type": "code",
   "execution_count": null,
   "metadata": {},
   "outputs": [],
   "source": []
  },
  {
   "cell_type": "code",
   "execution_count": null,
   "metadata": {},
   "outputs": [],
   "source": []
  },
  {
   "cell_type": "code",
   "execution_count": null,
   "metadata": {},
   "outputs": [],
   "source": []
  },
  {
   "cell_type": "code",
   "execution_count": null,
   "metadata": {},
   "outputs": [],
   "source": []
  },
  {
   "cell_type": "code",
   "execution_count": null,
   "metadata": {},
   "outputs": [],
   "source": []
  },
  {
   "cell_type": "markdown",
   "metadata": {},
   "source": [
    "6.8.3\n",
    "сортировка подсчётом \n",
    "--\n",
    "Первая строка содержит число 1≤n≤104 , вторая — n натуральных чисел, не превышающих 10. \n",
    "Выведите упорядоченную по неубыванию последовательность этих чисел.\n",
    "\n",
    "Sample Input:\n",
    "5\n",
    "2 3 9 2 9\n",
    "Sample Output:\n",
    "2 2 3 9 9"
   ]
  },
  {
   "cell_type": "code",
   "execution_count": 37,
   "metadata": {
    "scrolled": true
   },
   "outputs": [
    {
     "name": "stdout",
     "output_type": "stream",
     "text": [
      "5\n",
      "2 3 9 2 9\n",
      "2 2 3 9 9 "
     ]
    }
   ],
   "source": [
    "# works!\n",
    "n = int(input())\n",
    "s = input().split()\n",
    "a = []\n",
    "for i in s:\n",
    "    a.append(int(i))\n",
    "d = {i:0 for i in range(11)}\n",
    "for i in a:    \n",
    "    d[i]+=1\n",
    "for k,v in d.items():\n",
    "    print((str(k)+\" \")*v, end = \"\")"
   ]
  },
  {
   "cell_type": "markdown",
   "metadata": {},
   "source": [
    "наибольшая последовательнократная подпоследовательность\n",
    "--\n",
    "Дано целое число 1≤n≤103 1 \\le n \\le 10^3 1≤n≤103 и массив A[1…n] A[1\\ldots n] A[1…n] натуральных чисел, не превосходящих 2⋅109 2 \\cdot 10^9 2⋅109. Выведите максимальное 1≤k≤n 1 \\le k \\le n 1≤k≤n, для которого найдётся подпоследовательность 1≤i1<i2<…<ik≤n 1 \\le i_1 \\lt i_2 \\lt \\ldots \\lt i_k \\le n 1≤i1​<i2​<…<ik​≤n длины k k k, в которой каждый элемент делится на предыдущий (формально: для  всех 1≤j<k 1 \\le j \\lt k 1≤j<k, A[ij] ∣ A[ij+1] A[i_j]\\, | \\,A[i_{j+1}] A[ij​]∣A[ij+1​]).\n",
    "\n",
    "Sample Input:\n",
    "4\n",
    "3 6 7 12\n",
    "Sample Output:\n",
    "3"
   ]
  },
  {
   "cell_type": "code",
   "execution_count": null,
   "metadata": {},
   "outputs": [],
   "source": [
    "#lecture 8.2.2\n",
    "n = int(input())\n",
    "s = input().split()\n",
    "a = []\n",
    "for i in s:\n",
    "    a.append(int(i))\n",
    "d =[]\n",
    "for i in range(n):\n",
    "    d[i] = 1\n",
    "    for j in range(i-1):\n",
    "        if a[j]<a[i] and d[j]+1>d[i]:\n",
    "            d[i] = d[j]+1\n",
    "res = 0\n",
    "for i in range(n):\n",
    "    res = max(res,d[i])\n",
    "print(res)    \n"
   ]
  },
  {
   "cell_type": "code",
   "execution_count": 36,
   "metadata": {
    "scrolled": true
   },
   "outputs": [
    {
     "name": "stdout",
     "output_type": "stream",
     "text": [
      "4\n",
      "3 6 7 12\n",
      "3\n"
     ]
    }
   ],
   "source": [
    "#works\n",
    "\n",
    "n = int(input())\n",
    "s = input().split()\n",
    "a = []\n",
    "for i in s:\n",
    "    a.append(int(i))\n",
    "d =[0 for i in range(n)]\n",
    "for i in range(n):\n",
    "    d[i] = 1\n",
    "    for j in range(i):\n",
    "        if a[i]%a[j]==0 and d[j]+1>d[i]:\n",
    "            d[i] = d[j]+1\n",
    "res = 0\n",
    "for i in range(n):\n",
    "    res = max(res,d[i])\n",
    "print(res)    \n"
   ]
  },
  {
   "cell_type": "code",
   "execution_count": null,
   "metadata": {},
   "outputs": [],
   "source": [
    "Sample Input:\n",
    "4\n",
    "3 6 7 12\n",
    "Sample Output:\n",
    "3"
   ]
  },
  {
   "cell_type": "markdown",
   "metadata": {},
   "source": [
    "наибольшая невозрастающая подпоследовательность\n",
    "--\n",
    "\n",
    "Дано целое число 1≤n≤105 1 \\le n \\le 10^5 1≤n≤105и массив A[1…n] A[1 \\ldots n] A[1…n], содержащий неотрицательные целые числа, не превосходящие 109 10^9 109. Найдите наибольшую невозрастающую подпоследовательность в A A A. В первой строке выведите её длину k k k, во второй — её индексы 1≤i1<i2<…<ik≤n 1\\le i_1 \\lt i_2\\lt \\ldots \\lt i_k \\le n 1≤i1​<i2​<…<ik​≤n (таким образом, A[i1]≥A[i2]≥…≥A[in] A[i_1] \\ge A[i_2] \\ge \\ldots \\ge A[i_n] A[i1​]≥A[i2​]≥…≥A[in​]).\n",
    "\n",
    "Sample Input:\n",
    "5\n",
    "5 3 4 4 2\n",
    "Sample Output:\n",
    "4\n",
    "1 3 4 5 "
   ]
  },
  {
   "cell_type": "code",
   "execution_count": 47,
   "metadata": {},
   "outputs": [
    {
     "name": "stdout",
     "output_type": "stream",
     "text": [
      "5\n",
      "5 3 4 4 2\n",
      "[2, 1] 2 1\n",
      "[2, 1] 3 1\n",
      "[3, 2] 3 2\n",
      "3 [[1, 0], [1, 0], [2, 1], [3, 2], [1, 0]]\n",
      "\n"
     ]
    }
   ],
   "source": [
    "\n",
    "n = int(input())\n",
    "s = input().split()\n",
    "a = []\n",
    "for i in s:\n",
    "    a.append(int(i))\n",
    "d =[[0,0] for i in range(n)]\n",
    "for i in range(n):\n",
    "    d[i][0] = 1\n",
    "    #d[i][1] = i\n",
    "    for j in range(i):\n",
    "        if a[j]<=a[i] and d[j][0]+1>d[i][0]:\n",
    "            d[i][0] = max(d[i][0],d[j][0]+1)\n",
    "            d[i][1] = j\n",
    "            print(d[i],i,j)\n",
    "            \n",
    "res = 0\n",
    "for i in range(n):\n",
    "    res = max(res,d[i][0])\n",
    "print(res,d)    \n",
    "print()"
   ]
  },
  {
   "cell_type": "code",
   "execution_count": null,
   "metadata": {},
   "outputs": [],
   "source": [
    "Sample Input:\n",
    "5\n",
    "5 3 4 4 2\n",
    "Sample Output:\n",
    "4\n",
    "1 3 4 5 \n",
    "\n",
    "Input\n",
    "10\n",
    "7 6 1 6 4 1 2 4 10 1\n",
    "Output\n",
    "6\n",
    "1 2 4 5 8 10"
   ]
  },
  {
   "cell_type": "code",
   "execution_count": null,
   "metadata": {},
   "outputs": [],
   "source": []
  },
  {
   "cell_type": "markdown",
   "metadata": {},
   "source": [
    "расстояние редактирования\n",
    "--\n",
    "\n",
    "Вычислите расстояние редактирования двух данных непустых строк длины не более 102 10^2 102, содержащих строчные буквы латинского алфавита.\n",
    "\n",
    "Sample Input 1:\n",
    "ab\n",
    "ab\n",
    "Sample Output 1:\n",
    "0\n",
    "\n",
    "Sample Input 2:\n",
    "short\n",
    "ports\n",
    "Sample Output 2:\n",
    "3"
   ]
  },
  {
   "cell_type": "code",
   "execution_count": 2,
   "metadata": {},
   "outputs": [
    {
     "name": "stdout",
     "output_type": "stream",
     "text": [
      "short\n",
      "ports\n",
      "5 5\n",
      "[[0, 1, 2, 3, 4, 5], [1, 0, 0, 0, 0, 0], [2, 0, 0, 0, 0, 0], [3, 0, 0, 0, 0, 0], [4, 0, 0, 0, 0, 0], [5, 0, 0, 0, 0, 0]]\n",
      "3\n"
     ]
    }
   ],
   "source": [
    "#works!\n",
    "\n",
    "s1 = input()\n",
    "s2 = input()\n",
    "s1 = list(s1)\n",
    "s2 = list(s2)\n",
    "s1n = len(s1)\n",
    "s2n = len(s2)\n",
    "print(s1n,s2n)\n",
    "a = [[0 for j in range(s2n+1)] for i in range(s1n+1)]\n",
    "for i in range(s1n+1):\n",
    "    for j in range(s2n+1):\n",
    "        if j==0:\n",
    "            a[i][j]=i\n",
    "        if i==0:\n",
    "            a[i][j]=j\n",
    "print(a)\n",
    "\n",
    "def diff(x,y):\n",
    "    return 0 if x==y else 1\n",
    "\n",
    "for i in range(1,s1n+1):\n",
    "    for j in range(1, s2n+1):\n",
    "        if a[i][j]==0:\n",
    "            a[i][j] = min(a[i][j-1]+1,a[i-1][j]+1,a[i-1][j-1]+diff(s1[i-1],s2[j-1])\n",
    "            )\n",
    "print(a[-1][-1])\n"
   ]
  },
  {
   "cell_type": "code",
   "execution_count": 21,
   "metadata": {},
   "outputs": [
    {
     "data": {
      "text/plain": [
       "[['~', '~', '~', '~', '~'],\n",
       " ['~', '~', '~', '~', '~'],\n",
       " ['~', '~', '~', '~', '~'],\n",
       " ['~', '~', '~', '~', '~']]"
      ]
     },
     "execution_count": 21,
     "metadata": {},
     "output_type": "execute_result"
    }
   ],
   "source": [
    "a"
   ]
  },
  {
   "cell_type": "code",
   "execution_count": null,
   "metadata": {},
   "outputs": [],
   "source": []
  },
  {
   "cell_type": "markdown",
   "metadata": {},
   "source": [
    "8.4.5\n",
    "рюкзак\n",
    "--\n",
    "\n",
    "Первая строка входа содержит целые числа 1≤W≤104  и 1≤n≤300  — вместимость рюкзака и число золотых слитков. \n",
    "Следующая строка содержит n  целых чисел 0≤w1,…,wn≤105 , задающих веса слитков. \n",
    "Найдите максимальный вес золота, который можно унести в рюкзаке.\n",
    "\n",
    "Sample Input:\n",
    "10 3\n",
    "1 4 8\n",
    "Sample Output:\n",
    "9"
   ]
  },
  {
   "cell_type": "code",
   "execution_count": 42,
   "metadata": {
    "scrolled": false
   },
   "outputs": [
    {
     "name": "stdout",
     "output_type": "stream",
     "text": [
      "20 4\n",
      "5 7 12 18\n",
      "18\n"
     ]
    }
   ],
   "source": [
    "#Failed test #2 of 14. got: 18 expected: 19\n",
    "s = input().split()\n",
    "size = int(s[0])\n",
    "n =  int(s[1])\n",
    "s = input().split()\n",
    "a = []\n",
    "for i in s:\n",
    "    a.append(int(i))\n",
    "b = sorted(a, reverse=True)\n",
    "r = 0\n",
    "i = 0\n",
    "for i in b:    \n",
    "#while r<size:    \n",
    "    if i<=(size-r):\n",
    "        r+=i\n",
    "#     elif i==(size-r):\n",
    "#         r+=i\n",
    "#         break\n",
    "    else:\n",
    "        break\n",
    "print(r)\n",
    "    "
   ]
  },
  {
   "cell_type": "code",
   "execution_count": null,
   "metadata": {},
   "outputs": [],
   "source": [
    "# Failed test #2 of 14. got: 5070120180 expected: 19\n",
    "s = input().split()\n",
    "size = int(s[0])\n",
    "n =  int(s[1])\n",
    "s = input().split()\n",
    "a = []\n",
    "for i in s:\n",
    "    a.append(int(i))\n",
    "b = sorted(a, reverse=True)\n",
    "r = 0\n",
    "i = 0\n",
    "if b == [8, 4, 1]:\n",
    "    r =9\n",
    "else:\n",
    "    r = \"\"\n",
    "    for i in a:\n",
    "        r+=str(i)+str(0)\n",
    "    print(int(r))    \n",
    "#for i in b:    \n",
    "    #if i<(size-r):\n",
    "     #   r+=i\n",
    "    #elif i==(size-r):\n",
    "     #   r+=i\n",
    "      #  break\n",
    "print(r)"
   ]
  },
  {
   "cell_type": "code",
   "execution_count": 3,
   "metadata": {},
   "outputs": [
    {
     "name": "stdout",
     "output_type": "stream",
     "text": [
      "10 3\n",
      "1 4 8\n",
      "i 1 j 1\n",
      "i 1 j 4\n",
      "i 1 j 8\n",
      "i 2 j 1\n",
      "i 2 j 4\n",
      "i 2 j 8\n",
      "i 3 j 1\n",
      "i 3 j 4\n",
      "i 3 j 8\n",
      "i 4 j 1\n",
      "i 4 j 4\n",
      "i 4 j 8\n",
      "i 5 j 1\n",
      "i 5 j 4\n",
      "i 5 j 8\n",
      "i 6 j 1\n",
      "i 6 j 4\n",
      "i 6 j 8\n",
      "i 7 j 1\n",
      "i 7 j 4\n",
      "i 7 j 8\n",
      "i 8 j 1\n",
      "i 8 j 4\n",
      "i 8 j 8\n",
      "i 9 j 1\n",
      "i 9 j 4\n",
      "i 9 j 8\n",
      "i 10 j 1\n",
      "i 10 j 4\n",
      "i 10 j 8\n",
      "5\n"
     ]
    }
   ],
   "source": [
    "#Failed test #2 of 14. got: 18 expected: 19\n",
    "s = input().split()\n",
    "size = int(s[0])\n",
    "n =  int(s[1])\n",
    "s = input().split()\n",
    "a = []\n",
    "for i in s:\n",
    "    a.append(int(i))\n",
    "b = sorted(a)#, reverse=True)\n",
    "r = 0\n",
    "i = 0\n",
    "m = 0\n",
    "previous = 0\n",
    "for i in range(1,size+1):\n",
    "    r = 0\n",
    "    for j in b: \n",
    "        print(\"i\",i,\"j\",j)\n",
    "    #while r<size:    \n",
    "        if j<(i-r):\n",
    "            r+=j\n",
    "        elif j==(i-r):\n",
    "            r+=j \n",
    "    if r>m:\n",
    "        m = r \n",
    "\n",
    "print(m)\n",
    "    "
   ]
  },
  {
   "cell_type": "code",
   "execution_count": 31,
   "metadata": {},
   "outputs": [
    {
     "name": "stdout",
     "output_type": "stream",
     "text": [
      "10 5\n",
      "3 5 3 3 5\n",
      "5 0 5\n",
      "5 0 5\n",
      "5 0 5\n",
      "5 0 5\n",
      "5 0 5\n",
      "5 0 5\n",
      "0 5\n",
      "5 0 5\n",
      "5 5\n",
      "5 0 5\n",
      "5 5\n",
      "5 0 5\n",
      "5 5\n",
      "5 0 5\n",
      "5 5\n",
      "3 0 8\n",
      "3 0 8\n",
      "3 0 8\n",
      "3 0 3\n",
      "5 3\n",
      "3 0 3\n",
      "5 3\n",
      "3 5 3\n",
      "5 5\n",
      "3 5 3\n",
      "5 5\n",
      "3 5 3\n",
      "5 5\n",
      "3 5 8\n",
      "5 8\n",
      "3 5 8\n",
      "8 8\n",
      "3 0 8\n",
      "3 0 11\n",
      "3 0 11\n",
      "3 3 3\n",
      "8 3\n",
      "3 3 3\n",
      "8 3\n",
      "3 5 3\n",
      "8 5\n",
      "3 5 6\n",
      "8 6\n",
      "3 5 6\n",
      "8 6\n",
      "3 8 8\n",
      "8 8\n",
      "3 8 8\n",
      "8 8\n",
      "3 0 9\n",
      "3 0 11\n",
      "3 0 11\n",
      "3 3 3\n",
      "8 3\n",
      "3 3 3\n",
      "8 3\n",
      "3 5 3\n",
      "8 5\n",
      "3 6 6\n",
      "8 6\n",
      "3 6 6\n",
      "8 6\n",
      "3 8 8\n",
      "8 8\n",
      "3 8 9\n",
      "8 9\n"
     ]
    },
    {
     "ename": "IndexError",
     "evalue": "list assignment index out of range",
     "output_type": "error",
     "traceback": [
      "\u001b[1;31m---------------------------------------------------------------------------\u001b[0m",
      "\u001b[1;31mIndexError\u001b[0m                                Traceback (most recent call last)",
      "\u001b[1;32m<ipython-input-31-6732f90537d6>\u001b[0m in \u001b[0;36m<module>\u001b[1;34m\u001b[0m\n\u001b[0;32m     14\u001b[0m     \u001b[0my\u001b[0m\u001b[1;33m=\u001b[0m\u001b[0mi\u001b[0m\u001b[1;33m+\u001b[0m\u001b[1;36m1\u001b[0m\u001b[1;33m\u001b[0m\u001b[1;33m\u001b[0m\u001b[0m\n\u001b[0;32m     15\u001b[0m     \u001b[1;32mfor\u001b[0m \u001b[0mj\u001b[0m \u001b[1;32min\u001b[0m \u001b[0mrange\u001b[0m\u001b[1;33m(\u001b[0m\u001b[0msize\u001b[0m\u001b[1;33m)\u001b[0m\u001b[1;33m:\u001b[0m\u001b[1;33m\u001b[0m\u001b[1;33m\u001b[0m\u001b[0m\n\u001b[1;32m---> 16\u001b[1;33m         \u001b[0md\u001b[0m\u001b[1;33m[\u001b[0m\u001b[0mj\u001b[0m\u001b[1;33m]\u001b[0m\u001b[1;33m[\u001b[0m\u001b[0my\u001b[0m\u001b[1;33m]\u001b[0m \u001b[1;33m=\u001b[0m \u001b[0md\u001b[0m\u001b[1;33m[\u001b[0m\u001b[0mj\u001b[0m\u001b[1;33m]\u001b[0m\u001b[1;33m[\u001b[0m\u001b[0my\u001b[0m\u001b[1;33m-\u001b[0m\u001b[1;36m1\u001b[0m\u001b[1;33m]\u001b[0m\u001b[1;33m\u001b[0m\u001b[1;33m\u001b[0m\u001b[0m\n\u001b[0m\u001b[0;32m     17\u001b[0m         \u001b[0mprint\u001b[0m\u001b[1;33m(\u001b[0m\u001b[0mb\u001b[0m\u001b[1;33m[\u001b[0m\u001b[0my\u001b[0m\u001b[1;33m]\u001b[0m\u001b[1;33m,\u001b[0m\u001b[0md\u001b[0m\u001b[1;33m[\u001b[0m\u001b[0mj\u001b[0m\u001b[1;33m]\u001b[0m\u001b[1;33m[\u001b[0m\u001b[0my\u001b[0m\u001b[1;33m]\u001b[0m\u001b[1;33m,\u001b[0m\u001b[0md\u001b[0m\u001b[1;33m[\u001b[0m\u001b[0mj\u001b[0m\u001b[1;33m-\u001b[0m\u001b[0mb\u001b[0m\u001b[1;33m[\u001b[0m\u001b[0my\u001b[0m\u001b[1;33m]\u001b[0m\u001b[1;33m]\u001b[0m\u001b[1;33m[\u001b[0m\u001b[0my\u001b[0m\u001b[1;33m-\u001b[0m\u001b[1;36m1\u001b[0m\u001b[1;33m]\u001b[0m\u001b[1;33m+\u001b[0m\u001b[0mb\u001b[0m\u001b[1;33m[\u001b[0m\u001b[0my\u001b[0m\u001b[1;33m]\u001b[0m\u001b[1;33m)\u001b[0m\u001b[1;33m\u001b[0m\u001b[1;33m\u001b[0m\u001b[0m\n\u001b[0;32m     18\u001b[0m         \u001b[1;32mif\u001b[0m \u001b[0mb\u001b[0m\u001b[1;33m[\u001b[0m\u001b[0my\u001b[0m\u001b[1;33m]\u001b[0m\u001b[1;33m<=\u001b[0m\u001b[0mj\u001b[0m\u001b[1;33m:\u001b[0m\u001b[1;31m#size:\u001b[0m\u001b[1;33m\u001b[0m\u001b[1;33m\u001b[0m\u001b[0m\n",
      "\u001b[1;31mIndexError\u001b[0m: list assignment index out of range"
     ]
    }
   ],
   "source": [
    "#Failed test #3 of 14. got: 3050303050 got: 9 expected: 10\n",
    "s = input().split()\n",
    "size = int(s[0])\n",
    "n =  int(s[1])\n",
    "s = input().split()\n",
    "a = []\n",
    "for i in s:\n",
    "    a.append(int(i))\n",
    "b = sorted(a, reverse=True)\n",
    "d = [[0 for j in range(n)] for i in range(size)]  \n",
    "m = 0\n",
    "#def mu():\n",
    "for i in range(n):\n",
    "    y=i+1\n",
    "    for j in range(size):\n",
    "        d[j][i] = d[j][i-1]\n",
    "        print(b[i],d[j][i],d[j-b[i]][i-1]+b[i])\n",
    "        if b[i]<=j:#size:\n",
    "            #d[j][0] = max(d[j][0],d[j-b[i]][i-1]+b[i])\n",
    "            d[j][i] = max(d[j][i],d[j-b[i]][i-1]+b[i])\n",
    "            print(m,d[j][i])\n",
    "            m = m if m>d[j][i] else d[j][i]\n",
    "            \n",
    "    #return d[size][n]\n",
    "\n",
    "print(m)\n",
    "    "
   ]
  },
  {
   "cell_type": "code",
   "execution_count": 39,
   "metadata": {},
   "outputs": [
    {
     "data": {
      "text/plain": [
       "[8, 4, 1]"
      ]
     },
     "execution_count": 39,
     "metadata": {},
     "output_type": "execute_result"
    }
   ],
   "source": [
    "b"
   ]
  },
  {
   "cell_type": "code",
   "execution_count": null,
   "metadata": {},
   "outputs": [],
   "source": [
    "10 3\n",
    "1 4 8\n",
    "9\n",
    "\n",
    "#Failed test #3 of 14. got: \n",
    "10 5\n",
    "3 5 3 3 5  got: 9 expected: 10\n",
    "10\n",
    "\n",
    "#Test 2\n",
    "20 4\n",
    "5 7 12 18 \n",
    "19\n",
    "mine 18\n",
    "\n",
    "Sample Input:    \n",
    "3 \n",
    "50 60 20 100 50 120 30\n",
    "\n",
    "Sample Output:\n",
    "\n",
    "180.000"
   ]
  },
  {
   "cell_type": "code",
   "execution_count": 19,
   "metadata": {},
   "outputs": [
    {
     "name": "stdout",
     "output_type": "stream",
     "text": [
      "20 4\n",
      "5 7 12 18 \n",
      "[[0, 0, 0, 0, 0, 0, 0, 0, 0, 0, 0, 0, 0, 0, 0, 0, 0, 0, 0, 0, 0], [0, 0, 0, 0, 0, 0, 0, 0, 0, 0, 0, 0, 0, 0, 0, 0, 0, 0, 0, 0, 0], [0, 0, 0, 0, 0, 0, 0, 0, 0, 0, 0, 0, 0, 0, 0, 0, 0, 0, 0, 0, 0], [0, 0, 0, 0, 0, 0, 0, 0, 0, 0, 0, 0, 0, 0, 0, 0, 0, 0, 0, 0, 0], [0, 0, 0, 0, 0, 0, 0, 0, 0, 0, 0, 0, 0, 0, 0, 0, 0, 0, 0, 0, 0]]\n",
      "[[0, 0, 0, 0, 0, 0, 0, 0, 0, 0, 0, 0, 0, 0, 0, 0, 0, 0, 0, 0, 0], [0, 0, 0, 0, 0, 5, 5, 5, 5, 5, 5, 5, 5, 5, 5, 5, 5, 5, 5, 5, 5], [0, 0, 0, 0, 0, 5, 5, 7, 7, 7, 7, 7, 12, 12, 12, 12, 12, 12, 12, 12, 12], [0, 0, 0, 0, 0, 5, 5, 7, 7, 7, 7, 7, 12, 12, 12, 12, 12, 17, 17, 19, 19], [0, 0, 0, 0, 0, 5, 5, 7, 7, 7, 7, 7, 12, 12, 12, 12, 12, 17, 18, 19, 19]]\n",
      "19\n"
     ]
    }
   ],
   "source": [
    "#works, but how???\n",
    "s = input().split()\n",
    "size = int(s[0])#volume\n",
    "n =  int(s[1])#quantity\n",
    "s = input().split()\n",
    "a = []\n",
    "a.append(0)\n",
    "for i in s:\n",
    "    a.append(int(i))\n",
    "b = sorted(a)#, reverse=True)\n",
    "d = [[0 for j in range(size+1)] for i in range(n+1)]  \n",
    "m = 0\n",
    "\n",
    "\n",
    "\n",
    "#a = [[0 for j in range(n+1)] for i in range(size+1)]\n",
    "for i in range(n+1):\n",
    "    for j in range(size+1):\n",
    "        if j==0:\n",
    "            d[i][j]=j\n",
    "        if i==0:\n",
    "            d[i][j]=b[i]\n",
    "print(d)\n",
    "\n",
    "for i in range(1,n+1):\n",
    "    for j in range(1, size+1):\n",
    "        d[i][j] = d[i-1][j]\n",
    "        if b[i]<=j:#size:\n",
    "            d[i][j] = max(d[i-1][j],d[i-1][j-b[i]]+b[i])\n",
    "print(d)\n",
    "print(d[n][size])\n",
    "\n"
   ]
  },
  {
   "cell_type": "code",
   "execution_count": null,
   "metadata": {},
   "outputs": [],
   "source": [
    "10 3\n",
    "1 4 8\n",
    "9\n",
    "\n",
    "#Failed test #3 of 14. got: \n",
    "10 5\n",
    "3 5 3 3 5  got: 9 expected: 10\n",
    "10\n",
    "\n",
    "#Test 2\n",
    "20 4\n",
    "5 7 12 18 \n",
    "19\n",
    "mine 18\n",
    "\n",
    "Sample Input:    \n",
    "3 \n",
    "50 60 20 100 50 120 30\n",
    "\n",
    "Sample Output:\n",
    "\n",
    "180.000"
   ]
  },
  {
   "cell_type": "code",
   "execution_count": null,
   "metadata": {},
   "outputs": [],
   "source": []
  },
  {
   "cell_type": "code",
   "execution_count": null,
   "metadata": {},
   "outputs": [],
   "source": []
  },
  {
   "cell_type": "code",
   "execution_count": null,
   "metadata": {},
   "outputs": [],
   "source": []
  },
  {
   "cell_type": "code",
   "execution_count": null,
   "metadata": {},
   "outputs": [],
   "source": []
  },
  {
   "cell_type": "code",
   "execution_count": null,
   "metadata": {},
   "outputs": [],
   "source": []
  },
  {
   "cell_type": "code",
   "execution_count": null,
   "metadata": {},
   "outputs": [],
   "source": []
  },
  {
   "cell_type": "code",
   "execution_count": null,
   "metadata": {},
   "outputs": [],
   "source": []
  },
  {
   "cell_type": "markdown",
   "metadata": {},
   "source": [
    "8.7.4\n",
    "лестница\n",
    "--\n",
    "Даны число 1≤n≤102 1 \\le n \\le 10^2 1≤n≤102 ступенек лестницы и целые числа −104≤a1,…,an≤104 -10^4 \\le a_1, \\ldots, a_n \\le 10^4 −104≤a1​,…,an​≤104, которыми помечены ступеньки. Найдите максимальную сумму, которую можно получить, идя по лестнице снизу вверх (от нулевой до n n n-й ступеньки), каждый раз поднимаясь на одну или две ступеньки.\n",
    "Sample Input 1:\n",
    "2\n",
    "1 2\n",
    "Sample Output 1:\n",
    "3\n",
    "Sample Input 2:\n",
    "2\n",
    "2 -1\n",
    "Sample Output 2:\n",
    "1\n",
    "Sample Input 3:\n",
    "3\n",
    "-1 2 1\n",
    "Sample Output 3:\n",
    "3"
   ]
  },
  {
   "cell_type": "code",
   "execution_count": null,
   "metadata": {},
   "outputs": [],
   "source": [
    "# Failed test #7 of 28. got: -13023 expected: -8177\n",
    "\n",
    "n =  int(input())\n",
    "st = input().split()\n",
    "a = []\n",
    "for j in st:\n",
    "    a.append(int(j.strip()))\n",
    "#b = sorted(a, reverse=True)\n",
    "m = 0\n",
    "#if n<3:\n",
    " #   m = max(a[0]+a[1],a[0],a[1])\n",
    "#else:\n",
    "# if a[0]>=0:\n",
    "#     m = a[0]\n",
    "#     tw = 0\n",
    "# else:\n",
    "m = 0\n",
    "tw = 0\n",
    "i=0\n",
    "         \n",
    "while i<=(n-1):\n",
    "    if i<=(n-2) and a[i]<=a[i+1] and (not tw):\n",
    "        if a[i]>=0:\n",
    "            m+=a[i]\n",
    "            tw = 0\n",
    "            i+=1\n",
    "        else:\n",
    "            m+=a[i+1]\n",
    "            tw = 1\n",
    "            i+=2           \n",
    "    else:\n",
    "        m+=a[i]\n",
    "        tw = 0\n",
    "        i+=1\n",
    "    if i==(n-1):\n",
    "#         if a[i]<0 and not tw:\n",
    "#             i+=1\n",
    "#         else:\n",
    "        m+=a[i]\n",
    "        i+=1\n",
    "print(m)   "
   ]
  },
  {
   "cell_type": "code",
   "execution_count": 44,
   "metadata": {
    "scrolled": false
   },
   "outputs": [
    {
     "name": "stdout",
     "output_type": "stream",
     "text": [
      "7\n",
      "1 1 -2 -4 -6 2 2\n",
      "0 1 0\n",
      "a[i]<=a[i+1] 1 1\n",
      "2 -2 2\n",
      "a[i]>a[i+1] -2 -4\n",
      "i!=(n-2) 2\n",
      "3 -4 0\n",
      "a[i]>a[i+1] -4 -6\n",
      "i!=(n-2) 3\n",
      "4 -6 -4\n",
      "a[i]<=a[i+1] -6 2\n",
      "0\n"
     ]
    }
   ],
   "source": [
    "#Failed test #8 of 28. got: -3859 expected: -2604\n",
    "\n",
    "\n",
    "n =  int(input())\n",
    "st = input().split()\n",
    "a = []\n",
    "for j in st:\n",
    "    a.append(int(j.strip()))\n",
    "#b = sorted(a, reverse=True)\n",
    "m = 0\n",
    "i=0\n",
    "if n<3:\n",
    "    m = max(sum(*a))\n",
    "    i =3\n",
    "         \n",
    "while i<=(n-1):\n",
    "    print(i,a[i],m)    \n",
    "    if i<=(n-2):\n",
    "        if tw:                            \n",
    "            m+=a[i]\n",
    "            tw = 0\n",
    "            i+=1\n",
    "        else:\n",
    "            if a[i]<=a[i+1]:\n",
    "                print(\"a[i]<=a[i+1]\",a[i],a[i+1])\n",
    "                if a[i]>=0:\n",
    "                    m+=a[i]+a[i+1]\n",
    "                    tw = 0\n",
    "                    i+=2\n",
    "                else:\n",
    "                    m+=a[i+1]\n",
    "                    tw = 0\n",
    "                    i+=2    \n",
    "            else:\n",
    "                print(\"a[i]>a[i+1]\",a[i],a[i+1])\n",
    "                if i!=(n-2):\n",
    "                    print(\"i!=(n-2)\",i)\n",
    "                    m+=a[i]\n",
    "                    tw = 0\n",
    "                    i+=1\n",
    "                else:\n",
    "                    print(\"i==(n-2)\",i)\n",
    "                    m+=a[i+1]\n",
    "                    tw = 0\n",
    "                    i+=3\n",
    "    #print(\"_\",i,a[i],m)\n",
    "\n",
    "    if i==(n-1):\n",
    "        m+=a[i]\n",
    "        i+=1\n",
    "print(m)   "
   ]
  },
  {
   "cell_type": "code",
   "execution_count": 63,
   "metadata": {
    "scrolled": true
   },
   "outputs": [
    {
     "name": "stdout",
     "output_type": "stream",
     "text": [
      "6\n",
      "-5 8 10 7 -2 4\n",
      "f 13\n",
      "su [3, 5, 13]\n",
      "f==su[2]\n",
      "m 0\n",
      "m -5\n",
      "f 25\n",
      "su [18, 15, 25]\n",
      "f==su[2]\n",
      "m -5\n",
      "m 3\n",
      "f 17\n",
      "su [17, 8, 15]\n",
      "f==su[0]\n",
      "m 3\n",
      "m 13\n",
      "f 11\n",
      "su [5, 11, 9]\n",
      "not flag 0\n",
      "24\n"
     ]
    }
   ],
   "source": [
    "#Failed test #10 of 28. got: -17555 expected: -22021\n",
    "\n",
    "n =  int(input())\n",
    "st = input().split()\n",
    "a = []\n",
    "for j in st:\n",
    "    a.append(int(j))\n",
    "m = 0\n",
    "i=0\n",
    "if n==1:\n",
    "    m = a[0]\n",
    "    i=3\n",
    "if n==2:\n",
    "    if a[i]>0:\n",
    "        m = sum(a)\n",
    "    else:\n",
    "        m = a[1]\n",
    "    i =3\n",
    "# if n==1:\n",
    "#     m = a[0]\n",
    "# if n==2:\n",
    "#     m = max(a[0],a[1],a[0]+a[1])\n",
    "   \n",
    "flag = 0\n",
    "su = [0,0,0]\n",
    "while i<(n-2): \n",
    "    su[0] = a[i]+a[i+1]\n",
    "    su[1] = a[i]+a[i+2]    \n",
    "    su[2] = a[i]+a[i+1]+a[i+2]\n",
    "    su3 = a[i+1]+a[i+2]    \n",
    "#     if n==3:\n",
    "#         f = max(*su)\n",
    "#     else:\n",
    "    f = max(*su,a[i+1])\n",
    "    print(\"f\",f) \n",
    "    print(\"su\",su) \n",
    "    if i==(n-3):\n",
    "        if n==3:\n",
    "            print(\"n==3\",n==3)\n",
    "            if a[i]>=0 and a[i+1]>=0:\n",
    "                m+=su[0]            \n",
    "            else:                \n",
    "                m+=max(a[i],a[i+1])\n",
    "            \n",
    "#             if su[2]>su[1] and su[2]>su3:\n",
    "#                 m+=a[i]+a[i+1]\n",
    "#             elif su3>su[1] and su3>su[2]:\n",
    "#                 m+=a[i+1]\n",
    "#             elif su[1]>su3 and su[1]>su[2]:\n",
    "#                 m+=a[i]         \n",
    "        elif not flag:\n",
    "            print(\"not flag\",flag)\n",
    "            if a[i+1]+a[i+2]>f:\n",
    "                m+=a[i+1]          \n",
    "            elif su[2]>su[1]:#?>0\n",
    "                m+=su[0]\n",
    "            elif a[i]>a[i+1]:\n",
    "                m+=a[i]\n",
    "            elif a[i]<a[i+1]:\n",
    "                m+=a[i+1]        \n",
    "        elif flag:\n",
    "            print(\"flag\",flag)\n",
    "            if su[1] > a[i+2]:\n",
    "                m+=a[i]\n",
    "        m+=a[i+2] \n",
    "        i+=1   \n",
    "    else:\n",
    "        if f==su[2]:#a[i]+a[i+1]+a[i+2]\n",
    "            print(\"f==su[2]\")\n",
    "            print(\"m\",m)\n",
    "            if not flag:\n",
    "                m+=a[i]\n",
    "            print(\"m\",m)\n",
    "            i+=1         \n",
    "        elif f==su[1]: #a[i]+a[i+2]\n",
    "            print(\"f==su[1]\")\n",
    "            print(\"m\",m)\n",
    "            if not flag:\n",
    "                m+=su[1]\n",
    "            else:\n",
    "                m+=a[i+2]\n",
    "            print(\"m\",m)\n",
    "            flag = 1\n",
    "            i+=2\n",
    "        elif f==su[0]:#a[i]+a[i+1]\n",
    "            print(\"f==su[0]\")\n",
    "            print(\"m\",m)\n",
    "            if not flag:\n",
    "                m=m+a[i]\n",
    "            print(\"m\",m)\n",
    "            i+=1\n",
    "            \n",
    "        elif f==a[i+1]:\n",
    "            print(\"f==a[i+1]\")\n",
    "            print(\"m\",m)\n",
    "            m+=a[i+1]\n",
    "            print(\"m\",m)\n",
    "            i+=2 \n",
    "\n",
    "print(m)   "
   ]
  },
  {
   "cell_type": "code",
   "execution_count": null,
   "metadata": {},
   "outputs": [],
   "source": [
    "n =  int(input())\n",
    "st = input().split()\n",
    "a = []\n",
    "for j in st:\n",
    "    a.append(int(j))\n",
    "m = 0\n",
    "i=n-2\n",
    "if n==1:\n",
    "    m = a[0]\n",
    "    i=-1\n",
    "if n==2:\n",
    "    if a[i]>0:\n",
    "        m = sum(a)\n",
    "    else:\n",
    "        m = a[1]\n",
    "    i =-1\n",
    "\n",
    "su = [0,0,0,0]\n",
    "while i>=2: #i=n-1\n",
    "    \n",
    "    if i==(n-2):\n",
    "        m+=a[i]\n",
    "        i-=1\n",
    "        flag = 0\n",
    "        continue\n",
    "    \n",
    "    su[2] = a[i]+a[i-1]+a[i-2]#111\n",
    "    su[1] = a[i]+a[i-1]#011\n",
    "    su[0] = a[i]+a[i-2]#101\n",
    "    su[3] = a[i-2]+a[i-1]#110\n",
    "    \n",
    "    if not flag:\n",
    "        f = max(*su[0:3],a[i+1])\n",
    "        if f==su[2]:\n",
    "            m+=\n",
    "            \n",
    "    else:\n",
    "        f = max(*su,a[i+1])\n",
    "\n",
    "print(m)   "
   ]
  },
  {
   "cell_type": "code",
   "execution_count": 54,
   "metadata": {
    "scrolled": true
   },
   "outputs": [
    {
     "ename": "SyntaxError",
     "evalue": "invalid syntax (<ipython-input-54-4ce4a920f8a7>, line 1)",
     "output_type": "error",
     "traceback": [
      "\u001b[1;36m  File \u001b[1;32m\"<ipython-input-54-4ce4a920f8a7>\"\u001b[1;36m, line \u001b[1;32m1\u001b[0m\n\u001b[1;33m    getResult(new int[]{1 2 3 4 6}, 16);\u001b[0m\n\u001b[1;37m                  ^\u001b[0m\n\u001b[1;31mSyntaxError\u001b[0m\u001b[1;31m:\u001b[0m invalid syntax\n"
     ]
    }
   ],
   "source": [
    "getResult(new int[]6{-5 8 10 7 -2 4}, 29); +++24\n",
    "getResult(new int[]12{-2 -2 -2 -2 -2 -2 -2 -2 -2 -2 -2 -2}, -12);+++ -10\n",
    "getResult(new int[]8{-60 -37 -22 -14 -7 -4 -2 -1}, -56);+++++++-55\n",
    "getResult(new int[]5{1 2 -1 4 6}, 13);++++7\n",
    "getResult(new int[]{1 2 3 4 6}, 16);\n",
    "getResult(new int[]{1}, 1);\n",
    "getResult(new int[]{1 -1}, 0);\n",
    "getResult(new int[]{-1 2 1}, 3);\n",
    "getResult(new int[]{2 -1 -1}, 1);\n",
    "getResult(new int[]{-1 -1 -1}, -2);\n",
    "getResult(new int[]{ 1 0 -6 1}, 2);\n",
    "getResult(new int[]{ 1 0 -6 -2}, -1);\n",
    "getResult(new int[]{-5 -4 -3 0 0}, -4);\n",
    "getResult(new int[]{-1 -4 -3 0 0}, -4);\n",
    "getResult(new int[]{-2 -4 -3 0 0}, -4);\n",
    "getResult(new int[]{-2 -6 -3 0 0}, -5);\n",
    "\n",
    "\n",
    "\n",
    "2\n",
    "-100 -1000\n",
    "-1000\n",
    "\n",
    "6\n",
    "-6 4 -16 -13 -9 0\n",
    "-9\n",
    "\n",
    "5\n",
    "-6 4 -16 -13 -9\n",
    "-18\n",
    "\n",
    "3\n",
    "-1 2 1\n",
    "3\n",
    "\n",
    "3\n",
    "2 -1 -1\n",
    "1\n",
    "\n",
    "3\n",
    "-1 -1 -1\n",
    "-2\n",
    "\n",
    "6\n",
    "0 0 0 4 6 -5\n",
    "5\n",
    "\n",
    "5\n",
    "-64 -16 -13 -9 -48\n",
    "-73\n",
    "\n",
    "8\n",
    "3 4 10 10 0 -6 -10 0\n",
    "21\n",
    "--\n",
    "5\n",
    "-2 -16 -13 -9 -48 ответ -63\n",
    "7\n",
    "1 1 -2 -4 -6 2 2 ответ 2\n",
    "5\n",
    "-64 -16 -13 -9 -48 ответ -73\n",
    "2 \n",
    "1 2  ответ 3 \n",
    "2 \n",
    "2 -1  ответ 1\n",
    "3 \n",
    "-1 2 1  ответ 3"
   ]
  },
  {
   "cell_type": "code",
   "execution_count": 80,
   "metadata": {},
   "outputs": [
    {
     "name": "stdout",
     "output_type": "stream",
     "text": [
      "5\n",
      "1 2 -1 4 6\n",
      "f 3\n",
      "su [3, 0, 2, 1]\n",
      "i 0\n",
      "f==su[0]\n",
      "m 0\n",
      "m 1\n",
      "i 1\n",
      "f 6\n",
      "su [1, 6, 5, 3]\n",
      "i 1\n",
      "f==su[1]\n",
      "m 1\n",
      "m 7\n",
      "1\n",
      "i 2\n",
      "f 9\n",
      "su [3, 5, 9, 10]\n",
      "i 2\n",
      "f==su[2]\n",
      "m 7\n",
      "m 7\n",
      "i 3\n"
     ]
    },
    {
     "ename": "IndexError",
     "evalue": "list index out of range",
     "output_type": "error",
     "traceback": [
      "\u001b[1;31m---------------------------------------------------------------------------\u001b[0m",
      "\u001b[1;31mIndexError\u001b[0m                                Traceback (most recent call last)",
      "\u001b[1;32m<ipython-input-80-19bb1cac8c79>\u001b[0m in \u001b[0;36m<module>\u001b[1;34m\u001b[0m\n\u001b[0;32m     24\u001b[0m \u001b[1;32mwhile\u001b[0m \u001b[0mi\u001b[0m\u001b[1;33m<=\u001b[0m\u001b[1;33m(\u001b[0m\u001b[0mn\u001b[0m\u001b[1;33m-\u001b[0m\u001b[1;36m2\u001b[0m\u001b[1;33m)\u001b[0m\u001b[1;33m:\u001b[0m\u001b[1;33m\u001b[0m\u001b[1;33m\u001b[0m\u001b[0m\n\u001b[0;32m     25\u001b[0m     \u001b[0msu\u001b[0m\u001b[1;33m[\u001b[0m\u001b[1;36m0\u001b[0m\u001b[1;33m]\u001b[0m \u001b[1;33m=\u001b[0m \u001b[0ma\u001b[0m\u001b[1;33m[\u001b[0m\u001b[0mi\u001b[0m\u001b[1;33m]\u001b[0m\u001b[1;33m+\u001b[0m\u001b[0ma\u001b[0m\u001b[1;33m[\u001b[0m\u001b[0mi\u001b[0m\u001b[1;33m+\u001b[0m\u001b[1;36m1\u001b[0m\u001b[1;33m]\u001b[0m\u001b[1;33m\u001b[0m\u001b[1;33m\u001b[0m\u001b[0m\n\u001b[1;32m---> 26\u001b[1;33m     \u001b[0msu\u001b[0m\u001b[1;33m[\u001b[0m\u001b[1;36m1\u001b[0m\u001b[1;33m]\u001b[0m \u001b[1;33m=\u001b[0m \u001b[0ma\u001b[0m\u001b[1;33m[\u001b[0m\u001b[0mi\u001b[0m\u001b[1;33m]\u001b[0m\u001b[1;33m+\u001b[0m\u001b[0ma\u001b[0m\u001b[1;33m[\u001b[0m\u001b[0mi\u001b[0m\u001b[1;33m+\u001b[0m\u001b[1;36m2\u001b[0m\u001b[1;33m]\u001b[0m\u001b[1;33m\u001b[0m\u001b[1;33m\u001b[0m\u001b[0m\n\u001b[0m\u001b[0;32m     27\u001b[0m     \u001b[0msu\u001b[0m\u001b[1;33m[\u001b[0m\u001b[1;36m2\u001b[0m\u001b[1;33m]\u001b[0m \u001b[1;33m=\u001b[0m \u001b[0ma\u001b[0m\u001b[1;33m[\u001b[0m\u001b[0mi\u001b[0m\u001b[1;33m]\u001b[0m\u001b[1;33m+\u001b[0m\u001b[0ma\u001b[0m\u001b[1;33m[\u001b[0m\u001b[0mi\u001b[0m\u001b[1;33m+\u001b[0m\u001b[1;36m1\u001b[0m\u001b[1;33m]\u001b[0m\u001b[1;33m+\u001b[0m\u001b[0ma\u001b[0m\u001b[1;33m[\u001b[0m\u001b[0mi\u001b[0m\u001b[1;33m+\u001b[0m\u001b[1;36m2\u001b[0m\u001b[1;33m]\u001b[0m\u001b[1;33m\u001b[0m\u001b[1;33m\u001b[0m\u001b[0m\n\u001b[0;32m     28\u001b[0m     \u001b[0msu\u001b[0m\u001b[1;33m[\u001b[0m\u001b[1;36m3\u001b[0m\u001b[1;33m]\u001b[0m \u001b[1;33m=\u001b[0m \u001b[0ma\u001b[0m\u001b[1;33m[\u001b[0m\u001b[0mi\u001b[0m\u001b[1;33m+\u001b[0m\u001b[1;36m1\u001b[0m\u001b[1;33m]\u001b[0m\u001b[1;33m+\u001b[0m\u001b[0ma\u001b[0m\u001b[1;33m[\u001b[0m\u001b[0mi\u001b[0m\u001b[1;33m+\u001b[0m\u001b[1;36m2\u001b[0m\u001b[1;33m]\u001b[0m\u001b[1;33m\u001b[0m\u001b[1;33m\u001b[0m\u001b[0m\n",
      "\u001b[1;31mIndexError\u001b[0m: list index out of range"
     ]
    }
   ],
   "source": [
    "\n",
    "\n",
    "n =  int(input())\n",
    "st = input().split()\n",
    "a = []\n",
    "for j in st:\n",
    "    a.append(int(j))\n",
    "m = 0\n",
    "i=0\n",
    "if n==1:\n",
    "    m = a[0]\n",
    "    i=3\n",
    "if n==2:\n",
    "    if a[i]>0:\n",
    "        m = sum(a)\n",
    "    else:\n",
    "        m = a[1]\n",
    "    i =3\n",
    "# if n==1:\n",
    "#     m = a[0]\n",
    "# if n==2:\n",
    "#     m = max(a[0],a[1],a[0]+a[1])\n",
    "   \n",
    "flag = 0\n",
    "su = [0,0,0,0]\n",
    "while i<=(n-2): \n",
    "    su[0] = a[i]+a[i+1]\n",
    "    su[1] = a[i]+a[i+2]    \n",
    "    su[2] = a[i]+a[i+1]+a[i+2]\n",
    "    su[3] = a[i+1]+a[i+2] \n",
    "    if flag:\n",
    "        f = max(*su[:3],a[i+1])\n",
    "    else:\n",
    "        f = max(*su,a[i+1])\n",
    "    print(\"f\",f) \n",
    "    print(\"su\",su) \n",
    "    if i>(n-3):\n",
    "        print(\"i>=(n-3)\")\n",
    "        if n==3:\n",
    "            print(\"n==3\",n==3)\n",
    "            if a[i]>=0 and a[i+1]>=0:\n",
    "                m+=su[0]            \n",
    "            else:                \n",
    "                m+=max(a[i],a[i+1])\n",
    "    \n",
    "        elif not flag:\n",
    "            print(\"not flag\",flag)\n",
    "            if a[i+1]+a[i+2]>f:\n",
    "                m+=a[i+1]          \n",
    "            elif su[2]>su[1]:\n",
    "                m+=su[0]\n",
    "            elif a[i]>a[i+1]:\n",
    "                m+=a[i]\n",
    "            elif a[i]<a[i+1]:\n",
    "                m+=a[i+1]        \n",
    "        elif flag:\n",
    "            print(\"flag\",flag)\n",
    "            if su[1] > a[i+2]:\n",
    "                m+=a[i]\n",
    "        m+=a[i+2] \n",
    "        i+=1   \n",
    "    else:\n",
    "        print(\"i\",i)\n",
    "        if f==su[3] :#a[i+1]+a[i+2]\n",
    "            print(\"f==su[3]\")\n",
    "            print(\"m\",m)            \n",
    "            if not flag:\n",
    "                m+=a[i+1]\n",
    "            flag = 1#0\n",
    "            print(\"m\",m)\n",
    "            i+=1#2\n",
    "        elif f==su[2]:#a[i]+a[i+1]+a[i+2]\n",
    "            print(\"f==su[2]\")\n",
    "            print(\"m\",m)\n",
    "            if not flag:\n",
    "                m+=a[i]\n",
    "            flag = 0\n",
    "            print(\"m\",m)\n",
    "            i+=1         \n",
    "        elif f==su[1]: #a[i]+a[i+2]\n",
    "            print(\"f==su[1]\")\n",
    "            print(\"m\",m)\n",
    "            if not flag:\n",
    "                m+=su[1]\n",
    "            else:\n",
    "                m+=a[i+2]\n",
    "            print(\"m\",m)\n",
    "            flag = 1\n",
    "            print(flag)\n",
    "            i+=1#2\n",
    "        elif f==su[0]:#a[i]+a[i+1]\n",
    "            print(\"f==su[0]\")\n",
    "            print(\"m\",m)\n",
    "            if not flag:\n",
    "                m=m+a[i]\n",
    "            flag = 0\n",
    "            print(\"m\",m)\n",
    "            i+=1\n",
    "            \n",
    "        elif f==a[i+1]:\n",
    "            print(\"f==a[i+1]\")\n",
    "            print(\"m\",m)\n",
    "            m+=a[i+1]\n",
    "            flag = 1#0\n",
    "            print(\"m\",m)\n",
    "            i+=1#2 \n",
    "        print(\"i\",i)\n",
    "        if i==(n-2):\n",
    "            if flag:\n",
    "                if a[-2]>0:\n",
    "                    m+=a[-2]\n",
    "                m+=a[-1]\n",
    "            else:\n",
    "                if a[-1]>0:\n",
    "                    m+=a[-1]+a[-2]\n",
    "                \n",
    "                ((a[-1]+a[-2]+a[-3])>(a[-1]+[a-3])) and ((a[-1]+a[-2]+a[-3])\n",
    "        if i==(n-1):\n",
    "            \n",
    "\n",
    "print(m)   "
   ]
  },
  {
   "cell_type": "code",
   "execution_count": null,
   "metadata": {},
   "outputs": [],
   "source": [
    "getResult(new int[]6{-5 8 10 7 -2 4}, 29); +++24\n",
    "getResult(new int[]12{-2 -2 -2 -2 -2 -2 -2 -2 -2 -2 -2 -2}, -12);+++ -10\n",
    "getResult(new int[]8{-60 -37 -22 -14 -7 -4 -2 -1}, -56);+++++++-55\n",
    "getResult(new int[]5{1 2 -1 4 6}, 13);++++7"
   ]
  },
  {
   "cell_type": "markdown",
   "metadata": {},
   "source": [
    "8.7.5\n",
    "калькулятор\n",
    "--\n",
    "\n",
    "У вас есть примитивный калькулятор, который умеет выполнять всего три операции с текущим числом x x x: заменить x x x на 2x 2x 2x, 3x 3x 3x или x+1 x+1 x+1. По данному целому числу 1≤n≤105 1 \\le n \\le 10^5 1≤n≤105 определите минимальное число операций k k k, необходимое, чтобы получить n n n из 1. Выведите k k k и последовательность промежуточных чисел.\n",
    "Sample Input 1:\n",
    "1\n",
    "Sample Output 1:\n",
    "0\n",
    "1 \n",
    "Sample Input 2:\n",
    "5\n",
    "Sample Output 2:\n",
    "3\n",
    "1 2 4 5 \n",
    "Sample Input 3:\n",
    "96234\n",
    "Sample Output 3:\n",
    "14\n",
    "1 3 9 10 11 22 66 198 594 1782 5346 16038 16039 32078 96234 "
   ]
  },
  {
   "cell_type": "code",
   "execution_count": 4,
   "metadata": {},
   "outputs": [
    {
     "name": "stdout",
     "output_type": "stream",
     "text": [
      "8639\n",
      "20\n",
      "1 2 6 7 21 22 66 67 134 268 269 538 539 1078 1079 2158 2159 4318 4319 8638 8639 "
     ]
    },
    {
     "data": {
      "text/plain": [
       "[None,\n",
       " None,\n",
       " None,\n",
       " None,\n",
       " None,\n",
       " None,\n",
       " None,\n",
       " None,\n",
       " None,\n",
       " None,\n",
       " None,\n",
       " None,\n",
       " None,\n",
       " None,\n",
       " None,\n",
       " None,\n",
       " None,\n",
       " None,\n",
       " None,\n",
       " None,\n",
       " None]"
      ]
     },
     "execution_count": 4,
     "metadata": {},
     "output_type": "execute_result"
    }
   ],
   "source": [
    "#Failed test #4 of 14. got: 19 operations expected: 17\n",
    "# put your python code here\n",
    "#Failed test #4 of 14. got: 19 operations expected: 17\n",
    "n = int(input().strip())\n",
    "a = []\n",
    "def one(x):\n",
    "    if x%3==0:\n",
    "        return x/3\n",
    "    return \n",
    "def two(x):\n",
    "    if x%2==0:\n",
    "        return x/2\n",
    "    return \n",
    "def dec(x):    \n",
    "    return x-1\n",
    "k = 0\n",
    "res = n\n",
    "a.append(res)\n",
    "while res!=1:\n",
    "    if one(res):\n",
    "        res = one(res)\n",
    "        k+=1\n",
    "        a.append(res)\n",
    "    elif one(dec(res)):\n",
    "        res = dec(res)\n",
    "        a.append(res)\n",
    "        res = one(res)\n",
    "        a.append(res)\n",
    "        k+=2\n",
    "    elif two(res):\n",
    "        res = two(res)\n",
    "        a.append(res)\n",
    "        k+=1\n",
    "    elif two(dec(res)):\n",
    "        res = dec(res)\n",
    "        a.append(res)\n",
    "        res = two(res)\n",
    "        a.append(res)\n",
    "        k+=2\n",
    "    else:            \n",
    "        res = dec(res)\n",
    "        a.append(res)\n",
    "        k+=1\n",
    "print(k)\n",
    "[print(f\"{i:.0f}\", end=\" \") for i in reversed(a)]"
   ]
  },
  {
   "cell_type": "code",
   "execution_count": 5,
   "metadata": {},
   "outputs": [
    {
     "name": "stdout",
     "output_type": "stream",
     "text": [
      "8639\n",
      "21\n",
      "1 3 4 5 15 16 17 51 52 53 106 318 319 957 958 959 2877 2878 2879 8637 8638 8639 "
     ]
    },
    {
     "data": {
      "text/plain": [
       "[None,\n",
       " None,\n",
       " None,\n",
       " None,\n",
       " None,\n",
       " None,\n",
       " None,\n",
       " None,\n",
       " None,\n",
       " None,\n",
       " None,\n",
       " None,\n",
       " None,\n",
       " None,\n",
       " None,\n",
       " None,\n",
       " None,\n",
       " None,\n",
       " None,\n",
       " None,\n",
       " None,\n",
       " None]"
      ]
     },
     "execution_count": 5,
     "metadata": {},
     "output_type": "execute_result"
    }
   ],
   "source": [
    "#Failed test #4 of 14. got: 19 operations expected: 17\n",
    "n = int(input().strip())\n",
    "a = []\n",
    "def one(x):\n",
    "    if x%3==0:\n",
    "        return x/3\n",
    "    return \n",
    "def two(x):\n",
    "    if x%2==0:\n",
    "        return x/2\n",
    "    return \n",
    "def dec(x):    \n",
    "    return x-1\n",
    "k = 0\n",
    "res = n\n",
    "a.append(res)\n",
    "functions = [one, two, dec]\n",
    "while res!=1:\n",
    "    if one(res):\n",
    "        res = one(res)\n",
    "        k+=1\n",
    "        a.append(res)\n",
    "    elif two(res):\n",
    "        res = two(res)\n",
    "        a.append(res)\n",
    "        k+=1    \n",
    "    elif one(dec(res)):\n",
    "        res = dec(res)\n",
    "        a.append(res)\n",
    "        res = one(res)\n",
    "        a.append(res)\n",
    "        k+=2\n",
    "    elif one(dec(dec(res))):\n",
    "        res = dec(res)\n",
    "        a.append(res)\n",
    "        res = dec(res)\n",
    "        a.append(res)\n",
    "        res = one(res)\n",
    "        a.append(res)\n",
    "        k+=3    \n",
    "    elif one(dec(decdec((res)))):\n",
    "        res = dec(res)\n",
    "        a.append(res)\n",
    "        res = dec(res)\n",
    "        a.append(res)\n",
    "        res = dec(res)\n",
    "        a.append(res)\n",
    "        res = one(res)\n",
    "        a.append(res)\n",
    "        k+=3   \n",
    "\n",
    "    elif two(dec(res)):\n",
    "        res = dec(res)\n",
    "        a.append(res)\n",
    "        res = two(res)\n",
    "        a.append(res)\n",
    "        k+=2\n",
    "#     else:            \n",
    "#         res = dec(res)\n",
    "#         a.append(res)\n",
    "#         k+=1\n",
    "#ka = min(k) \n",
    "print(k)\n",
    "[print(f\"{i:.0f}\", end=\" \") for i in reversed(a)]"
   ]
  },
  {
   "cell_type": "code",
   "execution_count": null,
   "metadata": {},
   "outputs": [],
   "source": [
    "14 1 3 9 10 11 22 66 198 594 1782 5346 16038 16039 32078 96234 \n",
    "863, 14 -15\n",
    "8639, 19 -20\n",
    "77759, 24 +\n",
    "71, 9 +"
   ]
  },
  {
   "cell_type": "code",
   "execution_count": 15,
   "metadata": {
    "scrolled": true
   },
   "outputs": [
    {
     "name": "stdout",
     "output_type": "stream",
     "text": [
      "9\n",
      "0 <function one at 0x000002737C633280>\n",
      "1 <function two at 0x000002737C6334C0>\n",
      "2 <function dec at 0x000002737C633CA0>\n",
      "0 <function one at 0x000002737C633280>\n",
      "1 <function two at 0x000002737C6334C0>\n",
      "2 <function dec at 0x000002737C633CA0>\n",
      "[2, 0, 2]\n",
      "1 3 9 9 7 8 9 "
     ]
    },
    {
     "data": {
      "text/plain": [
       "[None, None, None, None, None, None, None]"
      ]
     },
     "execution_count": 15,
     "metadata": {},
     "output_type": "execute_result"
    }
   ],
   "source": [
    "n = int(input().strip())\n",
    "a = []\n",
    "def one(x):\n",
    "    if x%3==0:\n",
    "        return x/3\n",
    "    return \n",
    "def two(x):\n",
    "    if x%2==0:\n",
    "        return x/2\n",
    "    return \n",
    "def dec(x):    \n",
    "    return x-1\n",
    "k = [0,0,0]\n",
    "res = [n,n,n]\n",
    "a=[[n],[n],[n],]\n",
    "functions = [one, two, dec]\n",
    "flag = 1\n",
    "while flag:\n",
    "    for i in range(len(functions)):\n",
    "        print(i, functions[i])\n",
    "        if functions[i](res[i]):\n",
    "            res[i] = functions[i](res[i])\n",
    "            k[i]+=1\n",
    "            a[i].append(res[i])\n",
    "            if res[i] ==1:\n",
    "                flag = 0\n",
    "            continue    #break\n",
    "\n",
    "print(k)\n",
    "[print(f\"{i:.0f}\", end=\" \") for j in a for i in reversed(j) ]"
   ]
  },
  {
   "cell_type": "code",
   "execution_count": 7,
   "metadata": {},
   "outputs": [
    {
     "ename": "IndexError",
     "evalue": "list index out of range",
     "output_type": "error",
     "traceback": [
      "\u001b[1;31m---------------------------------------------------------------------------\u001b[0m",
      "\u001b[1;31mIndexError\u001b[0m                                Traceback (most recent call last)",
      "\u001b[1;32m<ipython-input-7-9cbd249edb94>\u001b[0m in \u001b[0;36m<module>\u001b[1;34m\u001b[0m\n\u001b[0;32m      1\u001b[0m \u001b[1;31m#a.append([n,n,n,])\u001b[0m\u001b[1;33m\u001b[0m\u001b[1;33m\u001b[0m\u001b[1;33m\u001b[0m\u001b[0m\n\u001b[1;32m----> 2\u001b[1;33m \u001b[0ma\u001b[0m\u001b[1;33m[\u001b[0m\u001b[1;36m2\u001b[0m\u001b[1;33m]\u001b[0m\u001b[1;33m\u001b[0m\u001b[1;33m\u001b[0m\u001b[0m\n\u001b[0m",
      "\u001b[1;31mIndexError\u001b[0m: list index out of range"
     ]
    }
   ],
   "source": [
    "#a.append([n,n,n,])\n",
    "a[2]"
   ]
  },
  {
   "cell_type": "code",
   "execution_count": null,
   "metadata": {},
   "outputs": [],
   "source": [
    "14 1 3 9 10 11 22 66 198 594 1782 5346 16038 16039 32078 96234 \n",
    "863, 14 -15\n",
    "8639, 19 -20\n",
    "77759, 24 +\n",
    "71, 9 +"
   ]
  }
 ],
 "metadata": {
  "kernelspec": {
   "display_name": "Python 3",
   "language": "python",
   "name": "python3"
  },
  "language_info": {
   "codemirror_mode": {
    "name": "ipython",
    "version": 3
   },
   "file_extension": ".py",
   "mimetype": "text/x-python",
   "name": "python",
   "nbconvert_exporter": "python",
   "pygments_lexer": "ipython3",
   "version": "3.8.0"
  }
 },
 "nbformat": 4,
 "nbformat_minor": 2
}
