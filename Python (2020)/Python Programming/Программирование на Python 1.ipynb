{
 "cells": [
  {
   "cell_type": "code",
   "execution_count": null,
   "metadata": {},
   "outputs": [],
   "source": [
    "11111*1111111"
   ]
  },
  {
   "cell_type": "code",
   "execution_count": null,
   "metadata": {},
   "outputs": [],
   "source": [
    "42/(4+2*(-2))"
   ]
  },
  {
   "cell_type": "code",
   "execution_count": null,
   "metadata": {},
   "outputs": [],
   "source": [
    "2014**14"
   ]
  },
  {
   "cell_type": "code",
   "execution_count": null,
   "metadata": {},
   "outputs": [],
   "source": [
    "1.2345e3"
   ]
  },
  {
   "cell_type": "code",
   "execution_count": null,
   "metadata": {},
   "outputs": [],
   "source": [
    "1.2345e-3"
   ]
  },
  {
   "cell_type": "code",
   "execution_count": null,
   "metadata": {},
   "outputs": [],
   "source": [
    "2014.0**14"
   ]
  },
  {
   "cell_type": "code",
   "execution_count": null,
   "metadata": {},
   "outputs": [],
   "source": [
    "7/3 "
   ]
  },
  {
   "cell_type": "code",
   "execution_count": null,
   "metadata": {},
   "outputs": [],
   "source": [
    "7//3"
   ]
  },
  {
   "cell_type": "code",
   "execution_count": null,
   "metadata": {},
   "outputs": [],
   "source": [
    "int(2.99)"
   ]
  },
  {
   "cell_type": "code",
   "execution_count": null,
   "metadata": {},
   "outputs": [],
   "source": [
    "int(-1.6)"
   ]
  },
  {
   "cell_type": "code",
   "execution_count": null,
   "metadata": {},
   "outputs": [],
   "source": [
    "9**19 - int(float(9**19))"
   ]
  },
  {
   "cell_type": "code",
   "execution_count": null,
   "metadata": {},
   "outputs": [],
   "source": [
    "9**19"
   ]
  },
  {
   "cell_type": "code",
   "execution_count": null,
   "metadata": {},
   "outputs": [],
   "source": [
    "float(9**19)"
   ]
  },
  {
   "cell_type": "code",
   "execution_count": null,
   "metadata": {
    "scrolled": false
   },
   "outputs": [],
   "source": [
    "int(float(9**19))"
   ]
  },
  {
   "cell_type": "markdown",
   "metadata": {},
   "source": [
    "Коля каждый день ложится спать ровно в полночь и недавно узнал, что оптимальное время для его сна составляет X минут. Коля хочет поставить себе будильник так, чтобы он прозвенел ровно через X минут после полуночи, однако для этого необходимо указать время сигнала в формате часы, минуты. Помогите Коле определить, на какое время завести будильник.\n",
    "Часы и минуты в выводе программы должны располагаться на разных строках (см. пример работы программы)"
   ]
  },
  {
   "cell_type": "code",
   "execution_count": null,
   "metadata": {
    "slideshow": {
     "slide_type": "subslide"
    }
   },
   "outputs": [],
   "source": [
    "x = int(input())\n",
    "print(x//60)\n",
    "print(x%60)"
   ]
  },
  {
   "cell_type": "markdown",
   "metadata": {},
   "source": [
    "Катя узнала, что ей для сна надо X минут. В отличие от Коли, Катя ложится спать после полуночи в H часов и M минут. Помогите Кате определить, на какое время ей поставить будильник, чтобы он прозвенел ровно через X минут после того, как она ляжет спать.\n",
    "На стандартный ввод, каждое в своей строке, подаются значения X, H и M. Гарантируется, что Катя должна проснуться в тот же день, что и заснуть. Программа должна выводить время, на которое нужно поставить будильник: в первой строке часы, во второй — минуты."
   ]
  },
  {
   "cell_type": "code",
   "execution_count": null,
   "metadata": {},
   "outputs": [],
   "source": [
    "x = int(input())\n",
    "h = int(input())\n",
    "m = int(input())\n",
    "x = x+60*h+m\n",
    "print(x//60)\n",
    "print(x%60)"
   ]
  },
  {
   "cell_type": "markdown",
   "metadata": {},
   "source": [
    "Расставьте скобки в выражении\n",
    "a and b or not a and not b\n",
    "в соответствии с порядком вычисления выражения (приоритетом операций). Всего потребуется 5 пар скобок (внешние скобки входят в их число)."
   ]
  },
  {
   "cell_type": "code",
   "execution_count": null,
   "metadata": {},
   "outputs": [],
   "source": [
    "((a and b) or ((not a) and (not b)))"
   ]
  },
  {
   "cell_type": "code",
   "execution_count": null,
   "metadata": {},
   "outputs": [],
   "source": [
    "x = 5\n",
    "y = 10\n",
    "y > x * x or y >= 2 * x and x < y"
   ]
  },
  {
   "cell_type": "code",
   "execution_count": null,
   "metadata": {},
   "outputs": [],
   "source": [
    "a = True\n",
    "b = False\n",
    "a and b or not a and not b"
   ]
  },
  {
   "cell_type": "markdown",
   "metadata": {},
   "source": [
    "Из передачи “Здоровье” Аня узнала, что рекомендуется спать хотя бы A A A часов в сутки, но пересыпать тоже вредно и не стоит спать более B B B часов. Сейчас Аня спит H H H часов в сутки. Если режим сна Ани удовлетворяет рекомендациям передачи “Здоровье”, выведите “Это нормально”. Если Аня спит менее A A A часов, выведите “Недосып”, если же более B B B часов, то выведите “Пересып”.\n",
    "Получаемое число A A A всегда меньше либо равно B B B.\n",
    "На вход программе в три строки подаются переменные в следующем порядке: A A A, B B B, H H H."
   ]
  },
  {
   "cell_type": "code",
   "execution_count": null,
   "metadata": {},
   "outputs": [],
   "source": [
    "A = int(input())\n",
    "B = int(input())\n",
    "H = int(input())\n",
    "if H>=A and H<=B:\n",
    "    print(\"Это нормально\")\n",
    "elif H<A:\n",
    "    print(\"Недосып\")\n",
    "elif H>B:\n",
    "    print(\"Пересып\")    "
   ]
  },
  {
   "cell_type": "markdown",
   "metadata": {},
   "source": [
    "Требуется определить, является ли данный год високосным.\n",
    "Напомним, что високосными годами считаются те годы, порядковый номер которых либо кратен 4, но при этом не кратен 100, либо кратен 400 (например, 2000-й год являлся високосным, а 2100-й будет невисокосным годом).\n",
    "Программа должна корректно работать на числах 1900≤n≤3000.\n",
    "Выведите \"Високосный\" в случае, если считанный год является високосным и \"Обычный\" в обратном случае (не забывайте проверять регистр выводимых программой символов)."
   ]
  },
  {
   "cell_type": "code",
   "execution_count": null,
   "metadata": {},
   "outputs": [],
   "source": [
    "y = int(input())\n",
    "if y%4==0 and (y%100!=0 or y%400==0):\n",
    "    print(\"Високосный\")\n",
    "else:\n",
    "    print (\"Обычный\")"
   ]
  },
  {
   "cell_type": "code",
   "execution_count": null,
   "metadata": {},
   "outputs": [],
   "source": [
    "\"239\" < \"30\""
   ]
  },
  {
   "cell_type": "code",
   "execution_count": null,
   "metadata": {},
   "outputs": [],
   "source": [
    "\"9\"<\"0\""
   ]
  },
  {
   "cell_type": "markdown",
   "metadata": {},
   "source": [
    "программа, вычисляющую площадь треугольника по переданным длинам трёх его сторон по формуле Герона"
   ]
  },
  {
   "cell_type": "code",
   "execution_count": null,
   "metadata": {},
   "outputs": [],
   "source": [
    "a = int(input())\n",
    "b = int(input())\n",
    "c = int(input())\n",
    "p = (a+b+c)/2\n",
    "s = (p*(p-a)*(p-b)*(p-c))**0.5\n",
    "print(s)"
   ]
  },
  {
   "cell_type": "markdown",
   "metadata": {},
   "source": [
    "Напишите программу, принимающую на вход целое число, которая выводит True, если переданное значение попадает в интервал (−15,12]∪(14,17)∪[19,+∞) (-15, 12] \\cup (14, 17) \\cup [19, +\\infty) (−15,12]∪(14,17)∪[19,+∞) и False в противном случае (регистр символов имеет значение)."
   ]
  },
  {
   "cell_type": "code",
   "execution_count": null,
   "metadata": {},
   "outputs": [],
   "source": [
    "x = int(input())\n",
    "print ((x<=12)and(x>-15)or(x<17)and(x>14)or(x>=19))"
   ]
  },
  {
   "cell_type": "markdown",
   "metadata": {},
   "source": [
    "Напишите простой калькулятор, который считывает с пользовательского ввода три строки: первое число, второе число и операцию, после чего применяет операцию к введённым числам (\"первое число\" \"операция\" \"второе число\") и выводит результат на экран.\n",
    "Поддерживаемые операции: +, -, /, *, mod, pow, div, где\n",
    "mod — это взятие остатка от деления,\n",
    "pow — возведение в степень,\n",
    "div — целочисленное деление.\n",
    "Если выполняется деление и второе число равно 0, необходимо выводить строку \"Деление на 0!\".\n",
    "Обратите внимание, что на вход программе приходят вещественные числа."
   ]
  },
  {
   "cell_type": "code",
   "execution_count": null,
   "metadata": {},
   "outputs": [],
   "source": [
    "x = float(input())\n",
    "y = float(input())\n",
    "o = str(input())\n",
    "if o == \"+\":\n",
    "    output = x+y\n",
    "    print(output)\n",
    "elif o==\"-\":\n",
    "    output = x-y\n",
    "    print(output)\n",
    "elif o==\"/\":\n",
    "    if y==0:\n",
    "        print(\"Деление на 0!\")\n",
    "    else:\n",
    "        output = x/y\n",
    "        print(output)\n",
    "elif o==\"*\":\n",
    "    output = x*y\n",
    "    print(output)\n",
    "elif o==\"mod\":\n",
    "    if y==0:\n",
    "        print(\"Деление на 0!\")\n",
    "    else:\n",
    "        output = x%y\n",
    "        print(output)\n",
    "elif o==\"pow\":\n",
    "    output = x**y\n",
    "    print(output)\n",
    "elif o==\"div\":\n",
    "    if y==0:\n",
    "        print(\"Деление на 0!\")\n",
    "    else:\n",
    "        output = x//y\n",
    "        print(output)"
   ]
  },
  {
   "cell_type": "markdown",
   "metadata": {},
   "source": [
    "Жители страны Малевии часто экспериментируют с планировкой комнат. Комнаты бывают треугольные, прямоугольные и круглые. Чтобы быстро вычислять жилплощадь, требуется написать программу, на вход которой подаётся тип фигуры комнаты и соответствующие параметры, которая бы выводила площадь получившейся комнаты.\n",
    "Для числа π в стране Малевии используют значение 3.14."
   ]
  },
  {
   "cell_type": "code",
   "execution_count": null,
   "metadata": {},
   "outputs": [],
   "source": [
    "t = str(input())\n",
    "if t==\"треугольник\":\n",
    "    a = int(input())\n",
    "    b = int(input())\n",
    "    c = int(input())\n",
    "    p = (a+b+c)/2\n",
    "    s = (p*(p-a)*(p-b)*(p-c))**0.5\n",
    "elif t==\"прямоугольник\":\n",
    "    a = int(input())\n",
    "    b = int(input())\n",
    "    s = a*b\n",
    "elif t==\"круг\":\n",
    "    r = int(input())\n",
    "    s = 3.14*r*r\n",
    "print(s)"
   ]
  },
  {
   "cell_type": "markdown",
   "metadata": {},
   "source": [
    "Напишите программу, которая получает на вход три целых числа, по одному числу в строке, и выводит на консоль в три строки сначала максимальное, потом минимальное, после чего оставшееся число.\n",
    "На ввод могут подаваться и повторяющиеся числа"
   ]
  },
  {
   "cell_type": "code",
   "execution_count": null,
   "metadata": {},
   "outputs": [],
   "source": [
    "a = int(input())\n",
    "b = int(input())\n",
    "c = int(input())\n",
    "if a>=b and a>=c:\n",
    "    max_ = a\n",
    "    if b>=c:\n",
    "        min_, mid = c, b        \n",
    "    else:\n",
    "        min_, mid = b, c\n",
    "elif a<=b and c<=b:\n",
    "    max_ = b\n",
    "    if a>=c:\n",
    "        min_, mid = c, a        \n",
    "    else:\n",
    "        min_, mid = a, c\n",
    "else:\n",
    "    max_ = c\n",
    "    if a>=b:\n",
    "        min_, mid = b, a        \n",
    "    else:\n",
    "        min_, mid = a, b\n",
    "print(max_)\n",
    "print(min_)\n",
    "print(mid)"
   ]
  },
  {
   "cell_type": "markdown",
   "metadata": {},
   "source": [
    "Напишите программу, считывающую с пользовательского ввода целое число n n n (неотрицательное), выводящее это число в консоль вместе с правильным образом изменённым словом \"программист\", для того, чтобы робот мог нормально общаться с людьми, например: 1 программист, 2 программиста, 5 программистов.\n",
    "В комнате может быть очень много программистов. Проверьте, что ваша программа правильно обработает все случаи, как минимум до 1000 человек."
   ]
  },
  {
   "cell_type": "code",
   "execution_count": null,
   "metadata": {},
   "outputs": [],
   "source": [
    "a=1000\n",
    "while a!=1001:\n",
    "    a = int(input())\n",
    "    if a==1 or (a%10==1 and (int(0.1*a))%10!=1):\n",
    "        s=\"\"\n",
    "    elif (1<a<5) or ( (1<(a%10)<5) and ((int(0.1*a))%10)!=1):\n",
    "        s=\"а\"\n",
    "    else:\n",
    "        s =\"ов\"\n",
    "    print (1<(a%10)<5)\n",
    "    print(((0.1*a)%10)!=1)\n",
    "    print(str(a), \"программист\"+s)"
   ]
  },
  {
   "cell_type": "markdown",
   "metadata": {},
   "source": [
    "программа, которая проверит равенство сумм и выведет \"Счастливый\", если суммы совпадают, и \"Обычный\", если суммы различны.\n",
    "На вход программе подаётся строка из шести цифр."
   ]
  },
  {
   "cell_type": "code",
   "execution_count": null,
   "metadata": {
    "scrolled": true
   },
   "outputs": [],
   "source": [
    "a = int(input())\n",
    "a6 = a%10\n",
    "print(a6)\n",
    "a5 = (a%100 - a6)//10\n",
    "print(a5)\n",
    "a4 = (a%1000 - a5)//100\n",
    "print(a4)\n",
    "a3 = (a%10000 - a4)//1000\n",
    "print(a3)\n",
    "a2 = (a%100000 - a3)//10000\n",
    "print(a2)\n",
    "a1 = a//100000 \n",
    "print(a1)\n",
    "if a1+a2+a3==a4+a5+a6:\n",
    "    print (\"Счастливый\")\n",
    "else:\n",
    "    print(\"Обычный\")"
   ]
  },
  {
   "cell_type": "code",
   "execution_count": null,
   "metadata": {},
   "outputs": [],
   "source": [
    "i = 0\n",
    "while i <= 10:\n",
    "    i = i + 1\n",
    "    if i > 7:\n",
    "        i = i + 2\n",
    "    print(i)"
   ]
  },
  {
   "cell_type": "code",
   "execution_count": null,
   "metadata": {},
   "outputs": [],
   "source": [
    "i = 0\n",
    "while i < 5:\n",
    "    print(i,'*')\n",
    "    if i % 2 == 0:\n",
    "        print('**')\n",
    "    if i > 2:\n",
    "        print('***')\n",
    "    i = i + 1"
   ]
  },
  {
   "cell_type": "markdown",
   "metadata": {},
   "source": [
    "Напишите программу, которая считывает со стандартного ввода целые числа, по одному числу в строке, и после первого введенного нуля выводит сумму полученных на вход чисел."
   ]
  },
  {
   "cell_type": "code",
   "execution_count": null,
   "metadata": {},
   "outputs": [],
   "source": [
    "s=0\n",
    "i = 1\n",
    "while i!=0:\n",
    "    i = int(input())\n",
    "    s+=i\n",
    "print(s)"
   ]
  },
  {
   "cell_type": "markdown",
   "metadata": {},
   "source": [
    "Программа должна считывать размеры команд (два положительных целых числа a a a и b b b, каждое число вводится на отдельной строке) и выводить наименьшее число d d d, которое делится на оба этих числа без остатка."
   ]
  },
  {
   "cell_type": "code",
   "execution_count": null,
   "metadata": {
    "scrolled": true
   },
   "outputs": [],
   "source": [
    "a = int(input())\n",
    "b = int(input())\n",
    "min = a if a<b else b\n",
    "d = min \n",
    "i = 1\n",
    "while (d%a!=0) or (d%b!=0):\n",
    "    d = i*min\n",
    "    i+=1\n",
    "print(d)"
   ]
  },
  {
   "cell_type": "markdown",
   "metadata": {},
   "source": [
    "Определите, какое значение будет иметь переменная i после выполнения следующего фрагмента программы: 7"
   ]
  },
  {
   "cell_type": "code",
   "execution_count": null,
   "metadata": {},
   "outputs": [],
   "source": [
    "i = 0\n",
    "s = 0\n",
    "while i < 10:\n",
    "    i = i + 1\n",
    "    s = s + i\n",
    "    if s > 15:\n",
    "        break\n",
    "    i = i + 1"
   ]
  },
  {
   "cell_type": "markdown",
   "metadata": {},
   "source": [
    "Определите, какое значение будет иметь переменная i после выполнения следующего фрагмента программы: 10"
   ]
  },
  {
   "cell_type": "code",
   "execution_count": null,
   "metadata": {},
   "outputs": [],
   "source": [
    "i = 0\n",
    "s = 0\n",
    "while i < 10:\n",
    "    i = i + 1\n",
    "    s = s + i\n",
    "    if s > 15:\n",
    "        continue\n",
    "    i = i + 1"
   ]
  },
  {
   "cell_type": "markdown",
   "metadata": {},
   "source": [
    "Напишите программу, которая считывает целые числа с консоли по одному числу в строке.\n",
    "Для каждого введённого числа проверить:\n",
    "если число меньше 10, то пропускаем это число;\n",
    "если число больше 100, то прекращаем считывать числа;\n",
    "в остальных случаях вывести это число обратно на консоль в отдельной строке."
   ]
  },
  {
   "cell_type": "code",
   "execution_count": null,
   "metadata": {},
   "outputs": [],
   "source": [
    "while (a:=int(input()))<=100:\n",
    "    if a<10:\n",
    "        continue\n",
    "    print(str(a))"
   ]
  },
  {
   "cell_type": "code",
   "execution_count": null,
   "metadata": {},
   "outputs": [],
   "source": [
    "while True:\n",
    "    a=int(input())\n",
    "    if a<10:\n",
    "        continue\n",
    "    if a>100:\n",
    "        break\n",
    "    print(str(a))"
   ]
  },
  {
   "cell_type": "markdown",
   "metadata": {},
   "source": [
    "Напишите программу, на вход которой даются четыре числа a a a, b b b, c c c и d d d, каждое в своей строке. Программа должна вывести фрагмент таблицы умножения для всех чисел отрезка [a;b] [a; b] [a;b] на все числа отрезка [c;d] [c;d] [c;d].\n",
    "\n",
    "Числа a a a, b b b, c c c и d d d являются натуральными и не превосходят 10, a≤b a \\le b a≤b, c≤d c \\le d c≤d.\n",
    "\n",
    "Следуйте формату вывода из примера, для разделения элементов внутри строки используйте '\\t' — символ табуляции. Заметьте, что левым столбцом и верхней строкой выводятся сами числа из заданных отрезков — заголовочные столбец и строка таблицы.﻿"
   ]
  },
  {
   "cell_type": "code",
   "execution_count": null,
   "metadata": {
    "scrolled": true
   },
   "outputs": [],
   "source": [
    "#a = int(input())\n",
    "#b = int(input())\n",
    "#c = int(input())\n",
    "#d = int(input())\n",
    "a=7\n",
    "b=10\n",
    "c=5\n",
    "d=6\n",
    "print(\"\\t\",end  = \"\")\n",
    "for j in range (c, d+1):\n",
    "    print (j, end  = \"\\t\")\n",
    "print()\n",
    "for i in range (a, b+1):\n",
    "    print (i, end  = \"\\t\")\n",
    "    for j in range (c, d+1):        \n",
    "        print (i*j, end  = \"\\t\")        \n",
    "    print()\n"
   ]
  },
  {
   "cell_type": "markdown",
   "metadata": {},
   "source": [
    "Напишите программу, которая считывает с клавиатуры два числа a a a и b b b, считает и выводит на консоль среднее арифметическое всех чисел из отрезка [a;b] [a; b] [a;b], которые делятся на 3 3 3.\n",
    "\n",
    "В приведенном ниже примере среднее арифметическое считается для чисел на отрезке [−5;12] [-5; 12] [−5;12]. Всего чисел, делящихся на 3 3 3, на этом отрезке 6 6 6: −3,0,3,6,9,12 -3, 0, 3, 6, 9, 12 −3,0,3,6,9,12. Их среднее арифметическое равно 4.5 4.5 4.5\n",
    "\n",
    "На вход программе подаются интервалы, внутри которых всегда есть хотя бы одно число, которое делится на 3 3 3.﻿\n"
   ]
  },
  {
   "cell_type": "code",
   "execution_count": null,
   "metadata": {},
   "outputs": [],
   "source": [
    "#a,b = (int(i) for i in input().split())\n",
    "#print(mean(x if (x%3==0) else 0 for x in range(a,b+1)))\n",
    "a = int(input())\n",
    "b = int(input())\n",
    "n = 0\n",
    "sum = 0\n",
    "for x in range(a,b+1):\n",
    "    if x%3==0:\n",
    "        n +=1\n",
    "        sum +=x\n",
    "print(sum/n)"
   ]
  },
  {
   "cell_type": "markdown",
   "metadata": {},
   "source": [
    "GC-состав является важной характеристикой геномных последовательностей и определяется как процентное соотношение суммы всех гуанинов и цитозинов к общему числу нуклеиновых оснований в геномной последовательности.\n",
    "\n",
    "Напишите программу, которая вычисляет процентное содержание символов G (гуанин) и C (цитозин) в введенной строке (программа не должна зависеть от регистра вводимых символов).\n",
    "\n",
    "Например, в строке \"acggtgttat\" процентное содержание символов G и C равно 410⋅100=40.0 \\dfrac4{10} \\cdot 100 = 40.0 104​⋅100=40.0, где 4 -- это количество символов G и C,  а 10 -- это длина строки"
   ]
  },
  {
   "cell_type": "code",
   "execution_count": null,
   "metadata": {},
   "outputs": [],
   "source": [
    "a = input()\n",
    "c = a.upper().count(\"C\")\n",
    "g = a.upper().count(\"G\")\n",
    "print(100*(c+g)/len(a))"
   ]
  },
  {
   "cell_type": "code",
   "execution_count": null,
   "metadata": {},
   "outputs": [],
   "source": [
    "s = 'abcdefghijk'\n",
    "print(s[3:6])\n",
    "print(s[:6])\n",
    "print(s[3:])\n",
    "print(s[::-1])\n",
    "print(s[-3:])\n",
    "print(s[:-6])\n",
    "print(s[-1:-10:-2])"
   ]
  },
  {
   "cell_type": "markdown",
   "metadata": {},
   "source": [
    "Кодирование осуществляется следующим образом:\n",
    "s = 'aaaabbсaa' преобразуется в 'a4b2с1a2', то есть группы одинаковых символов исходной строки заменяются на этот символ и количество его повторений в этой позиции строки.\n",
    "\n",
    "Напишите программу, которая считывает строку, кодирует её предложенным алгоритмом и выводит закодированную последовательность на стандартный вывод. Кодирование должно учитывать регистр символов."
   ]
  },
  {
   "cell_type": "code",
   "execution_count": null,
   "metadata": {},
   "outputs": [],
   "source": [
    "a = input()\n",
    "s = \"\"\n",
    "last = \"\"\n",
    "repeat=0\n",
    "for i in a:\n",
    "    if i!=last:\n",
    "        if repeat==0:\n",
    "            s +=last\n",
    "            if last != \"\":\n",
    "                s +=\"1\"\n",
    "            repeat==1\n",
    "        if repeat!=0:\n",
    "            s+=last+str(repeat+1)\n",
    "            repeat=0\n",
    "    if i==last:        \n",
    "        repeat+=1\n",
    "    last = i\n",
    "s=s+last+str(repeat+1)    \n",
    "print(s)    "
   ]
  },
  {
   "cell_type": "markdown",
   "metadata": {},
   "source": [
    "Напишите программу, на вход которой подается одна строка с целыми числами. Программа должна вывести сумму этих чисел.\n",
    "Используйте метод split строки. "
   ]
  },
  {
   "cell_type": "code",
   "execution_count": null,
   "metadata": {},
   "outputs": [],
   "source": [
    "a = input()\n",
    "s = 0\n",
    "for x in a.split():\n",
    "    s+=int(x) \n",
    "print(s)"
   ]
  },
  {
   "cell_type": "markdown",
   "metadata": {},
   "source": [
    "Напишите программу, на вход которой подаётся список чисел одной строкой. Программа должна для каждого элемента этого списка вывести сумму двух его соседей. Для элементов списка, являющихся крайними, одним из соседей считается элемент, находящий на противоположном конце этого списка. Например, если на вход подаётся список \"1 3 5 6 10\", то на выход ожидается список \"13 6 9 15 7\" (без кавычек).\n",
    "\n",
    "Если на вход пришло только одно число, надо вывести его же.\n",
    "\n",
    "Вывод должен содержать одну строку с числами нового списка, разделёнными пробелом"
   ]
  },
  {
   "cell_type": "code",
   "execution_count": null,
   "metadata": {},
   "outputs": [],
   "source": [
    "a = input()\n",
    "l = [int(x) for x in a.split()]\n",
    "s = []\n",
    "if len(l) == 1:\n",
    "    s.append(l)\n",
    "else:\n",
    "    for i in range(len(l)-1):\n",
    "        #s[i]=l[i+1]+l[i-1]\n",
    "        j = i%(len(l)-1)\n",
    "        s.append(l[j+1]+l[j-1])\n",
    "    s.append(l[0]+l[-2])\n",
    "#print(\" \".join(str(s)))\n",
    "print(str(s).strip('[]').replace(\",\",\"\"))\n"
   ]
  },
  {
   "cell_type": "markdown",
   "metadata": {},
   "source": [
    "Напишите программу, которая принимает на вход список чисел в одной строке и выводит на экран в одну строку значения, которые повторяются в нём более одного раза.\n",
    "Для решения задачи может пригодиться метод sort списка.\n",
    "Выводимые числа не должны повторяться, порядок их вывода может быть произвольным.\n",
    " Sample Input 1: 4 8 0 3 4 2 0 3"
   ]
  },
  {
   "cell_type": "code",
   "execution_count": null,
   "metadata": {},
   "outputs": [],
   "source": [
    "a = input()\n",
    "l = [int(x) for x in a.split()]\n",
    "s = []\n",
    "for i in l:\n",
    "    if l.count(i)>1 and i not in s:\n",
    "        s.append(i)\n",
    "s = ' '.join(map(str, s))\n",
    "print(s)\n",
    "    "
   ]
  },
  {
   "cell_type": "markdown",
   "metadata": {},
   "source": [
    "Напишите программу, которая считывает с консоли числа (по одному в строке) до тех пор, пока сумма введённых чисел не будет равна 0 и сразу после этого выводит сумму квадратов всех считанных чисел.\n",
    "\n",
    "Гарантируется, что в какой-то момент сумма введённых чисел окажется равной 0, после этого считывание продолжать не нужно.\n",
    "\n",
    "В примере мы считываем числа 1, -3, 5, -6, -10, 13; в этот момент замечаем, что сумма этих чисел равна нулю и выводим сумму их квадратов, не обращая внимания на то, что остались ещё не прочитанные значения.﻿\n"
   ]
  },
  {
   "cell_type": "code",
   "execution_count": null,
   "metadata": {},
   "outputs": [],
   "source": [
    "a=[]\n",
    "a.append(int(input()))\n",
    "s=a[0]\n",
    "while s!=0:\n",
    "    a.append (int(input()))\n",
    "    s += a[-1]\n",
    "result = 0\n",
    "for i in a:\n",
    "   result +=i*i \n",
    "print(result)"
   ]
  },
  {
   "cell_type": "markdown",
   "metadata": {},
   "source": [
    "Напишите программу, которая выводит часть последовательности 1 2 2 3 3 3 4 4 4 4 5 5 5 5 5 ... (число повторяется столько раз, чему равно). На вход программе передаётся неотрицательное целое число n — столько элементов последовательности должна отобразить программа. На выходе ожидается последовательность чисел, записанных через пробел в одну строку.\n",
    "\n",
    "Например, если n = 7, то программа должна вывести 1 2 2 3 3 3 4.\n"
   ]
  },
  {
   "cell_type": "code",
   "execution_count": null,
   "metadata": {},
   "outputs": [],
   "source": [
    "n = int(input())\n",
    "\"\"\" i=1\n",
    "    while k<n:\n",
    "    k=k+i\n",
    "    print((str(i)+\" \")*int(i), end=\"\")\n",
    "    i+=1\n",
    "\"\"\"\n",
    "k=1\n",
    "for i in range(n):\n",
    "    if n<3:\n",
    "        i+=1\n",
    "    for j in range(i):        \n",
    "        if k<=n:\n",
    "            print((str(i)+\" \"), end=\"\")\n",
    "        k+=1    "
   ]
  },
  {
   "cell_type": "markdown",
   "metadata": {},
   "source": [
    "Напишите программу, которая считывает список чисел lst lst lst из первой строки и число x x x из второй строки, которая выводит все позиции, на которых встречается число x x x в переданном списке lst lst lst.\n",
    "\n",
    "Позиции нумеруются с нуля, если число x x x не встречается в списке, вывести строку \"Отсутствует\" (без кавычек, с большой буквы).\n",
    "\n",
    "Позиции должны быть выведены в одну строку, по возрастанию абсолютного значения.\n"
   ]
  },
  {
   "cell_type": "code",
   "execution_count": null,
   "metadata": {},
   "outputs": [],
   "source": [
    "a = input()\n",
    "l = [int(x) for x in a.split()]\n",
    "n = int(input())\n",
    "s=[]\n",
    "s= [i for i in range(len(l)) if n==l[i]]\n",
    "if s!=[]:\n",
    "    print (' '.join(map(str, s)), end=\"\")\n",
    "else:\n",
    "    print(\"Отсутствует\")"
   ]
  },
  {
   "cell_type": "markdown",
   "metadata": {},
   "source": [
    "Напишите программу, на вход которой подаётся прямоугольная матрица в виде последовательности строк, заканчивающихся строкой, содержащей только строку \"end\" (без кавычек)\n",
    "\n",
    "Программа должна вывести матрицу того же размера, у которой каждый элемент в позиции i, j равен сумме элементов первой матрицы на позициях (i-1, j), (i+1, j), (i, j-1), (i, j+1). У крайних символов соседний элемент находится с противоположной стороны матрицы.\n",
    "\n",
    "В случае одной строки/столбца элемент сам себе является соседом по соответствующему направлению.\n",
    "\\\\\\\\\\\n",
    "9 5 3\n",
    "0 7 -1\n",
    "-5 2 9\n",
    "end\n",
    "3 21 22\n",
    "10 6 19\n",
    "20 16 -1\n",
    "\\\\\\\\\\\\\\\\\\\n",
    "1\n",
    "end\n"
   ]
  },
  {
   "cell_type": "code",
   "execution_count": null,
   "metadata": {},
   "outputs": [],
   "source": [
    "a = input()\n",
    "l = []\n",
    "print (l)\n",
    "i = 0\n",
    "while a!='end':\n",
    "    l.append([int(x) for x in a.split()])\n",
    "    i+=1\n",
    "    a = input()\n",
    "print (l)\n",
    "n=i\n",
    "m = len(l[0])\n",
    "\"\"\"for i in range(n):\n",
    "    print (l[i])\n",
    "for i in range(n):\n",
    "    for j in range(m):\n",
    "        print (l[i][j], end='_')\n",
    "    print()\"\"\"\n",
    "s=[[0 for j in range(m)] for i in range(n)]\n",
    "for i in range(n):\n",
    "    for j in range(m):\n",
    "        if n==1 and m==1:\n",
    "            ii=(i+1)%n\n",
    "            jj=(j+1)%m\n",
    "        elif n==1:\n",
    "            ii=(i+1)%n            \n",
    "        elif m==1:\n",
    "            jj=(j+1)%m\n",
    "        elif j==m-1 and i==n-1:\n",
    "            ii=i%(n-1)\n",
    "            jj=j%(m-1)            \n",
    "        elif j==m-1:\n",
    "            ii=i%(n-1)+1\n",
    "            jj=j%(m-1)            \n",
    "        elif i==n-1:\n",
    "            ii=i%(n-1)\n",
    "            jj=j%(m-1)+1            \n",
    "        else:\n",
    "            ii=i%(n-1)+1\n",
    "            jj=j%(m-1)+1\n",
    "        s[i][j] = l[i-1][j]+l[ii][j]+l[i][j-1]+l[i][jj]\n",
    "        #s.append(l[i-1][j]+l[ii][j]+l[i][j-1]+l[i][jj])\n",
    "        print(str(s[i][j])+\" \", end = \"\")\n",
    "    print()\n",
    "\n"
   ]
  },
  {
   "cell_type": "code",
   "execution_count": null,
   "metadata": {},
   "outputs": [],
   "source": [
    "## does not work\n",
    "\n",
    "a = input()\n",
    "l = []\n",
    "i = 0\n",
    "while a!='end':\n",
    "    l.append([int(x) for x in a.split()])\n",
    "    i+=1\n",
    "    a = input()\n",
    "n=i\n",
    "m = len(l[0])\n",
    "s=[[0 for j in range(m)] for i in range(n)]\n",
    "for i in range(n):\n",
    "    for j in range(m):\n",
    "        if n==1 and m==1:\n",
    "            ii=(i+1)%n\n",
    "            jj=(j+1)%m\n",
    "        elif n==1:\n",
    "            ii=(i+1)%n\n",
    "            jj=j%(m-1)\n",
    "        elif m==1:\n",
    "            ii=i%(n-1)\n",
    "            jj=(j+1)%m\n",
    "        elif j==m-1 and i==n-1:\n",
    "            ii=i%(n-1)\n",
    "            jj=j%(m-1)            \n",
    "        elif j==m-1:\n",
    "            ii=i%(n-1)+1\n",
    "            jj=j%(m-1)            \n",
    "        elif i==n-1:\n",
    "            ii=i%(n-1)\n",
    "            jj=j%(m-1)+1            \n",
    "        else:\n",
    "            ii=i%(n-1)+1\n",
    "            jj=j%(m-1)+1\n",
    "        s[i][j] = l[i-1][j]+l[ii][j]+l[i][j-1]+l[i][jj]   \n",
    "        print(str(s[i][j])+\" \", end = \"\")\n",
    "    print()"
   ]
  },
  {
   "cell_type": "code",
   "execution_count": null,
   "metadata": {},
   "outputs": [],
   "source": [
    "#!!!works!\n",
    "# put your python code here\n",
    "\n",
    "a = input()\n",
    "l = []\n",
    "i = 0\n",
    "while a!='end':\n",
    "    l.append([int(x) for x in a.split()])\n",
    "    i+=1\n",
    "    a = input()\n",
    "n=i\n",
    "m = len(l[0])\n",
    "s=[[0 for j in range(m)] for i in range(n)]\n",
    "for i in range(n):\n",
    "    for j in range(m):\n",
    "        if n==1 and m==1:\n",
    "            ii=0\n",
    "            jj=0\n",
    "        elif n==1:\n",
    "            ii=0\n",
    "            jj=j+1\n",
    "        elif m==1:\n",
    "            ii=i+1\n",
    "            jj=0\n",
    "        if j==m-1 and i==n-1:\n",
    "            ii=0\n",
    "            jj=0            \n",
    "        elif j==m-1:\n",
    "            ii=i+1\n",
    "            jj=0            \n",
    "        elif i==n-1:\n",
    "            ii=0\n",
    "            jj=j+1            \n",
    "        else:\n",
    "            ii=i+1\n",
    "            jj=j+1\n",
    "        s[i][j] = l[i-1][j]+l[ii][j]+l[i][j-1]+l[i][jj]   \n",
    "        print(str(s[i][j])+\" \", end = \"\")\n",
    "    print()\n",
    "\n"
   ]
  },
  {
   "cell_type": "markdown",
   "metadata": {},
   "source": [
    "Выведите таблицу размером n×n n \\times n n×n, заполненную числами от 1 1 1 до n2 n^2 n2 по спирали, выходящей из левого верхнего угла и закрученной по часовой стрелке, как показано в примере (здесь n=5 n=5 n=5):\n",
    "Sample Input:\n",
    "5\n",
    "Sample Output:\n",
    "1 2 3 4 5\n",
    "16 17 18 19 6\n",
    "15 24 25 20 7\n",
    "14 23 22 21 8\n",
    "13 12 11 10 9\n"
   ]
  },
  {
   "cell_type": "code",
   "execution_count": null,
   "metadata": {},
   "outputs": [],
   "source": [
    "## does not work\n",
    "\n",
    "n = int(input())\n",
    "s=[[0 for j in range(n)] for i in range(n)]\n",
    "for i in range(n):\n",
    "    for j in range(n):\n",
    "        s[i][j] = n*i+j+1\n",
    "        print(str(s[i][j])+\" \", end = \"\")\n",
    "    print()\n",
    "\n",
    "        \n"
   ]
  },
  {
   "cell_type": "code",
   "execution_count": null,
   "metadata": {},
   "outputs": [],
   "source": [
    "n = int(input())\n",
    "s=[[0 for j in range(n)] for i in range(n)]\n",
    "for i in range(n):\n",
    "    for j in range(n):\n",
    "        s[i][j] = n*i+j+1\n",
    "        print(str(s[i][j])+\" \", end = \"\")\n",
    "    print()"
   ]
  },
  {
   "cell_type": "code",
   "execution_count": null,
   "metadata": {},
   "outputs": [],
   "source": [
    "import timeit\n",
    "n = int(input())\n",
    "s=[[0 for j in range(n)] for i in range(n)]\n",
    "s1=[[0 for j in range(n)] for i in range(n)]\n",
    "#t= timeit.timeit(\"s1 = [i for i in range(1, 5*5+1)]\", number = 100000) =>0.09401801799998566 \n",
    "#t2 = timeit.timeit(\"s1 = [i+1 for i in range(5*5)]\", number = 100000) =>0.13381010000000515\n",
    "s2 = [i for i in range(1, n*n+1)]\n",
    "for i in range(n):\n",
    "    for j in range(n):\n",
    "        s1[i][j] = n*i+j+1        \n",
    "i=0\n",
    "u = 0 # upper border\n",
    "d = n-1 # low(down) border\n",
    "l = 0 # left border\n",
    "r = n-1 # right border\n",
    "#while s1!=[]:\n",
    "while i!=n*n:    \n",
    "    for k in range (l,r+1):\n",
    "        if i==n*n:\n",
    "            continue\n",
    "        else:\n",
    "            s[u][k] = s2[i]\n",
    "            i+=1#k-l\n",
    "        #[s[u][k] = s2[i], i+=k-l for k in range (l,r)]\n",
    "    u+=1\n",
    "    for k in range (u,d+1):\n",
    "        if i==n*n:\n",
    "            continue\n",
    "        else:\n",
    "            s[k][r] = s2[i]\n",
    "            i+=1#k-u\n",
    "        #[s[k][r] = s2[i], i+=k-u for k in range (u,d)]\n",
    "    r-=1\n",
    "    for k in range (r,l-1,-1):\n",
    "        if i==n*n:\n",
    "            continue\n",
    "        else:            \n",
    "            s[d][k] = s2[i]\n",
    "            i+=1#k-r\n",
    "        #[s[d][k] = s2[i], i+=k-r for k in range (r,l)]\n",
    "    d-=1    \n",
    "    for k in range (d,u-1,-1):\n",
    "        if i==n*n:\n",
    "            continue\n",
    "        else:\n",
    "            s[k][l] = s2[i]\n",
    "            i+=1#k-d\n",
    "        #[s[k][l] = s2[i], i+=k-d for k in range (d,u)]\n",
    "    l+=1\n",
    "for i in range(n):\n",
    "    for j in range(n):        \n",
    "        print(str(s[i][j])+\" \", end = \"\")\n",
    "    print()"
   ]
  },
  {
   "cell_type": "code",
   "execution_count": null,
   "metadata": {},
   "outputs": [],
   "source": [
    "matrix = [[1, 2], [3,4], [5,6], [7,8]]\n",
    "transpose = [[row[i] for row in matrix] for i in range(2)]\n",
    "print (transpose)"
   ]
  },
  {
   "cell_type": "code",
   "execution_count": null,
   "metadata": {},
   "outputs": [],
   "source": [
    "for i in range (3,1,-1):\n",
    "    print(i)"
   ]
  },
  {
   "cell_type": "code",
   "execution_count": null,
   "metadata": {},
   "outputs": [],
   "source": [
    "def f(n):\n",
    "    return n * 10 + 5\n",
    "f(f(f(10)))"
   ]
  },
  {
   "cell_type": "markdown",
   "metadata": {},
   "source": [
    "Напишите функцию f(x), которая возвращает значение следующей функции, определённой на всей числовой прямой:\n",
    "f(x)={ 1−(x+2)2,при x≤−2 −x2,при −2<x≤2 (x−2)2+1,при 2<x f(x)= \\begin{cases}   1 - (x + 2)^2,\\quad &\\text{при } x\\le -2\\\\  -\\frac x2 ,\\quad &\\text{при } -2 \\lt x \\le 2\\\\   (x-2)^2 + 1,\\quad &\\text{при } 2 \\lt x \\end{cases} f(x)=⎩⎪⎪⎨⎪⎪⎧​ 1−(x+2)2, −2x​, (x−2)2+1,​при x≤−2при −2<x≤2при 2<x​\n",
    "\n",
    "Требуется реализовать только функцию, решение не должно осуществлять операций ввода-вывода.\n"
   ]
  },
  {
   "cell_type": "code",
   "execution_count": null,
   "metadata": {},
   "outputs": [],
   "source": [
    "def f(x):\n",
    "    if x<=-2:\n",
    "        return 1-(x+2)**2\n",
    "    if -2<x<=2:\n",
    "        return -x/2\n",
    "    if x>2:\n",
    "        return (x-2)**2+1"
   ]
  },
  {
   "cell_type": "markdown",
   "metadata": {},
   "source": [
    "Напишите функцию modify_list(l), которая принимает на вход список целых чисел, удаляет из него все нечётные значения, а чётные нацело делит на два. Функция не должна ничего возвращать, требуется только изменение переданного списка, например:\n",
    "\n",
    "lst = [1, 2, 3, 4, 5, 6]\n",
    "print(modify_list(lst))  # None\n",
    "print(lst)               # [1, 2, 3]\n",
    "modify_list(lst)\n",
    "print(lst)               # [1]\n",
    "\n",
    "lst = [10, 5, 8, 3]\n",
    "modify_list(lst)\n",
    "print(lst)               # [5, 4]"
   ]
  },
  {
   "cell_type": "code",
   "execution_count": null,
   "metadata": {},
   "outputs": [],
   "source": [
    "def modify_list(l):\n",
    "    for i in range(len(l),0,-1):\n",
    "        if l[i-1] % 2 == 0:\n",
    "            l[i-1]=int(l[i-1]/2)\n",
    "        else:\n",
    "            l.remove(l[i-1])\n",
    "    #l=[l[i]/2 for i in range(len(l))]\n",
    "    #ls = [(i/2) if i%2==0 else l.remove(i) for i in l]\n",
    "    #print(\"f \",ls)    \n",
    "lst = [1, 2, 3, 4, 5, 6]\n",
    "print(modify_list(lst))\n",
    "print(lst) "
   ]
  },
  {
   "cell_type": "markdown",
   "metadata": {},
   "source": [
    "\n",
    "\n",
    "Напишите функцию update_dictionary(d, key, value), которая принимает на вход словарь d d d и два числа: key key key и value value value.\n",
    "\n",
    "Если ключ key key key есть в словаре d d d, то добавьте значение value value value в список, который хранится по этому ключу.\n",
    "Если ключа key key key нет в словаре, то нужно добавить значение в список по ключу 2∗key 2 * key 2∗key. Если и ключа 2∗key 2 * key 2∗key нет, то нужно добавить ключ 2∗key 2 * key 2∗key в словарь и сопоставить ему список из переданного элемента [value] [value] [value].\n",
    "\n",
    "Требуется реализовать только эту функцию, кода вне неё не должно быть.\n",
    "Функция не должна вызывать внутри себя функции input и print.\n",
    "\n",
    "Пример работы функции:\n",
    "\n",
    "d = {}\n",
    "print(update_dictionary(d, 1, -1))  # None\n",
    "print(d)                            # {2: [-1]}\n",
    "update_dictionary(d, 2, -2)\n",
    "print(d)                            # {2: [-1, -2]}\n",
    "update_dictionary(d, 1, -3)\n",
    "print(d)                            # {2: [-1, -2, -3]}\n",
    "\n"
   ]
  },
  {
   "cell_type": "code",
   "execution_count": null,
   "metadata": {},
   "outputs": [],
   "source": [
    "def update_dictionary(d, key, value):\n",
    "    if key in d:\n",
    "        d[key].append(value)\n",
    "    elif 2*key in d:\n",
    "        d[2*key].append(value)\n",
    "    else:\n",
    "        d[2*key]=[value]\n",
    "d = {}\n",
    "update_dictionary(d, 1, -1) \n",
    "print(d) \n",
    "update_dictionary(d, 2, -2)\n",
    "print(d)   \n",
    "update_dictionary(d, 1, -3)\n",
    "print(d)  \n",
    "update_dictionary(d, 4, -3)\n",
    "print(d)  \n",
    "update_dictionary(d, 1, -3)\n",
    "print(d)  "
   ]
  },
  {
   "cell_type": "markdown",
   "metadata": {},
   "source": [
    " подсчитать слова, разделённые пробелом и вывести получившуюся статистику.\n",
    "Программа должна считывать одну строку со стандартного ввода и выводить для каждого уникального слова в этой строке число его повторений (без учёта регистра) в формате \"слово количество\" (см. пример вывода).\n",
    "Порядок вывода слов может быть произвольным, каждое уникальное слово﻿ должно выводиться только один раз.\n",
    "Sample Input 1:\n",
    "a aa abC aa ac abc bcd a\n",
    "Sample Output 1:\n",
    "ac 1\n",
    "a 2\n",
    "abc 2\n",
    "bcd 1\n",
    "aa 2\n",
    "Sample Input 2:\n",
    "a A a\n",
    "Sample Output 2:\n",
    "a 3"
   ]
  },
  {
   "cell_type": "code",
   "execution_count": null,
   "metadata": {},
   "outputs": [],
   "source": [
    "s = set()\n",
    "s0=input()\n",
    "s={i for i in s0.split()}\n",
    "s1=[i for i in s0.lower().split()]\n",
    "#a= {}\n",
    "a = {i:s1.count(i) for i in s1}#a=dict()\n",
    "print (a)\n",
    "## - it works too\n",
    "#for key,value in a.items():\n",
    "#    print(f\"{key},{value}\")   \n",
    "\n",
    "{print(f\"{key} {value}\") for key,value in a.items()}"
   ]
  },
  {
   "cell_type": "markdown",
   "metadata": {},
   "source": [
    "Напишите программу, на вход которой на первой строке подаётся число nnn, после этого на nnn строках передаются числа xix_ixi​.\n",
    "\n",
    "Для каждого числа xix_ixi​ на отдельной строке выведите значение f(xi)f(x_i)f(xi​). Функция f(x) уже реализована и доступна для вызова. \n",
    "\n",
    "Функция вычисляется достаточно долго и зависит только от переданного аргумента x x x. Для того, чтобы уложиться в ограничение по времени, нужно сохранять вычисленные значения.\n"
   ]
  },
  {
   "cell_type": "code",
   "execution_count": null,
   "metadata": {},
   "outputs": [],
   "source": [
    "# not so fast variant as needed\n",
    "n = int(input())\n",
    "s=dict()\n",
    "def f(x):\n",
    "    return x+x\n",
    "\"\"\"for i in range(n):\n",
    "    x=int(input())\n",
    "    s[x]=f(x)\n",
    "for i in s.values():\n",
    "    print(i)\"\"\"\n",
    "\n",
    "l = []\n",
    "\"\"\"for i in range(n):\n",
    "    l.append(f(int(input())))\"\"\"\n",
    "l = [f(int(input())) for i in range(n)]\n",
    "[print(i) for i in l]\n",
    "#l = [print(f(int(input()))) for i in range(n)]\n",
    "#s={i:[int(input()),f(x) for i in range(n)}"
   ]
  },
  {
   "cell_type": "code",
   "execution_count": null,
   "metadata": {},
   "outputs": [],
   "source": [
    "n = int(input())\n",
    "s=dict()\n",
    "def f(x):\n",
    "    return x+x\n",
    "for i in range(n):\n",
    "    x=int(input())\n",
    "    if x not in s.keys():\n",
    "        s[x]=f(x)\n",
    "#   s[x]=f(x) if x not in s.keys() else [x] ###- it also works\n",
    "    print(s[x])\n"
   ]
  },
  {
   "cell_type": "markdown",
   "metadata": {},
   "source": [
    "Напишите программу, которая считывает из файла строку, соответствующую тексту, сжатому с помощью кодирования повторов, и производит обратную операцию, получая исходный текст.\n",
    "Запишите полученный текст в файл и прикрепите его, как ответ на это задание.\n",
    "В исходном тексте не встречаются цифры, так что код однозначно интерпретируем.\n",
    " Sample Input:\n",
    "a3b4c2e10b1\n",
    "Sample Output:\n",
    "aaabbbbcceeeeeeeeeeb\n",
    " \n",
    " ===\n",
    "S.isdigit() - Состоит ли (под)строка из цифр\n",
    "S.isalpha() -  Состоит ли строка из букв "
   ]
  },
  {
   "cell_type": "code",
   "execution_count": null,
   "metadata": {},
   "outputs": [],
   "source": [
    "\"\"\"a = input()\n",
    "s = \"\"\n",
    "last = \"\"\n",
    "repeat=0\n",
    "for i in a:\n",
    "    if i!=last:\n",
    "        if repeat==0:\n",
    "            s +=last\n",
    "            if last != \"\":\n",
    "                s +=\"1\"\n",
    "            repeat==1\n",
    "        if repeat!=0:\n",
    "            s+=last+str(repeat+1)\n",
    "            repeat=0\n",
    "    if i==last:        \n",
    "        repeat+=1\n",
    "    last = i\n",
    "s=s+last+str(repeat+1)    \n",
    "print(s)\n",
    "--\"\"\"\n",
    "with open(\"dataset_3363_2.txt\") as file:\n",
    "    s=file.readline()\n",
    "#s=\"a3b4c2e10b1\"\n",
    "out = \"\"\n",
    "i=0\n",
    "num=\"\"\n",
    "l=len(s)\n",
    "while i<=l-1:\n",
    "    last = s[i]\n",
    "    i+=1\n",
    "    while (i<=l-1) and s[i].isdigit():\n",
    "        num+=s[i]\n",
    "        i+=1  \n",
    "    if num!=\"\":\n",
    "        out+=last*int(num)\n",
    "    else:\n",
    "        out+=last\n",
    "    num=\"\"\n",
    "with open(\"answer_3363_2.txt\", 'w') as file:\n",
    "    file.write(out)\n",
    "#print(out)\n",
    "      "
   ]
  },
  {
   "cell_type": "markdown",
   "metadata": {},
   "source": [
    "Недавно мы считали для каждого слова количество его вхождений в строку. Но на все слова может быть не так интересно смотреть, как, например, на наиболее часто используемые.\n",
    "\n",
    "Напишите программу, которая считывает текст из файла (в файле может быть больше одной строки) и выводит самое частое слово в этом тексте и через пробел то, сколько раз оно встретилось. Если таких слов несколько, вывести лексикографически первое (можно использовать оператор < для строк).\n",
    "\n",
    "В качестве ответа укажите вывод программы, а не саму программу.\n",
    "\n",
    "Слова, написанные в разных регистрах, считаются одинаковыми.\n",
    "\n",
    "Sample Input:\n",
    "abc a bCd bC AbC BC BCD bcd ABC\n",
    "\n",
    "Sample Output:\n",
    "abc 3"
   ]
  },
  {
   "cell_type": "code",
   "execution_count": null,
   "metadata": {},
   "outputs": [],
   "source": [
    "\"\"\"assert n > 0\n",
    "while True:\n",
    "    chunk = fp.read(n)\n",
    "    if chunk == '':\n",
    "        break\n",
    "    process(chunk)\n",
    "#Or, shorter:\n",
    "for chunk in iter(lambda: fp.read(n), ''):\n",
    "    process(chunk)\"\"\"\n",
    "\n",
    "#s = \"abc a bCd bC AbC BC BCD bcd ABC\"\n",
    "with open(\"dataset_3363_3.txt\") as file:\n",
    "    s1=file.read()\n",
    "d={a:s1.lower().split().count(a) for a in s1.lower().split()}\n",
    "m=max(list(d.values()))\n",
    "out = min([key for key in d.keys() if d[key]==m])\n",
    "print (out, d[out])\n"
   ]
  },
  {
   "cell_type": "markdown",
   "metadata": {},
   "source": [
    "Имеется файл с данными по успеваемости абитуриентов. Он представляет из себя набор строк, где в каждой строке записана следующая информация:\n",
    "\n",
    "Фамилия;Оценка_по_математике;Оценка_по_физике;Оценка_по_русскому_языку\n",
    "\n",
    "Поля внутри строки разделены точкой с запятой, оценки — целые числа.\n",
    "\n",
    "Напишите программу, которая считывает файл с подобной структурой и для каждого абитуриента выводит его среднюю оценку по этим трём предметам на отдельной строке, соответствующей этому абитуриенту.\n",
    "\n",
    "Также в конце файла, на отдельной строке, через пробел запишите средние баллы по математике, физике и русскому языку по всем абитуриентам.\n",
    "\n",
    "В качестве ответа на задание прикрепите полученный файл со средними оценками.\n",
    "\n",
    "Примечание. Для разбиения строки на части по символу ';' можно использовать метод split следующим образом:\n",
    "\n",
    "print('First;Second-1 Second-2;Third'.split(';'))\n",
    ">>#> ['First', 'Second-1 Second-2', 'Third']\n",
    "\n",
    "Sample Input:\n",
    "\n",
    "Петров;85;92;78\n",
    "Сидоров;100;88;94\n",
    "Иванов;58;72;85\n",
    "\n",
    "Sample Output:\n",
    "\n",
    "85.0\n",
    "94.0\n",
    "71.666666667\n",
    "81.0 84.0 85.666666667"
   ]
  },
  {
   "cell_type": "code",
   "execution_count": null,
   "metadata": {},
   "outputs": [],
   "source": [
    "# https://stepik.org/lesson/3363/step/4?discussion=311784&unit=1135\n",
    "#Для тех, кто хочет сократить свой код :) написал небольшое руководство по [list comprehension]\n",
    "# на основе примера на stackoverflow.com\n",
    "# # http://stackoverflow.com/questions/16632124/python-emulate-sum-using-list-comprehension\n",
    "# я немного изменил этот пример, чтобы лучше объяснить работу [list comprehension]\n",
    "# и вам было проще понять, как применить этот подход к решению задания\n",
    "\n",
    "# допустим, у нас есть список фруктов, где зафиксированы самые низкие и высокие цены на эти фрукты\n",
    "# т.е. по сути это список списков :)\n",
    "lst = [[\"apple\", 55, 62], [\"orange\", 60, 74], [\"pineapple\", 140, 180], [\"lemon\", 80, 84]]\n",
    "\n",
    "# выведем этот список для нагляности на экран, используя [list comprehension]\n",
    "[print(el) for el in lst]\n",
    "# ['apple', 55, 62]\n",
    "# ['orange', 60, 74]\n",
    "# ['pineapple', 140, 180]\n",
    "# ['lemon', 80, 84]\n",
    "\n",
    "# если мы хотим подсчитать среднюю цену на каждый из фруктов, то напишем что-то вроде\n",
    "sumMiddle = 0\n",
    "for el in lst:\n",
    "    sumMiddle = (el[1] + el[2]) / 2\n",
    "    print(sumMiddle)\n",
    "\n",
    "# или можно сделать это одной строкой\n",
    "[print((priceLow + priceHigh) / 2) for fruit, priceLow, priceHigh in lst]\n",
    "# представьте, что наш список списков - это таблица из трёх столбцов\n",
    "# и мы можем обращаться к столбцам, просто озаглавив их fruit, priceLow, priceHigh\n",
    "# в цикле for, почти как перебор элементов словаря for key, value in d.items() :)\n",
    "\n",
    "# поэтому, когда вы захотите прикинуть, сколько же, от и до, в среднем может стоить\n",
    "# ваша фруктовая корзина, нужно будет посчитать среднее по каждой колонке\n",
    "# вы можете сделать это примерно так\n",
    "sumLow, sumHigh = 0, 0\n",
    "for el in lst:\n",
    "    sumLow += el[1]\n",
    "    sumHigh += el[2]\n",
    "sumLow /= len(lst)\n",
    "sumHigh /= len(lst)\n",
    "print(sumLow, sumHigh)\n",
    "\n",
    "# или применить кунг-фу списковых выражений и обойтись парой строк :)\n",
    "print(sum([priceLow for fruit, priceLow, priceHigh in lst]) / len(lst))\n",
    "print(sum([priceHigh for fruit, priceLow, priceHigh in lst]) / len(lst))\n",
    "\n",
    "# а где два принта, там и один :)\n",
    "print(sum([priceLow for fruit, priceLow, priceHigh in lst]) / len(lst), sum([priceHigh for fruit, priceLow, priceHigh in lst]) / len(lst))\n",
    "\n",
    "# надеюсь, вам было понятно и интересно\n",
    "# желаю успехов в учёбе!!!"
   ]
  },
  {
   "cell_type": "code",
   "execution_count": null,
   "metadata": {},
   "outputs": [],
   "source": [
    "\"\"\"\n",
    "!!!!\n",
    "with open(\"dataset.txt\") as file:\n",
    "    s1=file.read().decode(encoding='UTF-8')\n",
    "print(s1)\"\"\"\n",
    "from statistics import mean\n",
    "import io\n",
    "d = {}\n",
    "with io.open(\"dataset_3363_4.txt\", encoding='utf-8') as file:    \n",
    "    for line in file:    \n",
    "        l = [c for c in line.split(\";\")]\n",
    "        li = list(map(int, l[1:]))\n",
    "        m = mean(li)        \n",
    "        li.append(m)\n",
    "        #d [l[0]]=[l[1:-1].append(m)]\n",
    "        d [l[0]]=li\n",
    "    a = [mean([(rus) for rus, bio, math, me in d.values()]), \\\n",
    "         mean([(bio) for rus, bio, math, me in d.values()]), \\\n",
    "         mean([(math) for rus, bio, math, me in d.values()])]\n",
    "    d[\"_a_\"] = a\n",
    "   \n",
    "print(d)\n",
    "{print(k,v[-1]) for k,v in d.items() if k != \"_a_\"}\n",
    "print(\" \".join(str(d[\"_a_\"]).strip(\"[]\").split(\", \")))\n",
    "with open(\"answer_3363_4.txt\", 'w') as file:\n",
    "    {file.write(str(v[-1])+\"\\n\") for k,v in d.items() if k != \"_a_\"}\n",
    "with open(\"answer_3363_4.txt\", 'a') as file:\n",
    "    file.write(\" \".join(str(d[\"_a_\"]).strip(\"[]\").split(\", \")))\n"
   ]
  },
  {
   "cell_type": "markdown",
   "metadata": {},
   "source": [
    "Напишите программу, которая подключает модуль math и, используя значение числа π \\pi π из этого модуля, находит для переданного ей на стандартный ввод радиуса круга периметр этого круга и выводит его на стандартный вывод.\n",
    "Sample Input:\n",
    "10.0\n",
    "Sample Output:\n",
    "62.83185307179586"
   ]
  },
  {
   "cell_type": "code",
   "execution_count": null,
   "metadata": {},
   "outputs": [],
   "source": [
    "import math\n",
    "r = float(input())\n",
    "print(2*math.pi*r)"
   ]
  },
  {
   "cell_type": "markdown",
   "metadata": {},
   "source": [
    "Напишите программу, которая запускается из консоли и печатает значения всех переданных аргументов на экран (имя скрипта выводить не нужно). Не изменяйте порядок аргументов при выводе.\n",
    "\n",
    "Для доступа к аргументам командной строки программы подключите модуль sys и используйте переменную argv из этого модуля.\n",
    "\n",
    "Пример работы программы:\n",
    "\n",
    "> python3 my_solution.py arg1 arg2\n",
    "arg1 arg2\n",
    "\n",
    "-----\n",
    "https://stepik.org/lesson/3377/step/3?discussion=248476&unit=960\n",
    "Можно так лист без скобок и запятых печатать: \n",
    "\n",
    "list = [1,2,3,4,5]\n",
    "print(*list)"
   ]
  },
  {
   "cell_type": "code",
   "execution_count": null,
   "metadata": {},
   "outputs": [],
   "source": [
    "import sys\n",
    "print(*sys.argv[1:])\n",
    "#print((str(\" \".join(str(sys.argv[1:]).strip(\"[]\").split(\", \")))).strip(\"''\"))"
   ]
  },
  {
   "cell_type": "markdown",
   "metadata": {},
   "source": [
    "Скачайте файл. В нём указан адрес другого файла, который нужно скачать с использованием модуля requests и посчитать число строк в нём.\n",
    "\n",
    "Используйте функцию get для получения файла (имеет смысл вызвать метод strip к передаваемому параметру, чтобы убрать пробельные символы по краям).\n",
    "\n",
    "После получения файла вы можете проверить результат, обратившись к полю text. Если результат работы скрипта не принимается, проверьте поле url на правильность. Для подсчёта количества строк разбейте текст с помощью метода splitlines.\n",
    "\n",
    "В поле ответа введите одно число или отправьте файл, содержащий одно число.\n"
   ]
  },
  {
   "cell_type": "code",
   "execution_count": null,
   "metadata": {},
   "outputs": [],
   "source": [
    "import requests\n",
    "with open(\"dataset_3378_2.txt\") as file:\n",
    "    s1=file.read()#.decode(encoding='UTF-8')\n",
    "s1=s1.strip()\n",
    "r = requests.get(s1)\n",
    "print(r.text)\n",
    "#with open(r.text) as file1:    \n",
    "    #c=file1.count()\n",
    "    #for f in file:\n",
    "c= (r.text).count(\"\\n\")\n",
    "print(c)\n",
    "        \n",
    "    "
   ]
  },
  {
   "cell_type": "markdown",
   "metadata": {},
   "source": [
    "Имеется набор файлов, каждый из которых, кроме последнего, содержит имя следующего файла.\n",
    "Первое слово в тексте последнего файла: \"We\".\n",
    "\n",
    "Скачайте предложенный файл. В нём содержится ссылка на первый файл из этого набора.\n",
    "\n",
    "Все файлы располагаются в каталоге по адресу:\n",
    "https://stepic.org/media/attachments/course67/3.6.3/\n",
    "\n",
    "Загрузите содержимое ﻿последнего файла из набора, как ответ на это задание."
   ]
  },
  {
   "cell_type": "code",
   "execution_count": null,
   "metadata": {},
   "outputs": [],
   "source": [
    "import requests\n",
    "url=\"https://stepic.org/media/attachments/course67/3.6.3/\"\n",
    "with open(\"dataset_3378_3.txt\") as file:\n",
    "    s1=file.read()#.decode(encoding='UTF-8')\n",
    "s1=s1.strip()\n",
    "print(s1)\n",
    "while not s1.startswith(\"We\"):\n",
    "    r = requests.get(url+s1 if url not in s1 else s1)\n",
    "    #print(r)\n",
    "    s1 = r.text\n",
    "    #print(s1)\n",
    "print(s1)\n"
   ]
  },
  {
   "cell_type": "code",
   "execution_count": null,
   "metadata": {},
   "outputs": [],
   "source": []
  },
  {
   "cell_type": "code",
   "execution_count": null,
   "metadata": {},
   "outputs": [],
   "source": [
    "some_list = ['a', 'b', 'c', 'b', 'd', 'm', 'n', 'n']\n",
    "duplicates = set([x for x in some_list if some_list.count(x) > 1])\n",
    "print(duplicates)"
   ]
  },
  {
   "cell_type": "code",
   "execution_count": null,
   "metadata": {},
   "outputs": [],
   "source": []
  },
  {
   "cell_type": "markdown",
   "metadata": {},
   "source": [
    "\n",
    "\n",
    "Напишите программу, которая принимает на стандартный вход список игр футбольных команд с результатом матча и выводит на стандартный вывод сводную таблицу результатов всех матчей.\n",
    "\n",
    "За победу команде начисляется 3 очка, за поражение — 0, за ничью — 1.\n",
    "\n",
    "Формат ввода следующий:\n",
    "В первой строке указано целое число n n n — количество завершенных игр.\n",
    "После этого идет n n n строк, в которых записаны результаты игры в следующем формате:\n",
    "Первая_команда;Забито_первой_командой;Вторая_команда;Забито_второй_командой\n",
    "\n",
    "Вывод программы необходимо оформить следующим образом:\n",
    "Команда:Всего_игр Побед Ничьих Поражений Всего_очков\n",
    "\n",
    "Конкретный пример ввода-вывода приведён ниже.\n",
    "\n",
    "Порядок вывода команд произвольный.\n",
    "\n",
    "Sample Input:\n",
    "3\n",
    "Зенит;3;Спартак;1\n",
    "Спартак;1;ЦСКА;1\n",
    "ЦСКА;0;Зенит;2\n",
    "\n",
    "Sample Output:\n",
    "Зенит:2 2 0 0 6\n",
    "ЦСКА:2 0 1 1 1\n",
    "Спартак:2 0 1 1 1"
   ]
  },
  {
   "cell_type": "code",
   "execution_count": null,
   "metadata": {},
   "outputs": [],
   "source": [
    "\"\"\"print(j) for j in i[0:3:2]\"\"\" \n",
    "n = int(input())\n",
    "\n",
    "game1 = [input().split(\";\") for i in range(n)]\n",
    "print(game1)\n",
    "print(\"game[0:3:2]\",game1[0][0:3:2])\n",
    "print(game1[0][1])\n",
    "#game[-1][1],game[-1][2] = game[-1][2],game[-1][1]\n",
    "teams = {j for i in game1 for j in i[0:3:2]}\n",
    "print(teams)\n",
    "#table = {team:[games, won, lost, scores] for team in teams}\n",
    "#table = {team:[t] for team in teams for t in range(3)}\n",
    "#games = g.count(key) for g in game\n",
    "#won = game.count() if (g[0]=key and g[1]>g[3]) or (g[2] = key and g[1]<g[3]) for g in game\n",
    "#lost = game.count() if (g[0]=key and g[1]<g[3]) or (g[2] = key and g[1]>g[3]) for g in game\n",
    "#eq = game.count() if (g[0]=key and g[1]=g[3]) for g in game\n",
    "#scores = won*3+eq*1\n",
    "# , v[\"lost\"], v[\"equal\"], v[\"scores\"]\n",
    "#\"won\":[44 if g[0]==key and g[1]>g[3] or g[2]==key and g[1]<g[3] else 99 for g in game],\\\n",
    "[print(j)  for i in game1 for j in range(len(i)) if ((j ==0) or (j== 2))]\n",
    "game = [[i[j] if j in [0,2] else int(i[j]) for j in range(len(i))] for i in game1]\n",
    "print(game)\n",
    "table = {key:{} for key in teams}\n",
    "for key in teams:\n",
    "    table[key]= \\\n",
    "         {\"games\":sum(g.count(key) for g in game), \\\n",
    "          \"won\":sum(1 if g[0]==key and g[1]>g[3] or g[2]==key and g[1]<g[3] else 0  for g in game),\\\n",
    "          \"lost\":sum(1 if g[0]==key and g[1]<g[3] or g[2]==key and g[1]>g[3] else 0 for g in game),\\\n",
    "          \"equal\":sum(1 if (g[0]==key or g[2]==key) and g[1]==g[3] else 0 for g in game)\\\n",
    "          } \n",
    "    table[key][\"scores\"]=table[key][\"won\"]*3+table[key][\"equal\"]\n",
    "print(\"first: \",table)\n",
    "\n",
    "\"\"\"\n",
    "table = {key: \\\n",
    "         {\"games\":sum(g.count(key) for g in game), \\\n",
    "          \"won\":sum(1 if g[0]==key and g[1]>g[3] or g[2]==key and g[1]<g[3] else 0  for g in game),\\\n",
    "          \"lost\":sum(1 if g[0]==key and g[1]<g[3] or g[2]==key and g[1]>g[3] else 0 for g in game),\\\n",
    "          \"equal\":sum(1 if (g[0]==key or g[2]==key) and g[1]==g[3] else 0 for g in game),\\\n",
    "          \"scores\":table[key][\"won\"]*3+table[key][\"equal\"] \\\n",
    "          } \\\n",
    "          for key in teams}\n",
    "\n",
    "\n",
    "\n",
    "table = {\"team\":team,\\\n",
    "         \"games\":(),\\\n",
    "         \"won\":(),\\\n",
    "         \"lost\":(),\\\n",
    "         \"equal\":(),\\\n",
    "         \"scores\":()}\"\"\"\n",
    "#{print(k,\":\", v[\"games\"], v[\"won\"], v[\"lost\"], v[\"equal\"], v[\"scores\"]) for k,v in table.items()}\n",
    "print(table)\n",
    "print()\n",
    "for k,v in table.items():\n",
    "    print(k+\":\"+str(v[\"games\"]), v[\"won\"], v[\"equal\"], v[\"lost\"], v[\"scores\"])"
   ]
  },
  {
   "cell_type": "code",
   "execution_count": null,
   "metadata": {},
   "outputs": [],
   "source": [
    "f = {i:[\"h\"*i for i in range(3) if i!=0 ] for i in range(4) } \n",
    "print(f)\n",
    "f1= {i:[\"h\"*i  if i!=0 else 7 for i in range(3)] for i in range(4) } \n",
    "print(f1)"
   ]
  },
  {
   "cell_type": "code",
   "execution_count": null,
   "metadata": {},
   "outputs": [],
   "source": [
    "for j in range (5):\n",
    "    print(j) if (j in {0,2}) else print(8) "
   ]
  },
  {
   "cell_type": "markdown",
   "metadata": {},
   "source": [
    "...подстановочный шифр, т.е. заменяли каждый символ исходного сообщения на соответствующий ему другой символ\n",
    "\n",
    "Напишите программу, которая умеет шифровать и расшифровывать шифр подстановки. Программа принимает на вход две строки одинаковой длины, на первой строке записаны символы исходного алфавита, на второй строке — символы конечного алфавита, после чего идёт строка, которую нужно зашифровать переданным ключом, и ещё одна строка, которую нужно расшифровать.\n",
    "\n",
    "Пусть, например, на вход программе передано:\n",
    "abcd\n",
    "*d%#\n",
    "abacabadaba\n",
    "#*%*d*%\n",
    "\n",
    "Это значит, что символ a исходного сообщения заменяется на символ * в шифре, b заменяется на d, c — на % и d — на #.\n",
    "Нужно зашифровать строку abacabadaba и расшифровать строку #*%*d*% с помощью этого шифра. Получаем следующие строки, которые и передаём на вывод программы:\n",
    "*d*%*d*#*d*\n",
    "dacabac\n",
    "\n",
    "Sample Input 1:\n",
    "\n",
    "abcd\n",
    "*d%#\n",
    "abacabadaba\n",
    "#*%*d*%\n",
    "\n",
    "Sample Output 1:\n",
    "\n",
    "*d*%*d*#*d*\n",
    "dacabac\n",
    "\n",
    "Sample Input 2:\n",
    "\n",
    "dcba\n",
    "badc\n",
    "dcba\n",
    "badc\n",
    "\n",
    "Sample Output 2:\n",
    "\n",
    "badc\n",
    "dcba\n",
    "\n"
   ]
  },
  {
   "cell_type": "code",
   "execution_count": null,
   "metadata": {},
   "outputs": [],
   "source": [
    "\"\"\"s1 = input()\n",
    "s2 = input()\n",
    "s3 = input()\n",
    "s4 = input()\"\"\"\n",
    "s1 = \"abcd\"\n",
    "s2 = \"*d%#\"\n",
    "s3 = \"abacabadaba\"\n",
    "s4 = \"#*%*d*%\"\n",
    "code = dict(zip(s1,s2))\n",
    "print(code)\n",
    "def encode():\n",
    "    return ''.join([code[s] for s in s3])\n",
    "def decode():\n",
    "    return ''.join([s  for n in s4 for s in code.keys()if code[s]==n])\n",
    "print(encode())    \n",
    "print(decode())    \n",
    "    \n"
   ]
  },
  {
   "cell_type": "markdown",
   "metadata": {},
   "source": [
    "\n",
    "\n",
    "Простейшая система проверки орфографии может быть основана на использовании списка известных слов.\n",
    "Если введённое слово не найдено в этом списке, оно помечается как \"ошибка\".\n",
    "\n",
    "Попробуем написать подобную систему.\n",
    "\n",
    "На вход программе первой строкой передаётся количество d d d известных нам слов, после чего на d d d строках указываются эти слова. Затем передаётся количество l l l строк текста для проверки, после чего l l l строк текста.\n",
    "\n",
    "Выведите уникальные \"ошибки\" в произвольном порядке. Работу производите без учёта регистра.\n",
    "\n",
    "Sample Input:\n",
    "\n",
    "4\n",
    "champions\n",
    "we\n",
    "are\n",
    "Ste\n",
    "pik\n",
    "3\n",
    "We are the champignons\n",
    "We Are The Champions\n",
    "Stepic\n",
    "\n",
    "Sample Output:\n",
    "\n",
    "stepic\n",
    "champignons\n",
    "the\n",
    "\n"
   ]
  },
  {
   "cell_type": "code",
   "execution_count": 3,
   "metadata": {},
   "outputs": [
    {
     "name": "stdout",
     "output_type": "stream",
     "text": [
      "4\n",
      "Stepik\n",
      "champions\n",
      "we\n",
      "are\n",
      "3\n",
      "Stepic\n",
      "We are the champignons\n",
      "We Are The Champions\n",
      "the\n",
      "stepic\n",
      "champignons\n"
     ]
    }
   ],
   "source": [
    "d = int(input())\n",
    "words = set()\n",
    "for i in range(d):\n",
    "    words.add(input().lower())\n",
    "mistakes = set()    \n",
    "l = int(input())\n",
    "for i in range(l):\n",
    "    w = input().split()    \n",
    "    for s in w:\n",
    "        if s.lower() not in words:\n",
    "            mistakes.add(s.lower()) \n",
    "for m in mistakes:\n",
    "    print(m)"
   ]
  },
  {
   "cell_type": "markdown",
   "metadata": {},
   "source": [
    "\n",
    "\n",
    "Группа биологов в институте биоинформатики завела себе черепашку.\n",
    "\n",
    "После дрессировки черепашка научилась понимать и запоминать указания биологов следующего вида:\n",
    "север 10\n",
    "запад 20\n",
    "юг 30\n",
    "восток 40\n",
    "где первое слово — это направление, в котором должна двигаться черепашка, а число после слова — это положительное расстояние в сантиметрах, которое должна пройти черепашка.\n",
    "\n",
    "Но команды даются быстро, а черепашка ползёт медленно, и программисты догадались, что можно написать программу, которая определит, куда в итоге биологи приведут черепашку. Для этого программисты просят вас написать программу, которая выведет точку, в которой окажется черепашка после всех команд. Для простоты они решили считать, что движение начинается в точке (0, 0), и движение на восток увеличивает первую координату, а на север — вторую.\n",
    "\n",
    "Программе подаётся на вход число команд n n n, которые нужно выполнить черепашке, после чего n n n строк с самими командами. Вывести нужно два числа в одну строку: первую и вторую координату конечной точки черепашки. Все координаты целочисленные.\n",
    "Sample Input:\n",
    "4\n",
    "север 10\n",
    "запад 20\n",
    "юг 30\n",
    "восток 40\n",
    "Sample Output:\n",
    "20 -20"
   ]
  },
  {
   "cell_type": "code",
   "execution_count": 6,
   "metadata": {},
   "outputs": [
    {
     "name": "stdout",
     "output_type": "stream",
     "text": [
      "1\n",
      "север 10\n",
      "['север', '10']\n",
      "<class 'list'>\n",
      "0 10\n"
     ]
    }
   ],
   "source": [
    "n= int(input())\n",
    "x=0\n",
    "y=0\n",
    "for i in range(n):\n",
    "    w = input().split()\n",
    "    print(w)\n",
    "    print(type(w))\n",
    "    if w[0]=='север':\n",
    "        y+=int(w[1])\n",
    "    if w[0]=='юг':\n",
    "        y-=int(w[1])\n",
    "    if w[0]=='восток':\n",
    "        x+=int(w[1])\n",
    "    if w[0]=='запад':\n",
    "        x-=int(w[1])\n",
    "print(x, y)\n",
    "    "
   ]
  },
  {
   "cell_type": "markdown",
   "metadata": {},
   "source": [
    "Дан файл с таблицей в формате TSV с информацией о росте школьников разных классов.\n",
    "\n",
    "Напишите программу, которая прочитает этот файл и подсчитает для каждого класса средний рост учащегося.\n",
    "\n",
    "Файл состоит из набора строк, каждая из которых представляет собой три поля:\n",
    "Класс Фамилия Рост\n",
    "\n",
    "Класс обозначается только числом. Буквенные модификаторы не используются. Номер класса может быть от 1 до 11 включительно. В фамилии нет пробелов, а в качестве роста используется натуральное число, но при подсчёте среднего требуется вычислить значение в виде вещественного числа.\n",
    "\n",
    "Выводить информацию о среднем росте следует в порядке возрастания номера класса (для классов с первого по одиннадцатый). Если про какой-то класс нет информации, необходимо вывести напротив него прочерк, например:\n",
    " Sample Input:\n",
    "\n",
    "6\tВяххи\t159\n",
    "11\tФедотов\t172\n",
    "7\tБондарев\t158\n",
    "6\tЧайкина\t153\n",
    "\n",
    "Sample Output:\n",
    "\n",
    "1 -\n",
    "2 -\n",
    "3 -\n",
    "4 -\n",
    "5 -\n",
    "6 156.0\n",
    "7 158.0\n",
    "8 -\n",
    "9 -\n",
    "10 -\n",
    "11 172.0"
   ]
  },
  {
   "cell_type": "code",
   "execution_count": 22,
   "metadata": {},
   "outputs": [
    {
     "name": "stdout",
     "output_type": "stream",
     "text": [
      "{1: '-', 2: '-', 3: '-', 4: '-', 5: '-', 6: '-', 7: '-', 8: '-', 9: '-', 10: '-', 11: '-'}\n",
      "1 125.625\n",
      "2 131\n",
      "3 133.6\n",
      "4 139.45454545454547\n",
      "5 145.15384615384616\n",
      "6 157.66666666666666\n",
      "7 158\n",
      "8 165.8181818181818\n",
      "9 171.72727272727272\n",
      "10 170.53846153846155\n",
      "11 174.1818181818182\n"
     ]
    }
   ],
   "source": [
    "from statistics import mean \n",
    "s = {i+1:\"-\" for i in range(11)}\n",
    "print(s)\n",
    "with open(\"dataset_3380_5.txt\") as file:\n",
    "    for s1 in file:\n",
    "        x=s1.split(\"\\t\")\n",
    "        if s[int(x[0])]!=\"-\":\n",
    "            s[int(x[0])] += [int(x[2])]\n",
    "        else:\n",
    "            s[int(x[0])] = [int(x[2])]\n",
    "for i in range (11):\n",
    "    if s[i+1]!=\"-\":\n",
    "            s[i+1] = mean(s[i+1])\n",
    "    print(i+1, s[i+1])\n",
    "        \n",
    "    "
   ]
  },
  {
   "cell_type": "code",
   "execution_count": null,
   "metadata": {},
   "outputs": [],
   "source": []
  }
 ],
 "metadata": {
  "kernelspec": {
   "display_name": "Python 3",
   "language": "python",
   "name": "python3"
  },
  "language_info": {
   "codemirror_mode": {
    "name": "ipython",
    "version": 3
   },
   "file_extension": ".py",
   "mimetype": "text/x-python",
   "name": "python",
   "nbconvert_exporter": "python",
   "pygments_lexer": "ipython3",
   "version": "3.8.0"
  }
 },
 "nbformat": 4,
 "nbformat_minor": 2
}
